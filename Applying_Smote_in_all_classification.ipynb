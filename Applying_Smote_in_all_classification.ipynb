{
  "cells": [
    {
      "cell_type": "markdown",
      "metadata": {
        "id": "view-in-github",
        "colab_type": "text"
      },
      "source": [
        "<a href=\"https://colab.research.google.com/github/skazmiara007/COVID-19_prediction_on-ML_CSE499/blob/main/Applying_Smote_in_all_classification.ipynb\" target=\"_parent\"><img src=\"https://colab.research.google.com/assets/colab-badge.svg\" alt=\"Open In Colab\"/></a>"
      ]
    },
    {
      "cell_type": "code",
      "source": [
        "from google.colab import drive\n",
        "drive.mount('/content/drive')"
      ],
      "metadata": {
        "colab": {
          "base_uri": "https://localhost:8080/"
        },
        "id": "xFTu8BnzvjqR",
        "outputId": "54afb7fd-8526-4872-f325-d0997a63be58"
      },
      "execution_count": null,
      "outputs": [
        {
          "output_type": "stream",
          "name": "stdout",
          "text": [
            "Mounted at /content/drive\n"
          ]
        }
      ]
    },
    {
      "cell_type": "code",
      "execution_count": null,
      "metadata": {
        "id": "MW7CJBtZtgXw"
      },
      "outputs": [],
      "source": [
        "#necessary libraries\n",
        "import pandas as pd\n",
        "import numpy as np"
      ]
    },
    {
      "cell_type": "code",
      "execution_count": null,
      "metadata": {
        "colab": {
          "base_uri": "https://localhost:8080/",
          "height": 206
        },
        "id": "WlgrNhUbtgX5",
        "outputId": "76552723-c8d9-4e92-d0fd-0a64964698a1"
      },
      "outputs": [
        {
          "output_type": "execute_result",
          "data": {
            "text/plain": [
              "    test_date  cough  fever  sore_throat  shortness_of_breath  head_ache  \\\n",
              "0  2020-11-12      0      0            0                    0          0   \n",
              "1  2020-11-12      0      1            0                    0          0   \n",
              "2  2020-11-12      0      0            0                    0          0   \n",
              "3  2020-11-12      0      0            0                    0          0   \n",
              "4  2020-11-12      0      1            0                    0          0   \n",
              "\n",
              "  corona_result age_60_and_above  gender         test_indication  \n",
              "0      negative               No    male                   Other  \n",
              "1      negative               No    male                   Other  \n",
              "2      negative              Yes  female                   Other  \n",
              "3      negative               No    male                   Other  \n",
              "4      negative               No    male  Contact with confirmed  "
            ],
            "text/html": [
              "\n",
              "  <div id=\"df-b65ff700-8edf-4808-93c7-33bc0b300839\">\n",
              "    <div class=\"colab-df-container\">\n",
              "      <div>\n",
              "<style scoped>\n",
              "    .dataframe tbody tr th:only-of-type {\n",
              "        vertical-align: middle;\n",
              "    }\n",
              "\n",
              "    .dataframe tbody tr th {\n",
              "        vertical-align: top;\n",
              "    }\n",
              "\n",
              "    .dataframe thead th {\n",
              "        text-align: right;\n",
              "    }\n",
              "</style>\n",
              "<table border=\"1\" class=\"dataframe\">\n",
              "  <thead>\n",
              "    <tr style=\"text-align: right;\">\n",
              "      <th></th>\n",
              "      <th>test_date</th>\n",
              "      <th>cough</th>\n",
              "      <th>fever</th>\n",
              "      <th>sore_throat</th>\n",
              "      <th>shortness_of_breath</th>\n",
              "      <th>head_ache</th>\n",
              "      <th>corona_result</th>\n",
              "      <th>age_60_and_above</th>\n",
              "      <th>gender</th>\n",
              "      <th>test_indication</th>\n",
              "    </tr>\n",
              "  </thead>\n",
              "  <tbody>\n",
              "    <tr>\n",
              "      <th>0</th>\n",
              "      <td>2020-11-12</td>\n",
              "      <td>0</td>\n",
              "      <td>0</td>\n",
              "      <td>0</td>\n",
              "      <td>0</td>\n",
              "      <td>0</td>\n",
              "      <td>negative</td>\n",
              "      <td>No</td>\n",
              "      <td>male</td>\n",
              "      <td>Other</td>\n",
              "    </tr>\n",
              "    <tr>\n",
              "      <th>1</th>\n",
              "      <td>2020-11-12</td>\n",
              "      <td>0</td>\n",
              "      <td>1</td>\n",
              "      <td>0</td>\n",
              "      <td>0</td>\n",
              "      <td>0</td>\n",
              "      <td>negative</td>\n",
              "      <td>No</td>\n",
              "      <td>male</td>\n",
              "      <td>Other</td>\n",
              "    </tr>\n",
              "    <tr>\n",
              "      <th>2</th>\n",
              "      <td>2020-11-12</td>\n",
              "      <td>0</td>\n",
              "      <td>0</td>\n",
              "      <td>0</td>\n",
              "      <td>0</td>\n",
              "      <td>0</td>\n",
              "      <td>negative</td>\n",
              "      <td>Yes</td>\n",
              "      <td>female</td>\n",
              "      <td>Other</td>\n",
              "    </tr>\n",
              "    <tr>\n",
              "      <th>3</th>\n",
              "      <td>2020-11-12</td>\n",
              "      <td>0</td>\n",
              "      <td>0</td>\n",
              "      <td>0</td>\n",
              "      <td>0</td>\n",
              "      <td>0</td>\n",
              "      <td>negative</td>\n",
              "      <td>No</td>\n",
              "      <td>male</td>\n",
              "      <td>Other</td>\n",
              "    </tr>\n",
              "    <tr>\n",
              "      <th>4</th>\n",
              "      <td>2020-11-12</td>\n",
              "      <td>0</td>\n",
              "      <td>1</td>\n",
              "      <td>0</td>\n",
              "      <td>0</td>\n",
              "      <td>0</td>\n",
              "      <td>negative</td>\n",
              "      <td>No</td>\n",
              "      <td>male</td>\n",
              "      <td>Contact with confirmed</td>\n",
              "    </tr>\n",
              "  </tbody>\n",
              "</table>\n",
              "</div>\n",
              "      <button class=\"colab-df-convert\" onclick=\"convertToInteractive('df-b65ff700-8edf-4808-93c7-33bc0b300839')\"\n",
              "              title=\"Convert this dataframe to an interactive table.\"\n",
              "              style=\"display:none;\">\n",
              "        \n",
              "  <svg xmlns=\"http://www.w3.org/2000/svg\" height=\"24px\"viewBox=\"0 0 24 24\"\n",
              "       width=\"24px\">\n",
              "    <path d=\"M0 0h24v24H0V0z\" fill=\"none\"/>\n",
              "    <path d=\"M18.56 5.44l.94 2.06.94-2.06 2.06-.94-2.06-.94-.94-2.06-.94 2.06-2.06.94zm-11 1L8.5 8.5l.94-2.06 2.06-.94-2.06-.94L8.5 2.5l-.94 2.06-2.06.94zm10 10l.94 2.06.94-2.06 2.06-.94-2.06-.94-.94-2.06-.94 2.06-2.06.94z\"/><path d=\"M17.41 7.96l-1.37-1.37c-.4-.4-.92-.59-1.43-.59-.52 0-1.04.2-1.43.59L10.3 9.45l-7.72 7.72c-.78.78-.78 2.05 0 2.83L4 21.41c.39.39.9.59 1.41.59.51 0 1.02-.2 1.41-.59l7.78-7.78 2.81-2.81c.8-.78.8-2.07 0-2.86zM5.41 20L4 18.59l7.72-7.72 1.47 1.35L5.41 20z\"/>\n",
              "  </svg>\n",
              "      </button>\n",
              "      \n",
              "  <style>\n",
              "    .colab-df-container {\n",
              "      display:flex;\n",
              "      flex-wrap:wrap;\n",
              "      gap: 12px;\n",
              "    }\n",
              "\n",
              "    .colab-df-convert {\n",
              "      background-color: #E8F0FE;\n",
              "      border: none;\n",
              "      border-radius: 50%;\n",
              "      cursor: pointer;\n",
              "      display: none;\n",
              "      fill: #1967D2;\n",
              "      height: 32px;\n",
              "      padding: 0 0 0 0;\n",
              "      width: 32px;\n",
              "    }\n",
              "\n",
              "    .colab-df-convert:hover {\n",
              "      background-color: #E2EBFA;\n",
              "      box-shadow: 0px 1px 2px rgba(60, 64, 67, 0.3), 0px 1px 3px 1px rgba(60, 64, 67, 0.15);\n",
              "      fill: #174EA6;\n",
              "    }\n",
              "\n",
              "    [theme=dark] .colab-df-convert {\n",
              "      background-color: #3B4455;\n",
              "      fill: #D2E3FC;\n",
              "    }\n",
              "\n",
              "    [theme=dark] .colab-df-convert:hover {\n",
              "      background-color: #434B5C;\n",
              "      box-shadow: 0px 1px 3px 1px rgba(0, 0, 0, 0.15);\n",
              "      filter: drop-shadow(0px 1px 2px rgba(0, 0, 0, 0.3));\n",
              "      fill: #FFFFFF;\n",
              "    }\n",
              "  </style>\n",
              "\n",
              "      <script>\n",
              "        const buttonEl =\n",
              "          document.querySelector('#df-b65ff700-8edf-4808-93c7-33bc0b300839 button.colab-df-convert');\n",
              "        buttonEl.style.display =\n",
              "          google.colab.kernel.accessAllowed ? 'block' : 'none';\n",
              "\n",
              "        async function convertToInteractive(key) {\n",
              "          const element = document.querySelector('#df-b65ff700-8edf-4808-93c7-33bc0b300839');\n",
              "          const dataTable =\n",
              "            await google.colab.kernel.invokeFunction('convertToInteractive',\n",
              "                                                     [key], {});\n",
              "          if (!dataTable) return;\n",
              "\n",
              "          const docLinkHtml = 'Like what you see? Visit the ' +\n",
              "            '<a target=\"_blank\" href=https://colab.research.google.com/notebooks/data_table.ipynb>data table notebook</a>'\n",
              "            + ' to learn more about interactive tables.';\n",
              "          element.innerHTML = '';\n",
              "          dataTable['output_type'] = 'display_data';\n",
              "          await google.colab.output.renderOutput(dataTable, element);\n",
              "          const docLink = document.createElement('div');\n",
              "          docLink.innerHTML = docLinkHtml;\n",
              "          element.appendChild(docLink);\n",
              "        }\n",
              "      </script>\n",
              "    </div>\n",
              "  </div>\n",
              "  "
            ]
          },
          "metadata": {},
          "execution_count": 3
        }
      ],
      "source": [
        "#reading the dataset into a dataframe and showing first 5 rows\n",
        "dataframe = pd.read_csv(\"/content/drive/MyDrive/data/corona_tested_individuals_ver_0083.english.csv\", low_memory=False)\n",
        "dataframe.head(5)"
      ]
    },
    {
      "cell_type": "code",
      "execution_count": null,
      "metadata": {
        "id": "TsxeBljgtgX_",
        "outputId": "6e6195b9-015e-4d42-cb8f-ac67ba150e4d",
        "colab": {
          "base_uri": "https://localhost:8080/"
        }
      },
      "outputs": [
        {
          "output_type": "execute_result",
          "data": {
            "text/plain": [
              "(2742596, 10)"
            ]
          },
          "metadata": {},
          "execution_count": 4
        }
      ],
      "source": [
        "#shape of the dataset\n",
        "dataframe.shape"
      ]
    },
    {
      "cell_type": "code",
      "execution_count": null,
      "metadata": {
        "id": "g3LJt6t9tgYB",
        "outputId": "dd0dcf6d-4234-4d9b-a375-543dd9338377",
        "colab": {
          "base_uri": "https://localhost:8080/"
        }
      },
      "outputs": [
        {
          "output_type": "execute_result",
          "data": {
            "text/plain": [
              "test_date                   0\n",
              "cough                       0\n",
              "fever                       0\n",
              "sore_throat                 0\n",
              "shortness_of_breath         0\n",
              "head_ache                   0\n",
              "corona_result               0\n",
              "age_60_and_above       547644\n",
              "gender                  92886\n",
              "test_indication             0\n",
              "dtype: int64"
            ]
          },
          "metadata": {},
          "execution_count": 5
        }
      ],
      "source": [
        "#null values in the dataset\n",
        "dataframe.isnull().sum()"
      ]
    },
    {
      "cell_type": "code",
      "execution_count": null,
      "metadata": {
        "id": "jpqtrwlytgYD"
      },
      "outputs": [],
      "source": [
        "#drop the null values\n",
        "dataframe.dropna(inplace=True)"
      ]
    },
    {
      "cell_type": "code",
      "execution_count": null,
      "metadata": {
        "id": "DCIQULW1tgYF",
        "outputId": "52ec92f3-3fb4-4b20-ee53-9d7257c0e265",
        "colab": {
          "base_uri": "https://localhost:8080/"
        }
      },
      "outputs": [
        {
          "output_type": "execute_result",
          "data": {
            "text/plain": [
              "test_date              0\n",
              "cough                  0\n",
              "fever                  0\n",
              "sore_throat            0\n",
              "shortness_of_breath    0\n",
              "head_ache              0\n",
              "corona_result          0\n",
              "age_60_and_above       0\n",
              "gender                 0\n",
              "test_indication        0\n",
              "dtype: int64"
            ]
          },
          "metadata": {},
          "execution_count": 7
        }
      ],
      "source": [
        "#null values in the dataset after dropping null values\n",
        "dataframe.isnull().sum()"
      ]
    },
    {
      "cell_type": "code",
      "execution_count": null,
      "metadata": {
        "id": "guAngUmztgYH",
        "outputId": "86c7c442-e9a8-47da-e2f9-52979dbc1b43",
        "colab": {
          "base_uri": "https://localhost:8080/"
        }
      },
      "outputs": [
        {
          "output_type": "execute_result",
          "data": {
            "text/plain": [
              "(2186227, 10)"
            ]
          },
          "metadata": {},
          "execution_count": 8
        }
      ],
      "source": [
        "#shape of the dataset after dropping null values\n",
        "dataframe.shape"
      ]
    },
    {
      "cell_type": "code",
      "execution_count": null,
      "metadata": {
        "id": "gCkTDKw0tgYJ",
        "outputId": "7e236ee0-e1ad-40dd-823c-fdcbd6c3bfb0",
        "colab": {
          "base_uri": "https://localhost:8080/",
          "height": 206
        }
      },
      "outputs": [
        {
          "output_type": "execute_result",
          "data": {
            "text/plain": [
              "   cough  fever  sore_throat  shortness_of_breath  head_ache corona_result  \\\n",
              "0      0      0            0                    0          0      negative   \n",
              "1      0      1            0                    0          0      negative   \n",
              "2      0      0            0                    0          0      negative   \n",
              "3      0      0            0                    0          0      negative   \n",
              "4      0      1            0                    0          0      negative   \n",
              "\n",
              "   gender         test_indication  \n",
              "0    male                   Other  \n",
              "1    male                   Other  \n",
              "2  female                   Other  \n",
              "3    male                   Other  \n",
              "4    male  Contact with confirmed  "
            ],
            "text/html": [
              "\n",
              "  <div id=\"df-ca5b0c0e-bf20-4e6d-9a0b-6ba282d88f50\">\n",
              "    <div class=\"colab-df-container\">\n",
              "      <div>\n",
              "<style scoped>\n",
              "    .dataframe tbody tr th:only-of-type {\n",
              "        vertical-align: middle;\n",
              "    }\n",
              "\n",
              "    .dataframe tbody tr th {\n",
              "        vertical-align: top;\n",
              "    }\n",
              "\n",
              "    .dataframe thead th {\n",
              "        text-align: right;\n",
              "    }\n",
              "</style>\n",
              "<table border=\"1\" class=\"dataframe\">\n",
              "  <thead>\n",
              "    <tr style=\"text-align: right;\">\n",
              "      <th></th>\n",
              "      <th>cough</th>\n",
              "      <th>fever</th>\n",
              "      <th>sore_throat</th>\n",
              "      <th>shortness_of_breath</th>\n",
              "      <th>head_ache</th>\n",
              "      <th>corona_result</th>\n",
              "      <th>gender</th>\n",
              "      <th>test_indication</th>\n",
              "    </tr>\n",
              "  </thead>\n",
              "  <tbody>\n",
              "    <tr>\n",
              "      <th>0</th>\n",
              "      <td>0</td>\n",
              "      <td>0</td>\n",
              "      <td>0</td>\n",
              "      <td>0</td>\n",
              "      <td>0</td>\n",
              "      <td>negative</td>\n",
              "      <td>male</td>\n",
              "      <td>Other</td>\n",
              "    </tr>\n",
              "    <tr>\n",
              "      <th>1</th>\n",
              "      <td>0</td>\n",
              "      <td>1</td>\n",
              "      <td>0</td>\n",
              "      <td>0</td>\n",
              "      <td>0</td>\n",
              "      <td>negative</td>\n",
              "      <td>male</td>\n",
              "      <td>Other</td>\n",
              "    </tr>\n",
              "    <tr>\n",
              "      <th>2</th>\n",
              "      <td>0</td>\n",
              "      <td>0</td>\n",
              "      <td>0</td>\n",
              "      <td>0</td>\n",
              "      <td>0</td>\n",
              "      <td>negative</td>\n",
              "      <td>female</td>\n",
              "      <td>Other</td>\n",
              "    </tr>\n",
              "    <tr>\n",
              "      <th>3</th>\n",
              "      <td>0</td>\n",
              "      <td>0</td>\n",
              "      <td>0</td>\n",
              "      <td>0</td>\n",
              "      <td>0</td>\n",
              "      <td>negative</td>\n",
              "      <td>male</td>\n",
              "      <td>Other</td>\n",
              "    </tr>\n",
              "    <tr>\n",
              "      <th>4</th>\n",
              "      <td>0</td>\n",
              "      <td>1</td>\n",
              "      <td>0</td>\n",
              "      <td>0</td>\n",
              "      <td>0</td>\n",
              "      <td>negative</td>\n",
              "      <td>male</td>\n",
              "      <td>Contact with confirmed</td>\n",
              "    </tr>\n",
              "  </tbody>\n",
              "</table>\n",
              "</div>\n",
              "      <button class=\"colab-df-convert\" onclick=\"convertToInteractive('df-ca5b0c0e-bf20-4e6d-9a0b-6ba282d88f50')\"\n",
              "              title=\"Convert this dataframe to an interactive table.\"\n",
              "              style=\"display:none;\">\n",
              "        \n",
              "  <svg xmlns=\"http://www.w3.org/2000/svg\" height=\"24px\"viewBox=\"0 0 24 24\"\n",
              "       width=\"24px\">\n",
              "    <path d=\"M0 0h24v24H0V0z\" fill=\"none\"/>\n",
              "    <path d=\"M18.56 5.44l.94 2.06.94-2.06 2.06-.94-2.06-.94-.94-2.06-.94 2.06-2.06.94zm-11 1L8.5 8.5l.94-2.06 2.06-.94-2.06-.94L8.5 2.5l-.94 2.06-2.06.94zm10 10l.94 2.06.94-2.06 2.06-.94-2.06-.94-.94-2.06-.94 2.06-2.06.94z\"/><path d=\"M17.41 7.96l-1.37-1.37c-.4-.4-.92-.59-1.43-.59-.52 0-1.04.2-1.43.59L10.3 9.45l-7.72 7.72c-.78.78-.78 2.05 0 2.83L4 21.41c.39.39.9.59 1.41.59.51 0 1.02-.2 1.41-.59l7.78-7.78 2.81-2.81c.8-.78.8-2.07 0-2.86zM5.41 20L4 18.59l7.72-7.72 1.47 1.35L5.41 20z\"/>\n",
              "  </svg>\n",
              "      </button>\n",
              "      \n",
              "  <style>\n",
              "    .colab-df-container {\n",
              "      display:flex;\n",
              "      flex-wrap:wrap;\n",
              "      gap: 12px;\n",
              "    }\n",
              "\n",
              "    .colab-df-convert {\n",
              "      background-color: #E8F0FE;\n",
              "      border: none;\n",
              "      border-radius: 50%;\n",
              "      cursor: pointer;\n",
              "      display: none;\n",
              "      fill: #1967D2;\n",
              "      height: 32px;\n",
              "      padding: 0 0 0 0;\n",
              "      width: 32px;\n",
              "    }\n",
              "\n",
              "    .colab-df-convert:hover {\n",
              "      background-color: #E2EBFA;\n",
              "      box-shadow: 0px 1px 2px rgba(60, 64, 67, 0.3), 0px 1px 3px 1px rgba(60, 64, 67, 0.15);\n",
              "      fill: #174EA6;\n",
              "    }\n",
              "\n",
              "    [theme=dark] .colab-df-convert {\n",
              "      background-color: #3B4455;\n",
              "      fill: #D2E3FC;\n",
              "    }\n",
              "\n",
              "    [theme=dark] .colab-df-convert:hover {\n",
              "      background-color: #434B5C;\n",
              "      box-shadow: 0px 1px 3px 1px rgba(0, 0, 0, 0.15);\n",
              "      filter: drop-shadow(0px 1px 2px rgba(0, 0, 0, 0.3));\n",
              "      fill: #FFFFFF;\n",
              "    }\n",
              "  </style>\n",
              "\n",
              "      <script>\n",
              "        const buttonEl =\n",
              "          document.querySelector('#df-ca5b0c0e-bf20-4e6d-9a0b-6ba282d88f50 button.colab-df-convert');\n",
              "        buttonEl.style.display =\n",
              "          google.colab.kernel.accessAllowed ? 'block' : 'none';\n",
              "\n",
              "        async function convertToInteractive(key) {\n",
              "          const element = document.querySelector('#df-ca5b0c0e-bf20-4e6d-9a0b-6ba282d88f50');\n",
              "          const dataTable =\n",
              "            await google.colab.kernel.invokeFunction('convertToInteractive',\n",
              "                                                     [key], {});\n",
              "          if (!dataTable) return;\n",
              "\n",
              "          const docLinkHtml = 'Like what you see? Visit the ' +\n",
              "            '<a target=\"_blank\" href=https://colab.research.google.com/notebooks/data_table.ipynb>data table notebook</a>'\n",
              "            + ' to learn more about interactive tables.';\n",
              "          element.innerHTML = '';\n",
              "          dataTable['output_type'] = 'display_data';\n",
              "          await google.colab.output.renderOutput(dataTable, element);\n",
              "          const docLink = document.createElement('div');\n",
              "          docLink.innerHTML = docLinkHtml;\n",
              "          element.appendChild(docLink);\n",
              "        }\n",
              "      </script>\n",
              "    </div>\n",
              "  </div>\n",
              "  "
            ]
          },
          "metadata": {},
          "execution_count": 9
        }
      ],
      "source": [
        "#dropping the date and age column\n",
        "dataframe.drop('test_date', inplace=True, axis=1)\n",
        "dataframe.drop('age_60_and_above', inplace=True, axis=1)\n",
        "dataframe.head(5)"
      ]
    },
    {
      "cell_type": "code",
      "execution_count": null,
      "metadata": {
        "id": "ObqkGtKAtgYM",
        "outputId": "dc5433f6-589b-4bcf-bc15-98597aea5215",
        "colab": {
          "base_uri": "https://localhost:8080/"
        }
      },
      "outputs": [
        {
          "output_type": "execute_result",
          "data": {
            "text/plain": [
              "cough                  2\n",
              "fever                  2\n",
              "sore_throat            2\n",
              "shortness_of_breath    2\n",
              "head_ache              2\n",
              "corona_result          3\n",
              "gender                 2\n",
              "test_indication        3\n",
              "dtype: int64"
            ]
          },
          "metadata": {},
          "execution_count": 10
        }
      ],
      "source": [
        "#number of unique values in each column\n",
        "dataframe.nunique()"
      ]
    },
    {
      "cell_type": "code",
      "execution_count": null,
      "metadata": {
        "id": "uWmrrh10tgYO",
        "outputId": "5317d950-ab05-4748-89d3-2f124791054a",
        "colab": {
          "base_uri": "https://localhost:8080/"
        }
      },
      "outputs": [
        {
          "output_type": "stream",
          "name": "stdout",
          "text": [
            "cough :  [0 1]\n",
            "fever :  [0 1]\n",
            "sore_throat :  [0 1]\n",
            "shortness_of_breath :  [0 1]\n",
            "head_ache :  [0 1]\n",
            "corona_result :  ['negative' 'positive' 'other']\n",
            "gender :  ['male' 'female']\n",
            "test_indication :  ['Other' 'Contact with confirmed' 'Abroad']\n"
          ]
        }
      ],
      "source": [
        "#unique values in each column\n",
        "for col in dataframe:\n",
        "    print(col, ': ', dataframe[col].unique())"
      ]
    },
    {
      "cell_type": "code",
      "execution_count": null,
      "metadata": {
        "id": "fvttYWyttgYS",
        "outputId": "a689b3f4-f946-4263-d7d2-3a24642c5e88",
        "colab": {
          "base_uri": "https://localhost:8080/"
        }
      },
      "outputs": [
        {
          "output_type": "execute_result",
          "data": {
            "text/plain": [
              "negative    1943172\n",
              "positive     208726\n",
              "Name: corona_result, dtype: int64"
            ]
          },
          "metadata": {},
          "execution_count": 12
        }
      ],
      "source": [
        "#dropping the rows with other corona results\n",
        "dataframe = dataframe[dataframe.corona_result != 'other']\n",
        "dataframe['corona_result'].value_counts()"
      ]
    },
    {
      "cell_type": "code",
      "execution_count": null,
      "metadata": {
        "id": "bYWMYlMftgYU",
        "outputId": "1eb830f1-01dd-4e1d-8386-6e7d6e8fc42e",
        "colab": {
          "base_uri": "https://localhost:8080/"
        }
      },
      "outputs": [
        {
          "output_type": "execute_result",
          "data": {
            "text/plain": [
              "(2151898, 8)"
            ]
          },
          "metadata": {},
          "execution_count": 13
        }
      ],
      "source": [
        "#checking the final shape of the dataset\n",
        "dataframe.shape"
      ]
    },
    {
      "cell_type": "code",
      "execution_count": null,
      "metadata": {
        "id": "4IbyTpxxtgYW",
        "outputId": "99e5d4b7-862c-49f0-e8d0-04f979507b1c",
        "colab": {
          "base_uri": "https://localhost:8080/",
          "height": 568
        }
      },
      "outputs": [
        {
          "output_type": "display_data",
          "data": {
            "text/plain": [
              "<Figure size 1152x576 with 8 Axes>"
            ],
            "image/png": "[encoded data removed]"
          },
          "metadata": {}
        }
      ],
      "source": [
        "#corona_result in term of cough feature\n",
        "import seaborn as sns\n",
        "import matplotlib.pyplot as plt\n",
        "\n",
        "sns.set_theme(style=\"darkgrid\")\n",
        "sns.set(rc={'figure.figsize':(16,8)})\n",
        "fig, ax = plt.subplots(2,4)\n",
        "sns.countplot(x=\"cough\", hue=\"corona_result\", data=dataframe, ax=ax[0,0])\n",
        "sns.countplot(x=\"fever\", hue=\"corona_result\", data=dataframe, ax=ax[0,1])\n",
        "sns.countplot(x=\"sore_throat\", hue=\"corona_result\", data=dataframe, ax=ax[0,2])\n",
        "sns.countplot(x=\"shortness_of_breath\", hue=\"corona_result\", data=dataframe, ax=ax[0,3])\n",
        "sns.countplot(x=\"head_ache\", hue=\"corona_result\", data=dataframe, ax=ax[1,0])\n",
        "#sns.countplot(x=\"age_60_and_above\", hue=\"corona_result\", data=dataframe, ax=ax[1,1])\n",
        "sns.countplot(x=\"gender\", hue=\"corona_result\", data=dataframe, ax=ax[1,1])\n",
        "sns.countplot(x=\"test_indication\", hue=\"corona_result\", data=dataframe, ax=ax[1,2])\n",
        "plt.tight_layout()"
      ]
    },
    {
      "cell_type": "code",
      "execution_count": null,
      "metadata": {
        "id": "DgmxKuyOtgYY",
        "outputId": "17ab06d8-1261-472a-9248-8ea09a24ddea",
        "colab": {
          "base_uri": "https://localhost:8080/",
          "height": 206
        }
      },
      "outputs": [
        {
          "output_type": "execute_result",
          "data": {
            "text/plain": [
              "   cough  fever  sore_throat  shortness_of_breath  head_ache  corona_result  \\\n",
              "0      0      0            0                    0          0              0   \n",
              "1      0      1            0                    0          0              0   \n",
              "2      0      0            0                    0          0              0   \n",
              "3      0      0            0                    0          0              0   \n",
              "4      0      1            0                    0          0              0   \n",
              "\n",
              "   gender  test_indication  \n",
              "0       1                0  \n",
              "1       1                0  \n",
              "2       0                0  \n",
              "3       1                0  \n",
              "4       1                1  "
            ],
            "text/html": [
              "\n",
              "  <div id=\"df-ddc00629-8948-4b02-b452-62cd9596ef38\">\n",
              "    <div class=\"colab-df-container\">\n",
              "      <div>\n",
              "<style scoped>\n",
              "    .dataframe tbody tr th:only-of-type {\n",
              "        vertical-align: middle;\n",
              "    }\n",
              "\n",
              "    .dataframe tbody tr th {\n",
              "        vertical-align: top;\n",
              "    }\n",
              "\n",
              "    .dataframe thead th {\n",
              "        text-align: right;\n",
              "    }\n",
              "</style>\n",
              "<table border=\"1\" class=\"dataframe\">\n",
              "  <thead>\n",
              "    <tr style=\"text-align: right;\">\n",
              "      <th></th>\n",
              "      <th>cough</th>\n",
              "      <th>fever</th>\n",
              "      <th>sore_throat</th>\n",
              "      <th>shortness_of_breath</th>\n",
              "      <th>head_ache</th>\n",
              "      <th>corona_result</th>\n",
              "      <th>gender</th>\n",
              "      <th>test_indication</th>\n",
              "    </tr>\n",
              "  </thead>\n",
              "  <tbody>\n",
              "    <tr>\n",
              "      <th>0</th>\n",
              "      <td>0</td>\n",
              "      <td>0</td>\n",
              "      <td>0</td>\n",
              "      <td>0</td>\n",
              "      <td>0</td>\n",
              "      <td>0</td>\n",
              "      <td>1</td>\n",
              "      <td>0</td>\n",
              "    </tr>\n",
              "    <tr>\n",
              "      <th>1</th>\n",
              "      <td>0</td>\n",
              "      <td>1</td>\n",
              "      <td>0</td>\n",
              "      <td>0</td>\n",
              "      <td>0</td>\n",
              "      <td>0</td>\n",
              "      <td>1</td>\n",
              "      <td>0</td>\n",
              "    </tr>\n",
              "    <tr>\n",
              "      <th>2</th>\n",
              "      <td>0</td>\n",
              "      <td>0</td>\n",
              "      <td>0</td>\n",
              "      <td>0</td>\n",
              "      <td>0</td>\n",
              "      <td>0</td>\n",
              "      <td>0</td>\n",
              "      <td>0</td>\n",
              "    </tr>\n",
              "    <tr>\n",
              "      <th>3</th>\n",
              "      <td>0</td>\n",
              "      <td>0</td>\n",
              "      <td>0</td>\n",
              "      <td>0</td>\n",
              "      <td>0</td>\n",
              "      <td>0</td>\n",
              "      <td>1</td>\n",
              "      <td>0</td>\n",
              "    </tr>\n",
              "    <tr>\n",
              "      <th>4</th>\n",
              "      <td>0</td>\n",
              "      <td>1</td>\n",
              "      <td>0</td>\n",
              "      <td>0</td>\n",
              "      <td>0</td>\n",
              "      <td>0</td>\n",
              "      <td>1</td>\n",
              "      <td>1</td>\n",
              "    </tr>\n",
              "  </tbody>\n",
              "</table>\n",
              "</div>\n",
              "      <button class=\"colab-df-convert\" onclick=\"convertToInteractive('df-ddc00629-8948-4b02-b452-62cd9596ef38')\"\n",
              "              title=\"Convert this dataframe to an interactive table.\"\n",
              "              style=\"display:none;\">\n",
              "        \n",
              "  <svg xmlns=\"http://www.w3.org/2000/svg\" height=\"24px\"viewBox=\"0 0 24 24\"\n",
              "       width=\"24px\">\n",
              "    <path d=\"M0 0h24v24H0V0z\" fill=\"none\"/>\n",
              "    <path d=\"M18.56 5.44l.94 2.06.94-2.06 2.06-.94-2.06-.94-.94-2.06-.94 2.06-2.06.94zm-11 1L8.5 8.5l.94-2.06 2.06-.94-2.06-.94L8.5 2.5l-.94 2.06-2.06.94zm10 10l.94 2.06.94-2.06 2.06-.94-2.06-.94-.94-2.06-.94 2.06-2.06.94z\"/><path d=\"M17.41 7.96l-1.37-1.37c-.4-.4-.92-.59-1.43-.59-.52 0-1.04.2-1.43.59L10.3 9.45l-7.72 7.72c-.78.78-.78 2.05 0 2.83L4 21.41c.39.39.9.59 1.41.59.51 0 1.02-.2 1.41-.59l7.78-7.78 2.81-2.81c.8-.78.8-2.07 0-2.86zM5.41 20L4 18.59l7.72-7.72 1.47 1.35L5.41 20z\"/>\n",
              "  </svg>\n",
              "      </button>\n",
              "      \n",
              "  <style>\n",
              "    .colab-df-container {\n",
              "      display:flex;\n",
              "      flex-wrap:wrap;\n",
              "      gap: 12px;\n",
              "    }\n",
              "\n",
              "    .colab-df-convert {\n",
              "      background-color: #E8F0FE;\n",
              "      border: none;\n",
              "      border-radius: 50%;\n",
              "      cursor: pointer;\n",
              "      display: none;\n",
              "      fill: #1967D2;\n",
              "      height: 32px;\n",
              "      padding: 0 0 0 0;\n",
              "      width: 32px;\n",
              "    }\n",
              "\n",
              "    .colab-df-convert:hover {\n",
              "      background-color: #E2EBFA;\n",
              "      box-shadow: 0px 1px 2px rgba(60, 64, 67, 0.3), 0px 1px 3px 1px rgba(60, 64, 67, 0.15);\n",
              "      fill: #174EA6;\n",
              "    }\n",
              "\n",
              "    [theme=dark] .colab-df-convert {\n",
              "      background-color: #3B4455;\n",
              "      fill: #D2E3FC;\n",
              "    }\n",
              "\n",
              "    [theme=dark] .colab-df-convert:hover {\n",
              "      background-color: #434B5C;\n",
              "      box-shadow: 0px 1px 3px 1px rgba(0, 0, 0, 0.15);\n",
              "      filter: drop-shadow(0px 1px 2px rgba(0, 0, 0, 0.3));\n",
              "      fill: #FFFFFF;\n",
              "    }\n",
              "  </style>\n",
              "\n",
              "      <script>\n",
              "        const buttonEl =\n",
              "          document.querySelector('#df-ddc00629-8948-4b02-b452-62cd9596ef38 button.colab-df-convert');\n",
              "        buttonEl.style.display =\n",
              "          google.colab.kernel.accessAllowed ? 'block' : 'none';\n",
              "\n",
              "        async function convertToInteractive(key) {\n",
              "          const element = document.querySelector('#df-ddc00629-8948-4b02-b452-62cd9596ef38');\n",
              "          const dataTable =\n",
              "            await google.colab.kernel.invokeFunction('convertToInteractive',\n",
              "                                                     [key], {});\n",
              "          if (!dataTable) return;\n",
              "\n",
              "          const docLinkHtml = 'Like what you see? Visit the ' +\n",
              "            '<a target=\"_blank\" href=https://colab.research.google.com/notebooks/data_table.ipynb>data table notebook</a>'\n",
              "            + ' to learn more about interactive tables.';\n",
              "          element.innerHTML = '';\n",
              "          dataTable['output_type'] = 'display_data';\n",
              "          await google.colab.output.renderOutput(dataTable, element);\n",
              "          const docLink = document.createElement('div');\n",
              "          docLink.innerHTML = docLinkHtml;\n",
              "          element.appendChild(docLink);\n",
              "        }\n",
              "      </script>\n",
              "    </div>\n",
              "  </div>\n",
              "  "
            ]
          },
          "metadata": {},
          "execution_count": 15
        }
      ],
      "source": [
        "#convreting the cetegorical values into numerical values\n",
        "pd.options.mode.chained_assignment = None\n",
        "dataframe['corona_result'].replace(['negative', 'positive'], [0, 1], inplace=True)\n",
        "#dataframe['age_60_and_above'].replace(['No', 'Yes'], [0, 1], inplace=True)\n",
        "dataframe['gender'].replace(['male', 'female'], [1, 0], inplace=True)\n",
        "dataframe['test_indication'].replace(['Other', 'Contact with confirmed', 'Abroad'], [0, 1, 2], inplace=True)\n",
        "\n",
        "dataframe.head()"
      ]
    },
    {
      "cell_type": "code",
      "execution_count": null,
      "metadata": {
        "id": "4kBu4NvgtgYa",
        "outputId": "0387aa28-4e51-4451-eb0d-94c4cbcb34ae",
        "colab": {
          "base_uri": "https://localhost:8080/",
          "height": 942
        }
      },
      "outputs": [
        {
          "output_type": "execute_result",
          "data": {
            "text/plain": [
              "<matplotlib.axes._subplots.AxesSubplot at 0x7f33c2c73050>"
            ]
          },
          "metadata": {},
          "execution_count": 16
        },
        {
          "output_type": "display_data",
          "data": {
            "text/plain": [
              "<Figure size 1296x1152 with 2 Axes>"
            ],
            "image/png": "[encoded data removed]"
          },
          "metadata": {}
        }
      ],
      "source": [
        "#ploting a heatmap showing the coorelation\n",
        "plt.figure(figsize=(18, 16))\n",
        "cmap = sns.diverging_palette(230, 20, as_cmap=True)\n",
        "sns.heatmap(dataframe.corr(), cmap=cmap, annot=True)"
      ]
    },
    {
      "cell_type": "markdown",
      "metadata": {
        "id": "_caIpsQktgYb"
      },
      "source": [
        "# Model Training"
      ]
    },
    {
      "cell_type": "markdown",
      "metadata": {
        "id": "GAjZQdcWtgYg"
      },
      "source": [
        "### Spliting data into test and train set"
      ]
    },
    {
      "cell_type": "code",
      "execution_count": null,
      "metadata": {
        "id": "rr_APQSbtgYj"
      },
      "outputs": [],
      "source": [
        "#features\n",
        "X = dataframe.drop('corona_result',axis=1)\n",
        "\n",
        "#target variable\n",
        "y = dataframe['corona_result']"
      ]
    },
    {
      "cell_type": "code",
      "source": [
        "#count of positive and negative case in the dataset\n",
        "from collections import Counter\n",
        "\n",
        "print('Dataset shape %s' % Counter(y))"
      ],
      "metadata": {
        "id": "aPi91Zym37TK",
        "colab": {
          "base_uri": "https://localhost:8080/"
        },
        "outputId": "febda9e2-07e5-456c-abd6-cd374543ccdb"
      },
      "execution_count": null,
      "outputs": [
        {
          "output_type": "stream",
          "name": "stdout",
          "text": [
            "Dataset shape Counter({0: 1943172, 1: 208726})\n"
          ]
        }
      ]
    },
    {
      "cell_type": "code",
      "source": [
        "#plot it for a better visualization\n",
        "class_distribution = pd.Series(y).value_counts(normalize=True)\n",
        "my_colors = ['b', 'r', 'g', 'y', 'k']\n",
        "ax = class_distribution.plot.bar(color=my_colors)"
      ],
      "metadata": {
        "id": "dy-tZGTX4C3t",
        "colab": {
          "base_uri": "https://localhost:8080/",
          "height": 482
        },
        "outputId": "2883e78f-cc72-434a-e19b-df97e8606b47"
      },
      "execution_count": null,
      "outputs": [
        {
          "output_type": "display_data",
          "data": {
            "text/plain": [
              "<Figure size 1152x576 with 1 Axes>"
            ],
            "image/png": "[encoded data removed]"
          },
          "metadata": {}
        }
      ]
    },
    {
      "cell_type": "code",
      "source": [
        "#undersampling data to balance it\n",
        "from imblearn.under_sampling import RandomUnderSampler\n",
        "\n",
        "rus = RandomUnderSampler(sampling_strategy=0.8, random_state=42)\n",
        "X_res, y_res = rus.fit_resample(X, y)\n",
        "print('Resampled dataset shape %s' % Counter(y_res))"
      ],
      "metadata": {
        "id": "9mNs5uMA4IAN",
        "colab": {
          "base_uri": "https://localhost:8080/"
        },
        "outputId": "cdb8f97a-1896-41d4-b360-707386779fd6"
      },
      "execution_count": null,
      "outputs": [
        {
          "output_type": "stream",
          "name": "stdout",
          "text": [
            "Resampled dataset shape Counter({0: 260907, 1: 208726})\n"
          ]
        }
      ]
    },
    {
      "cell_type": "code",
      "source": [
        "#plot it for a better visualization\n",
        "class_distribution = pd.Series(y_res).value_counts(normalize=True)\n",
        "my_colors = ['b', 'r', 'g', 'y', 'k']\n",
        "ax = class_distribution.plot.bar(color=my_colors)"
      ],
      "metadata": {
        "id": "4jkNHzNg4JF1",
        "colab": {
          "base_uri": "https://localhost:8080/",
          "height": 482
        },
        "outputId": "fde01610-0493-4eb6-f29f-6c873a6909d2"
      },
      "execution_count": null,
      "outputs": [
        {
          "output_type": "display_data",
          "data": {
            "text/plain": [
              "<Figure size 1152x576 with 1 Axes>"
            ],
            "image/png": "[encoded data removed]"
          },
          "metadata": {}
        }
      ]
    },
    {
      "cell_type": "code",
      "execution_count": null,
      "metadata": {
        "id": "4zU6UKmxtgYl"
      },
      "outputs": [],
      "source": [
        "#splitting the data into 75% train data and 25% test data\n",
        "from sklearn.model_selection import train_test_split\n",
        "\n",
        "X_train, X_test, y_train, y_test = train_test_split(X,y,test_size=0.25,random_state=101)"
      ]
    },
    {
      "cell_type": "code",
      "execution_count": null,
      "metadata": {
        "id": "iOQqL-mLtgYn",
        "outputId": "dd3d058b-62a9-46ae-8b36-19ca4c32cd5c",
        "colab": {
          "base_uri": "https://localhost:8080/"
        }
      },
      "outputs": [
        {
          "output_type": "execute_result",
          "data": {
            "text/plain": [
              "(1613923, 7)"
            ]
          },
          "metadata": {},
          "execution_count": 24
        }
      ],
      "source": [
        "#number of training data\n",
        "X_train.shape"
      ]
    },
    {
      "cell_type": "code",
      "execution_count": null,
      "metadata": {
        "id": "hS0cTqUItgYq",
        "outputId": "d5653555-73da-4726-865b-bda6b4c91cf8",
        "colab": {
          "base_uri": "https://localhost:8080/"
        }
      },
      "outputs": [
        {
          "output_type": "execute_result",
          "data": {
            "text/plain": [
              "(537975, 7)"
            ]
          },
          "metadata": {},
          "execution_count": 25
        }
      ],
      "source": [
        "#number of test data\n",
        "X_test.shape"
      ]
    },
    {
      "cell_type": "code",
      "source": [
        "from imblearn.over_sampling import SMOTE \n",
        "sm = SMOTE(random_state=0) \n",
        "X_smote, y_smote = sm.fit_resample(X_train, y_train) \n",
        " \n",
        "np.bincount(y_smote)"
      ],
      "metadata": {
        "id": "uY3QIAFK4eko",
        "colab": {
          "base_uri": "https://localhost:8080/"
        },
        "outputId": "78bc7c07-d367-4beb-914d-527e9558c6de"
      },
      "execution_count": null,
      "outputs": [
        {
          "output_type": "execute_result",
          "data": {
            "text/plain": [
              "array([1457216, 1457216])"
            ]
          },
          "metadata": {},
          "execution_count": 26
        }
      ]
    },
    {
      "cell_type": "markdown",
      "source": [
        "**Ensemble**"
      ],
      "metadata": {
        "id": "zz5tvsED4q8R"
      }
    },
    {
      "cell_type": "markdown",
      "source": [
        "**Ada Boost**"
      ],
      "metadata": {
        "id": "KNxezXeK68g2"
      }
    },
    {
      "cell_type": "code",
      "source": [
        "from sklearn import metrics\n",
        "from sklearn.ensemble import AdaBoostClassifier\n",
        "from sklearn.metrics import classification_report\n",
        "adaBoostModel = AdaBoostClassifier(n_estimators=250, learning_rate=1)\n",
        "ada = adaBoostModel.fit(X_smote, y_smote)\n",
        "\n",
        "y_predict = ada.predict(X_test)\n",
        "\n",
        "print(\"Accuracy: \", metrics.accuracy_score(y_test, y_predict))\n",
        "print(classification_report(y_test, y_predict))"
      ],
      "metadata": {
        "colab": {
          "base_uri": "https://localhost:8080/"
        },
        "id": "wnlTHPd17Ee3",
        "outputId": "067468ae-d487-4e2c-945b-5383c1e9f237"
      },
      "execution_count": null,
      "outputs": [
        {
          "output_type": "stream",
          "name": "stdout",
          "text": [
            "Accuracy:  0.9265319020400576\n",
            "              precision    recall  f1-score   support\n",
            "\n",
            "           0       0.96      0.96      0.96    485956\n",
            "           1       0.62      0.63      0.62     52019\n",
            "\n",
            "    accuracy                           0.93    537975\n",
            "   macro avg       0.79      0.79      0.79    537975\n",
            "weighted avg       0.93      0.93      0.93    537975\n",
            "\n"
          ]
        }
      ]
    },
    {
      "cell_type": "markdown",
      "source": [
        "**XgBoost**"
      ],
      "metadata": {
        "id": "X-Js9Z0V7Fem"
      }
    },
    {
      "cell_type": "code",
      "source": [
        "from xgboost.training import train\n",
        "import xgboost as xgb\n",
        "xgbtrain = xgb.DMatrix(X_smote, label=y_smote)\n",
        "xgbtest = xgb.DMatrix(X_test, label=y_test)\n",
        "\n",
        "param = {'max depth': 4, 'eta': 0.25, 'objective': 'multi:softmax', 'num_class': 10}\n",
        "epochs = 15\n",
        "\n",
        "xgbModel = xgb.train(param, xgbtrain, epochs)\n",
        "xgbPredict = xgbModel.predict(xgbtest)\n",
        "\n",
        "print(\"Accuracy: \", metrics.accuracy_score(y_test, xgbPredict))\n",
        "print(classification_report(y_test, xgbPredict))"
      ],
      "metadata": {
        "colab": {
          "base_uri": "https://localhost:8080/"
        },
        "id": "0yZhfJS07KQE",
        "outputId": "dab438c2-ecfb-48ba-913d-a4b2498a611c"
      },
      "execution_count": null,
      "outputs": [
        {
          "output_type": "stream",
          "name": "stdout",
          "text": [
            "Accuracy:  0.9218067754077792\n",
            "              precision    recall  f1-score   support\n",
            "\n",
            "           0       0.96      0.95      0.96    485956\n",
            "           1       0.59      0.65      0.62     52019\n",
            "\n",
            "    accuracy                           0.92    537975\n",
            "   macro avg       0.77      0.80      0.79    537975\n",
            "weighted avg       0.93      0.92      0.92    537975\n",
            "\n"
          ]
        }
      ]
    },
    {
      "cell_type": "markdown",
      "metadata": {
        "id": "Hi-ZaxnYxmtv"
      },
      "source": [
        "### Linear Regression Model"
      ]
    },
    {
      "cell_type": "code",
      "execution_count": null,
      "metadata": {
        "id": "XCd3G3pSx2O8"
      },
      "outputs": [],
      "source": [
        "#necessary library\n",
        "from sklearn.linear_model import LinearRegression"
      ]
    },
    {
      "cell_type": "code",
      "execution_count": null,
      "metadata": {
        "colab": {
          "base_uri": "https://localhost:8080/"
        },
        "id": "XG9cLXGyx569",
        "outputId": "d22fa6f6-020e-4068-c006-58a7e4d01885"
      },
      "outputs": [
        {
          "output_type": "execute_result",
          "data": {
            "text/plain": [
              "LinearRegression()"
            ]
          },
          "metadata": {},
          "execution_count": 30
        }
      ],
      "source": [
        "#training the model\n",
        "model = LinearRegression()\n",
        "model.fit(X_train, y_train)"
      ]
    },
    {
      "cell_type": "code",
      "execution_count": null,
      "metadata": {
        "id": "cTsjiQ6_x6Ek"
      },
      "outputs": [],
      "source": [
        "#prediction on test data\n",
        "predictions = model.predict(X_test)"
      ]
    },
    {
      "cell_type": "code",
      "execution_count": null,
      "metadata": {
        "colab": {
          "base_uri": "https://localhost:8080/"
        },
        "id": "ZWR2VPCCx6Ni",
        "outputId": "238d96d8-a8c8-4f0f-ff5e-dd869868c52f"
      },
      "outputs": [
        {
          "output_type": "execute_result",
          "data": {
            "text/plain": [
              "         Actual  Predicted\n",
              "628549        0   0.056933\n",
              "184491        0   0.056933\n",
              "36036         0   0.056933\n",
              "1633189       0   0.056933\n",
              "1528526       0   0.045882\n",
              "...         ...        ...\n",
              "1141316       0   0.045882\n",
              "371092        0   0.056933\n",
              "101296        0   0.056933\n",
              "66571         0   0.045882\n",
              "1578611       0   0.310784\n",
              "\n",
              "[537975 rows x 2 columns]"
            ],
            "text/html": [
              "\n",
              "  <div id=\"df-2e417ae0-bafb-4274-a71a-6a83c884984c\">\n",
              "    <div class=\"colab-df-container\">\n",
              "      <div>\n",
              "<style scoped>\n",
              "    .dataframe tbody tr th:only-of-type {\n",
              "        vertical-align: middle;\n",
              "    }\n",
              "\n",
              "    .dataframe tbody tr th {\n",
              "        vertical-align: top;\n",
              "    }\n",
              "\n",
              "    .dataframe thead th {\n",
              "        text-align: right;\n",
              "    }\n",
              "</style>\n",
              "<table border=\"1\" class=\"dataframe\">\n",
              "  <thead>\n",
              "    <tr style=\"text-align: right;\">\n",
              "      <th></th>\n",
              "      <th>Actual</th>\n",
              "      <th>Predicted</th>\n",
              "    </tr>\n",
              "  </thead>\n",
              "  <tbody>\n",
              "    <tr>\n",
              "      <th>628549</th>\n",
              "      <td>0</td>\n",
              "      <td>0.056933</td>\n",
              "    </tr>\n",
              "    <tr>\n",
              "      <th>184491</th>\n",
              "      <td>0</td>\n",
              "      <td>0.056933</td>\n",
              "    </tr>\n",
              "    <tr>\n",
              "      <th>36036</th>\n",
              "      <td>0</td>\n",
              "      <td>0.056933</td>\n",
              "    </tr>\n",
              "    <tr>\n",
              "      <th>1633189</th>\n",
              "      <td>0</td>\n",
              "      <td>0.056933</td>\n",
              "    </tr>\n",
              "    <tr>\n",
              "      <th>1528526</th>\n",
              "      <td>0</td>\n",
              "      <td>0.045882</td>\n",
              "    </tr>\n",
              "    <tr>\n",
              "      <th>...</th>\n",
              "      <td>...</td>\n",
              "      <td>...</td>\n",
              "    </tr>\n",
              "    <tr>\n",
              "      <th>1141316</th>\n",
              "      <td>0</td>\n",
              "      <td>0.045882</td>\n",
              "    </tr>\n",
              "    <tr>\n",
              "      <th>371092</th>\n",
              "      <td>0</td>\n",
              "      <td>0.056933</td>\n",
              "    </tr>\n",
              "    <tr>\n",
              "      <th>101296</th>\n",
              "      <td>0</td>\n",
              "      <td>0.056933</td>\n",
              "    </tr>\n",
              "    <tr>\n",
              "      <th>66571</th>\n",
              "      <td>0</td>\n",
              "      <td>0.045882</td>\n",
              "    </tr>\n",
              "    <tr>\n",
              "      <th>1578611</th>\n",
              "      <td>0</td>\n",
              "      <td>0.310784</td>\n",
              "    </tr>\n",
              "  </tbody>\n",
              "</table>\n",
              "<p>537975 rows × 2 columns</p>\n",
              "</div>\n",
              "      <button class=\"colab-df-convert\" onclick=\"convertToInteractive('df-2e417ae0-bafb-4274-a71a-6a83c884984c')\"\n",
              "              title=\"Convert this dataframe to an interactive table.\"\n",
              "              style=\"display:none;\">\n",
              "        \n",
              "  <svg xmlns=\"http://www.w3.org/2000/svg\" height=\"24px\"viewBox=\"0 0 24 24\"\n",
              "       width=\"24px\">\n",
              "    <path d=\"M0 0h24v24H0V0z\" fill=\"none\"/>\n",
              "    <path d=\"M18.56 5.44l.94 2.06.94-2.06 2.06-.94-2.06-.94-.94-2.06-.94 2.06-2.06.94zm-11 1L8.5 8.5l.94-2.06 2.06-.94-2.06-.94L8.5 2.5l-.94 2.06-2.06.94zm10 10l.94 2.06.94-2.06 2.06-.94-2.06-.94-.94-2.06-.94 2.06-2.06.94z\"/><path d=\"M17.41 7.96l-1.37-1.37c-.4-.4-.92-.59-1.43-.59-.52 0-1.04.2-1.43.59L10.3 9.45l-7.72 7.72c-.78.78-.78 2.05 0 2.83L4 21.41c.39.39.9.59 1.41.59.51 0 1.02-.2 1.41-.59l7.78-7.78 2.81-2.81c.8-.78.8-2.07 0-2.86zM5.41 20L4 18.59l7.72-7.72 1.47 1.35L5.41 20z\"/>\n",
              "  </svg>\n",
              "      </button>\n",
              "      \n",
              "  <style>\n",
              "    .colab-df-container {\n",
              "      display:flex;\n",
              "      flex-wrap:wrap;\n",
              "      gap: 12px;\n",
              "    }\n",
              "\n",
              "    .colab-df-convert {\n",
              "      background-color: #E8F0FE;\n",
              "      border: none;\n",
              "      border-radius: 50%;\n",
              "      cursor: pointer;\n",
              "      display: none;\n",
              "      fill: #1967D2;\n",
              "      height: 32px;\n",
              "      padding: 0 0 0 0;\n",
              "      width: 32px;\n",
              "    }\n",
              "\n",
              "    .colab-df-convert:hover {\n",
              "      background-color: #E2EBFA;\n",
              "      box-shadow: 0px 1px 2px rgba(60, 64, 67, 0.3), 0px 1px 3px 1px rgba(60, 64, 67, 0.15);\n",
              "      fill: #174EA6;\n",
              "    }\n",
              "\n",
              "    [theme=dark] .colab-df-convert {\n",
              "      background-color: #3B4455;\n",
              "      fill: #D2E3FC;\n",
              "    }\n",
              "\n",
              "    [theme=dark] .colab-df-convert:hover {\n",
              "      background-color: #434B5C;\n",
              "      box-shadow: 0px 1px 3px 1px rgba(0, 0, 0, 0.15);\n",
              "      filter: drop-shadow(0px 1px 2px rgba(0, 0, 0, 0.3));\n",
              "      fill: #FFFFFF;\n",
              "    }\n",
              "  </style>\n",
              "\n",
              "      <script>\n",
              "        const buttonEl =\n",
              "          document.querySelector('#df-2e417ae0-bafb-4274-a71a-6a83c884984c button.colab-df-convert');\n",
              "        buttonEl.style.display =\n",
              "          google.colab.kernel.accessAllowed ? 'block' : 'none';\n",
              "\n",
              "        async function convertToInteractive(key) {\n",
              "          const element = document.querySelector('#df-2e417ae0-bafb-4274-a71a-6a83c884984c');\n",
              "          const dataTable =\n",
              "            await google.colab.kernel.invokeFunction('convertToInteractive',\n",
              "                                                     [key], {});\n",
              "          if (!dataTable) return;\n",
              "\n",
              "          const docLinkHtml = 'Like what you see? Visit the ' +\n",
              "            '<a target=\"_blank\" href=https://colab.research.google.com/notebooks/data_table.ipynb>data table notebook</a>'\n",
              "            + ' to learn more about interactive tables.';\n",
              "          element.innerHTML = '';\n",
              "          dataTable['output_type'] = 'display_data';\n",
              "          await google.colab.output.renderOutput(dataTable, element);\n",
              "          const docLink = document.createElement('div');\n",
              "          docLink.innerHTML = docLinkHtml;\n",
              "          element.appendChild(docLink);\n",
              "        }\n",
              "      </script>\n",
              "    </div>\n",
              "  </div>\n",
              "  "
            ]
          },
          "metadata": {},
          "execution_count": 32
        }
      ],
      "source": [
        "#showing the actual corona result and predicted corona result side by side\n",
        "result = pd.DataFrame({'Actual': y_test, 'Predicted': predictions})\n",
        "result"
      ]
    },
    {
      "cell_type": "code",
      "execution_count": null,
      "metadata": {
        "colab": {
          "base_uri": "https://localhost:8080/"
        },
        "id": "E6dnp8Chx6Ve",
        "outputId": "460ed045-331c-4b02-89a6-d1d77534ac4a"
      },
      "outputs": [
        {
          "output_type": "execute_result",
          "data": {
            "text/plain": [
              "0.26810268162590123"
            ]
          },
          "metadata": {},
          "execution_count": 33
        }
      ],
      "source": [
        "#model's accurary score\n",
        "model.score(X_test, y_test)"
      ]
    },
    {
      "cell_type": "code",
      "execution_count": null,
      "metadata": {
        "id": "_Rn9mUXlx6dZ"
      },
      "outputs": [],
      "source": [
        "#save the model\n",
        "import pickle\n",
        "\n",
        "filename = 'LinearRegression_model.sav'\n",
        "pickle.dump(model, open(filename, 'wb'))"
      ]
    },
    {
      "cell_type": "markdown",
      "metadata": {
        "id": "oVP_WLFbjj7e"
      },
      "source": [
        "### Apply smote in Logistic Regression Model"
      ]
    },
    {
      "cell_type": "code",
      "execution_count": null,
      "metadata": {
        "id": "3r9yIXeGjj7e"
      },
      "outputs": [],
      "source": [
        "#necessary library\n",
        "from sklearn.linear_model import LogisticRegression"
      ]
    },
    {
      "cell_type": "code",
      "execution_count": null,
      "metadata": {
        "colab": {
          "base_uri": "https://localhost:8080/"
        },
        "outputId": "23de3e68-b552-4118-e928-26ff67cd38d4",
        "id": "El16IWCYjj7e"
      },
      "outputs": [
        {
          "output_type": "execute_result",
          "data": {
            "text/plain": [
              "LogisticRegression()"
            ]
          },
          "metadata": {},
          "execution_count": 36
        }
      ],
      "source": [
        "#training the model\n",
        "log_model = LogisticRegression()\n",
        "log_model.fit(X_smote, y_smote)"
      ]
    },
    {
      "cell_type": "code",
      "execution_count": null,
      "metadata": {
        "id": "PcwBAztDjj7f"
      },
      "outputs": [],
      "source": [
        "#prediction on test data\n",
        "predictions = log_model.predict(X_test)"
      ]
    },
    {
      "cell_type": "code",
      "execution_count": null,
      "metadata": {
        "colab": {
          "base_uri": "https://localhost:8080/",
          "height": 423
        },
        "outputId": "d2b1f552-f412-4141-f09a-1911abe1b118",
        "id": "HQa5fiqEjj7f"
      },
      "outputs": [
        {
          "output_type": "execute_result",
          "data": {
            "text/plain": [
              "         Actual  Predicted\n",
              "628549        0          0\n",
              "184491        0          0\n",
              "36036         0          0\n",
              "1633189       0          0\n",
              "1528526       0          0\n",
              "...         ...        ...\n",
              "1141316       0          0\n",
              "371092        0          0\n",
              "101296        0          0\n",
              "66571         0          0\n",
              "1578611       0          1\n",
              "\n",
              "[537975 rows x 2 columns]"
            ],
            "text/html": [
              "\n",
              "  <div id=\"df-8e3b29d8-32c3-4a59-b509-5c858051bcea\">\n",
              "    <div class=\"colab-df-container\">\n",
              "      <div>\n",
              "<style scoped>\n",
              "    .dataframe tbody tr th:only-of-type {\n",
              "        vertical-align: middle;\n",
              "    }\n",
              "\n",
              "    .dataframe tbody tr th {\n",
              "        vertical-align: top;\n",
              "    }\n",
              "\n",
              "    .dataframe thead th {\n",
              "        text-align: right;\n",
              "    }\n",
              "</style>\n",
              "<table border=\"1\" class=\"dataframe\">\n",
              "  <thead>\n",
              "    <tr style=\"text-align: right;\">\n",
              "      <th></th>\n",
              "      <th>Actual</th>\n",
              "      <th>Predicted</th>\n",
              "    </tr>\n",
              "  </thead>\n",
              "  <tbody>\n",
              "    <tr>\n",
              "      <th>628549</th>\n",
              "      <td>0</td>\n",
              "      <td>0</td>\n",
              "    </tr>\n",
              "    <tr>\n",
              "      <th>184491</th>\n",
              "      <td>0</td>\n",
              "      <td>0</td>\n",
              "    </tr>\n",
              "    <tr>\n",
              "      <th>36036</th>\n",
              "      <td>0</td>\n",
              "      <td>0</td>\n",
              "    </tr>\n",
              "    <tr>\n",
              "      <th>1633189</th>\n",
              "      <td>0</td>\n",
              "      <td>0</td>\n",
              "    </tr>\n",
              "    <tr>\n",
              "      <th>1528526</th>\n",
              "      <td>0</td>\n",
              "      <td>0</td>\n",
              "    </tr>\n",
              "    <tr>\n",
              "      <th>...</th>\n",
              "      <td>...</td>\n",
              "      <td>...</td>\n",
              "    </tr>\n",
              "    <tr>\n",
              "      <th>1141316</th>\n",
              "      <td>0</td>\n",
              "      <td>0</td>\n",
              "    </tr>\n",
              "    <tr>\n",
              "      <th>371092</th>\n",
              "      <td>0</td>\n",
              "      <td>0</td>\n",
              "    </tr>\n",
              "    <tr>\n",
              "      <th>101296</th>\n",
              "      <td>0</td>\n",
              "      <td>0</td>\n",
              "    </tr>\n",
              "    <tr>\n",
              "      <th>66571</th>\n",
              "      <td>0</td>\n",
              "      <td>0</td>\n",
              "    </tr>\n",
              "    <tr>\n",
              "      <th>1578611</th>\n",
              "      <td>0</td>\n",
              "      <td>1</td>\n",
              "    </tr>\n",
              "  </tbody>\n",
              "</table>\n",
              "<p>537975 rows × 2 columns</p>\n",
              "</div>\n",
              "      <button class=\"colab-df-convert\" onclick=\"convertToInteractive('df-8e3b29d8-32c3-4a59-b509-5c858051bcea')\"\n",
              "              title=\"Convert this dataframe to an interactive table.\"\n",
              "              style=\"display:none;\">\n",
              "        \n",
              "  <svg xmlns=\"http://www.w3.org/2000/svg\" height=\"24px\"viewBox=\"0 0 24 24\"\n",
              "       width=\"24px\">\n",
              "    <path d=\"M0 0h24v24H0V0z\" fill=\"none\"/>\n",
              "    <path d=\"M18.56 5.44l.94 2.06.94-2.06 2.06-.94-2.06-.94-.94-2.06-.94 2.06-2.06.94zm-11 1L8.5 8.5l.94-2.06 2.06-.94-2.06-.94L8.5 2.5l-.94 2.06-2.06.94zm10 10l.94 2.06.94-2.06 2.06-.94-2.06-.94-.94-2.06-.94 2.06-2.06.94z\"/><path d=\"M17.41 7.96l-1.37-1.37c-.4-.4-.92-.59-1.43-.59-.52 0-1.04.2-1.43.59L10.3 9.45l-7.72 7.72c-.78.78-.78 2.05 0 2.83L4 21.41c.39.39.9.59 1.41.59.51 0 1.02-.2 1.41-.59l7.78-7.78 2.81-2.81c.8-.78.8-2.07 0-2.86zM5.41 20L4 18.59l7.72-7.72 1.47 1.35L5.41 20z\"/>\n",
              "  </svg>\n",
              "      </button>\n",
              "      \n",
              "  <style>\n",
              "    .colab-df-container {\n",
              "      display:flex;\n",
              "      flex-wrap:wrap;\n",
              "      gap: 12px;\n",
              "    }\n",
              "\n",
              "    .colab-df-convert {\n",
              "      background-color: #E8F0FE;\n",
              "      border: none;\n",
              "      border-radius: 50%;\n",
              "      cursor: pointer;\n",
              "      display: none;\n",
              "      fill: #1967D2;\n",
              "      height: 32px;\n",
              "      padding: 0 0 0 0;\n",
              "      width: 32px;\n",
              "    }\n",
              "\n",
              "    .colab-df-convert:hover {\n",
              "      background-color: #E2EBFA;\n",
              "      box-shadow: 0px 1px 2px rgba(60, 64, 67, 0.3), 0px 1px 3px 1px rgba(60, 64, 67, 0.15);\n",
              "      fill: #174EA6;\n",
              "    }\n",
              "\n",
              "    [theme=dark] .colab-df-convert {\n",
              "      background-color: #3B4455;\n",
              "      fill: #D2E3FC;\n",
              "    }\n",
              "\n",
              "    [theme=dark] .colab-df-convert:hover {\n",
              "      background-color: #434B5C;\n",
              "      box-shadow: 0px 1px 3px 1px rgba(0, 0, 0, 0.15);\n",
              "      filter: drop-shadow(0px 1px 2px rgba(0, 0, 0, 0.3));\n",
              "      fill: #FFFFFF;\n",
              "    }\n",
              "  </style>\n",
              "\n",
              "      <script>\n",
              "        const buttonEl =\n",
              "          document.querySelector('#df-8e3b29d8-32c3-4a59-b509-5c858051bcea button.colab-df-convert');\n",
              "        buttonEl.style.display =\n",
              "          google.colab.kernel.accessAllowed ? 'block' : 'none';\n",
              "\n",
              "        async function convertToInteractive(key) {\n",
              "          const element = document.querySelector('#df-8e3b29d8-32c3-4a59-b509-5c858051bcea');\n",
              "          const dataTable =\n",
              "            await google.colab.kernel.invokeFunction('convertToInteractive',\n",
              "                                                     [key], {});\n",
              "          if (!dataTable) return;\n",
              "\n",
              "          const docLinkHtml = 'Like what you see? Visit the ' +\n",
              "            '<a target=\"_blank\" href=https://colab.research.google.com/notebooks/data_table.ipynb>data table notebook</a>'\n",
              "            + ' to learn more about interactive tables.';\n",
              "          element.innerHTML = '';\n",
              "          dataTable['output_type'] = 'display_data';\n",
              "          await google.colab.output.renderOutput(dataTable, element);\n",
              "          const docLink = document.createElement('div');\n",
              "          docLink.innerHTML = docLinkHtml;\n",
              "          element.appendChild(docLink);\n",
              "        }\n",
              "      </script>\n",
              "    </div>\n",
              "  </div>\n",
              "  "
            ]
          },
          "metadata": {},
          "execution_count": 38
        }
      ],
      "source": [
        "#showing the actual corona result and predicted corona result side by side\n",
        "result = pd.DataFrame({'Actual': y_test, 'Predicted': predictions})\n",
        "result"
      ]
    },
    {
      "cell_type": "code",
      "execution_count": null,
      "metadata": {
        "colab": {
          "base_uri": "https://localhost:8080/"
        },
        "outputId": "9a9328a2-98ab-4dc7-9b1f-ca1ff99b0156",
        "id": "aRR2lCzXjj7f"
      },
      "outputs": [
        {
          "output_type": "execute_result",
          "data": {
            "text/plain": [
              "0.9202026116455225"
            ]
          },
          "metadata": {},
          "execution_count": 39
        }
      ],
      "source": [
        "#model's accurary score\n",
        "log_model.score(X_test, y_test)"
      ]
    },
    {
      "cell_type": "code",
      "execution_count": null,
      "metadata": {
        "id": "1hBx679Mjj7g"
      },
      "outputs": [],
      "source": [
        "#save the model\n",
        "import pickle\n",
        "\n",
        "filename = 'LogisticRegression_model.sav'\n",
        "pickle.dump(log_model, open(filename, 'wb'))"
      ]
    },
    {
      "cell_type": "markdown",
      "metadata": {
        "id": "6BmDOP0gjj7g"
      },
      "source": [
        "#### Evaluating logistic regression model"
      ]
    },
    {
      "cell_type": "code",
      "execution_count": null,
      "metadata": {
        "id": "C_j3fj5ejj7g"
      },
      "outputs": [],
      "source": [
        "#necessary library\n",
        "from sklearn.metrics import mean_squared_error, mean_absolute_error, r2_score\n",
        "from sklearn.metrics import confusion_matrix"
      ]
    },
    {
      "cell_type": "code",
      "execution_count": null,
      "metadata": {
        "colab": {
          "base_uri": "https://localhost:8080/"
        },
        "outputId": "f1628b33-b309-499e-fc31-093bd549f271",
        "id": "ZBN8IXFyjj7g"
      },
      "outputs": [
        {
          "output_type": "stream",
          "name": "stdout",
          "text": [
            "              precision    recall  f1-score   support\n",
            "\n",
            "    Negative       0.96      0.95      0.96    485956\n",
            "    Positive       0.58      0.64      0.61     52019\n",
            "\n",
            "    accuracy                           0.92    537975\n",
            "   macro avg       0.77      0.80      0.78    537975\n",
            "weighted avg       0.92      0.92      0.92    537975\n",
            "\n"
          ]
        }
      ],
      "source": [
        "#Classification Report\n",
        "from sklearn.metrics import classification_report\n",
        "\n",
        "print(classification_report(y_test, predictions, target_names=['Negative', 'Positive']))"
      ]
    },
    {
      "cell_type": "code",
      "execution_count": null,
      "metadata": {
        "colab": {
          "base_uri": "https://localhost:8080/",
          "height": 285
        },
        "outputId": "e4bf706b-f31a-491f-9e38-9cbdc3938c2f",
        "id": "ClOpJTn1jj7g"
      },
      "outputs": [
        {
          "output_type": "display_data",
          "data": {
            "text/plain": [
              "<Figure size 432x288 with 1 Axes>"
            ],
            "image/png": "[encoded data removed]"
          },
          "metadata": {}
        }
      ],
      "source": [
        "#confusion matrix\n",
        "\n",
        "cm = confusion_matrix(y_test, predictions)\n",
        "\n",
        "plt.figure(figsize=(6,4))\n",
        "sns.heatmap(cm, annot=True, square=True,  fmt='d',\n",
        "           cmap=plt.cm.Blues, cbar=False)\n",
        "plt.ylabel('True Labels', fontsize=12)\n",
        "plt.xlabel('Predicted Labels', fontsize=12)\n",
        "plt.show()\n"
      ]
    },
    {
      "cell_type": "code",
      "execution_count": null,
      "metadata": {
        "colab": {
          "base_uri": "https://localhost:8080/"
        },
        "outputId": "c409c283-d1dc-4d19-9b51-32ff5a20957f",
        "id": "m6Era08rjj7h"
      },
      "outputs": [
        {
          "output_type": "execute_result",
          "data": {
            "text/plain": [
              "0.07979738835447744"
            ]
          },
          "metadata": {},
          "execution_count": 44
        }
      ],
      "source": [
        "#mean squared error\n",
        "mean_squared_error(y_test, predictions)"
      ]
    },
    {
      "cell_type": "code",
      "execution_count": null,
      "metadata": {
        "colab": {
          "base_uri": "https://localhost:8080/"
        },
        "outputId": "4ec06714-f72d-4bea-9235-c1a6cff1ea8a",
        "id": "uIB3BFdEjj7h"
      },
      "outputs": [
        {
          "output_type": "execute_result",
          "data": {
            "text/plain": [
              "0.07979738835447744"
            ]
          },
          "metadata": {},
          "execution_count": 45
        }
      ],
      "source": [
        "#mean absolute error\n",
        "mean_absolute_error(y_test, predictions)"
      ]
    },
    {
      "cell_type": "code",
      "execution_count": null,
      "metadata": {
        "colab": {
          "base_uri": "https://localhost:8080/"
        },
        "outputId": "93f68464-3b23-4fe8-cc94-3ef6da15673c",
        "id": "y69Fg4Q9jj7h"
      },
      "outputs": [
        {
          "output_type": "execute_result",
          "data": {
            "text/plain": [
              "0.08640457008113467"
            ]
          },
          "metadata": {},
          "execution_count": 46
        }
      ],
      "source": [
        "#r2 Score\n",
        "r2_score(y_test, predictions)"
      ]
    },
    {
      "cell_type": "markdown",
      "metadata": {
        "id": "ZfsuiHnP1mBn"
      },
      "source": [
        "### Apply Smote in Decision Tree Model"
      ]
    },
    {
      "cell_type": "code",
      "execution_count": null,
      "metadata": {
        "colab": {
          "base_uri": "https://localhost:8080/"
        },
        "id": "zskmrVeJ1mBn",
        "outputId": "71b98759-957e-46aa-e42b-b3067d6afb6d"
      },
      "outputs": [
        {
          "output_type": "stream",
          "name": "stdout",
          "text": [
            "Depth=  1 :  0.9151466146196384\n",
            "Depth=  2 :  0.9182768716018402\n",
            "Depth=  3 :  0.9272178075189368\n",
            "Depth=  4 :  0.9211078581718481\n",
            "Depth=  5 :  0.9215985872949487\n",
            "Depth=  6 :  0.9218030577629072\n",
            "Depth=  7 :  0.9218049165853431\n",
            "Depth=  8 :  0.9218049165853431\n",
            "Depth=  9 :  0.9218049165853431\n"
          ]
        }
      ],
      "source": [
        "#finding optimum depth for decision tree\n",
        "from sklearn.tree import DecisionTreeClassifier\n",
        "from sklearn.metrics import accuracy_score\n",
        "\n",
        "depth = []\n",
        "for i in range(1, 10):\n",
        "    d_tree = DecisionTreeClassifier(criterion='entropy', random_state=100, max_depth=i)\n",
        "    d_tree.fit(X_smote, y_smote)\n",
        "    y_predict = d_tree.predict(X_test)\n",
        "    depth.append(accuracy_score(y_test, y_predict))\n",
        "    print('Depth= ', i, \": \", accuracy_score(y_test, y_predict))"
      ]
    },
    {
      "cell_type": "code",
      "execution_count": null,
      "metadata": {
        "colab": {
          "base_uri": "https://localhost:8080/"
        },
        "id": "xf4kE56Z1mBo",
        "outputId": "e853730d-e9e7-4ce5-b270-19241fe74d12"
      },
      "outputs": [
        {
          "output_type": "stream",
          "name": "stderr",
          "text": [
            "No handles with labels found to put in legend.\n"
          ]
        },
        {
          "output_type": "display_data",
          "data": {
            "text/plain": [
              "<Figure size 864x576 with 1 Axes>"
            ],
            "image/png": "[encoded data removed]"
          },
          "metadata": {}
        }
      ],
      "source": [
        "\n",
        "#ploting the accuracies for different tree depth\n",
        "plt.figure(figsize=(12, 8))\n",
        "plt.plot(range(1, 10), depth, marker='o')\n",
        "plt.xlabel('Depth', fontsize=20)\n",
        "plt.ylabel('Accuracy', fontsize=20)\n",
        "plt.xticks(range(1, 10))\n",
        "legend_prop = {'weight':'bold'}\n",
        "plt.legend(prop=legend_prop)\n",
        "plt.show()"
      ]
    },
    {
      "cell_type": "code",
      "execution_count": null,
      "metadata": {
        "colab": {
          "base_uri": "https://localhost:8080/"
        },
        "id": "o-iC-Gu61mBo",
        "outputId": "435ff3bd-cc98-418b-869e-81cd36be8013"
      },
      "outputs": [
        {
          "output_type": "execute_result",
          "data": {
            "text/plain": [
              "DecisionTreeClassifier(criterion='entropy', max_depth=7, random_state=100)"
            ]
          },
          "metadata": {},
          "execution_count": 49
        }
      ],
      "source": [
        "#making model with depth=7 for prediction\n",
        "d_tree = DecisionTreeClassifier(criterion='entropy', random_state=100, max_depth=7)\n",
        "d_tree.fit(X_train, y_train)"
      ]
    },
    {
      "cell_type": "code",
      "execution_count": null,
      "metadata": {
        "id": "gUOSIGMg1mBo"
      },
      "outputs": [],
      "source": [
        "#prediction on test data\n",
        "predictions = d_tree.predict(X_test)"
      ]
    },
    {
      "cell_type": "code",
      "execution_count": null,
      "metadata": {
        "colab": {
          "base_uri": "https://localhost:8080/"
        },
        "id": "f-11lDDr1mBo",
        "outputId": "27d8fb9b-d19b-4c4e-eb6e-d1e526806639"
      },
      "outputs": [
        {
          "output_type": "execute_result",
          "data": {
            "text/plain": [
              "         Actual  Predicted\n",
              "628549        0          0\n",
              "184491        0          0\n",
              "36036         0          0\n",
              "1633189       0          0\n",
              "1528526       0          0\n",
              "...         ...        ...\n",
              "1141316       0          0\n",
              "371092        0          0\n",
              "101296        0          0\n",
              "66571         0          0\n",
              "1578611       0          1\n",
              "\n",
              "[537975 rows x 2 columns]"
            ],
            "text/html": [
              "\n",
              "  <div id=\"df-12e92831-c296-4464-8b67-5e4e3915652d\">\n",
              "    <div class=\"colab-df-container\">\n",
              "      <div>\n",
              "<style scoped>\n",
              "    .dataframe tbody tr th:only-of-type {\n",
              "        vertical-align: middle;\n",
              "    }\n",
              "\n",
              "    .dataframe tbody tr th {\n",
              "        vertical-align: top;\n",
              "    }\n",
              "\n",
              "    .dataframe thead th {\n",
              "        text-align: right;\n",
              "    }\n",
              "</style>\n",
              "<table border=\"1\" class=\"dataframe\">\n",
              "  <thead>\n",
              "    <tr style=\"text-align: right;\">\n",
              "      <th></th>\n",
              "      <th>Actual</th>\n",
              "      <th>Predicted</th>\n",
              "    </tr>\n",
              "  </thead>\n",
              "  <tbody>\n",
              "    <tr>\n",
              "      <th>628549</th>\n",
              "      <td>0</td>\n",
              "      <td>0</td>\n",
              "    </tr>\n",
              "    <tr>\n",
              "      <th>184491</th>\n",
              "      <td>0</td>\n",
              "      <td>0</td>\n",
              "    </tr>\n",
              "    <tr>\n",
              "      <th>36036</th>\n",
              "      <td>0</td>\n",
              "      <td>0</td>\n",
              "    </tr>\n",
              "    <tr>\n",
              "      <th>1633189</th>\n",
              "      <td>0</td>\n",
              "      <td>0</td>\n",
              "    </tr>\n",
              "    <tr>\n",
              "      <th>1528526</th>\n",
              "      <td>0</td>\n",
              "      <td>0</td>\n",
              "    </tr>\n",
              "    <tr>\n",
              "      <th>...</th>\n",
              "      <td>...</td>\n",
              "      <td>...</td>\n",
              "    </tr>\n",
              "    <tr>\n",
              "      <th>1141316</th>\n",
              "      <td>0</td>\n",
              "      <td>0</td>\n",
              "    </tr>\n",
              "    <tr>\n",
              "      <th>371092</th>\n",
              "      <td>0</td>\n",
              "      <td>0</td>\n",
              "    </tr>\n",
              "    <tr>\n",
              "      <th>101296</th>\n",
              "      <td>0</td>\n",
              "      <td>0</td>\n",
              "    </tr>\n",
              "    <tr>\n",
              "      <th>66571</th>\n",
              "      <td>0</td>\n",
              "      <td>0</td>\n",
              "    </tr>\n",
              "    <tr>\n",
              "      <th>1578611</th>\n",
              "      <td>0</td>\n",
              "      <td>1</td>\n",
              "    </tr>\n",
              "  </tbody>\n",
              "</table>\n",
              "<p>537975 rows × 2 columns</p>\n",
              "</div>\n",
              "      <button class=\"colab-df-convert\" onclick=\"convertToInteractive('df-12e92831-c296-4464-8b67-5e4e3915652d')\"\n",
              "              title=\"Convert this dataframe to an interactive table.\"\n",
              "              style=\"display:none;\">\n",
              "        \n",
              "  <svg xmlns=\"http://www.w3.org/2000/svg\" height=\"24px\"viewBox=\"0 0 24 24\"\n",
              "       width=\"24px\">\n",
              "    <path d=\"M0 0h24v24H0V0z\" fill=\"none\"/>\n",
              "    <path d=\"M18.56 5.44l.94 2.06.94-2.06 2.06-.94-2.06-.94-.94-2.06-.94 2.06-2.06.94zm-11 1L8.5 8.5l.94-2.06 2.06-.94-2.06-.94L8.5 2.5l-.94 2.06-2.06.94zm10 10l.94 2.06.94-2.06 2.06-.94-2.06-.94-.94-2.06-.94 2.06-2.06.94z\"/><path d=\"M17.41 7.96l-1.37-1.37c-.4-.4-.92-.59-1.43-.59-.52 0-1.04.2-1.43.59L10.3 9.45l-7.72 7.72c-.78.78-.78 2.05 0 2.83L4 21.41c.39.39.9.59 1.41.59.51 0 1.02-.2 1.41-.59l7.78-7.78 2.81-2.81c.8-.78.8-2.07 0-2.86zM5.41 20L4 18.59l7.72-7.72 1.47 1.35L5.41 20z\"/>\n",
              "  </svg>\n",
              "      </button>\n",
              "      \n",
              "  <style>\n",
              "    .colab-df-container {\n",
              "      display:flex;\n",
              "      flex-wrap:wrap;\n",
              "      gap: 12px;\n",
              "    }\n",
              "\n",
              "    .colab-df-convert {\n",
              "      background-color: #E8F0FE;\n",
              "      border: none;\n",
              "      border-radius: 50%;\n",
              "      cursor: pointer;\n",
              "      display: none;\n",
              "      fill: #1967D2;\n",
              "      height: 32px;\n",
              "      padding: 0 0 0 0;\n",
              "      width: 32px;\n",
              "    }\n",
              "\n",
              "    .colab-df-convert:hover {\n",
              "      background-color: #E2EBFA;\n",
              "      box-shadow: 0px 1px 2px rgba(60, 64, 67, 0.3), 0px 1px 3px 1px rgba(60, 64, 67, 0.15);\n",
              "      fill: #174EA6;\n",
              "    }\n",
              "\n",
              "    [theme=dark] .colab-df-convert {\n",
              "      background-color: #3B4455;\n",
              "      fill: #D2E3FC;\n",
              "    }\n",
              "\n",
              "    [theme=dark] .colab-df-convert:hover {\n",
              "      background-color: #434B5C;\n",
              "      box-shadow: 0px 1px 3px 1px rgba(0, 0, 0, 0.15);\n",
              "      filter: drop-shadow(0px 1px 2px rgba(0, 0, 0, 0.3));\n",
              "      fill: #FFFFFF;\n",
              "    }\n",
              "  </style>\n",
              "\n",
              "      <script>\n",
              "        const buttonEl =\n",
              "          document.querySelector('#df-12e92831-c296-4464-8b67-5e4e3915652d button.colab-df-convert');\n",
              "        buttonEl.style.display =\n",
              "          google.colab.kernel.accessAllowed ? 'block' : 'none';\n",
              "\n",
              "        async function convertToInteractive(key) {\n",
              "          const element = document.querySelector('#df-12e92831-c296-4464-8b67-5e4e3915652d');\n",
              "          const dataTable =\n",
              "            await google.colab.kernel.invokeFunction('convertToInteractive',\n",
              "                                                     [key], {});\n",
              "          if (!dataTable) return;\n",
              "\n",
              "          const docLinkHtml = 'Like what you see? Visit the ' +\n",
              "            '<a target=\"_blank\" href=https://colab.research.google.com/notebooks/data_table.ipynb>data table notebook</a>'\n",
              "            + ' to learn more about interactive tables.';\n",
              "          element.innerHTML = '';\n",
              "          dataTable['output_type'] = 'display_data';\n",
              "          await google.colab.output.renderOutput(dataTable, element);\n",
              "          const docLink = document.createElement('div');\n",
              "          docLink.innerHTML = docLinkHtml;\n",
              "          element.appendChild(docLink);\n",
              "        }\n",
              "      </script>\n",
              "    </div>\n",
              "  </div>\n",
              "  "
            ]
          },
          "metadata": {},
          "execution_count": 51
        }
      ],
      "source": [
        "#showing the actual corona result and predicted corona result side by side\n",
        "result = pd.DataFrame({'Actual': y_test, 'Predicted': predictions})\n",
        "result"
      ]
    },
    {
      "cell_type": "code",
      "execution_count": null,
      "metadata": {
        "colab": {
          "base_uri": "https://localhost:8080/"
        },
        "id": "1J-ki-aJ1mBp",
        "outputId": "166ede82-d207-41dc-a8d1-d655962b25af"
      },
      "outputs": [
        {
          "output_type": "execute_result",
          "data": {
            "text/plain": [
              "0.929716064872903"
            ]
          },
          "metadata": {},
          "execution_count": 52
        }
      ],
      "source": [
        "#model's accurary score\n",
        "d_tree.score(X_test, y_test)"
      ]
    },
    {
      "cell_type": "code",
      "execution_count": null,
      "metadata": {
        "id": "Nqvt4l061mBp"
      },
      "outputs": [],
      "source": [
        "#save the model\n",
        "import pickle\n",
        "\n",
        "filename = 'DecisionTree_model.sav'\n",
        "pickle.dump(d_tree, open(filename, 'wb'))"
      ]
    },
    {
      "cell_type": "markdown",
      "metadata": {
        "id": "g6LPNI_Z1mBp"
      },
      "source": [
        "#### Evaluating Decision Tree model"
      ]
    },
    {
      "cell_type": "code",
      "execution_count": null,
      "metadata": {
        "colab": {
          "base_uri": "https://localhost:8080/"
        },
        "id": "uiGY9lQB1mBp",
        "outputId": "04910e16-f8b0-4a31-db58-9fc5c8cdfe20"
      },
      "outputs": [
        {
          "output_type": "stream",
          "name": "stdout",
          "text": [
            "              precision    recall  f1-score   support\n",
            "\n",
            "    Negative       0.96      0.97      0.96    485956\n",
            "    Positive       0.65      0.59      0.62     52019\n",
            "\n",
            "    accuracy                           0.93    537975\n",
            "   macro avg       0.80      0.78      0.79    537975\n",
            "weighted avg       0.93      0.93      0.93    537975\n",
            "\n"
          ]
        }
      ],
      "source": [
        "#classification report for Decision Tree\n",
        "print(classification_report(y_test, predictions, target_names=['Negative', 'Positive']))"
      ]
    },
    {
      "cell_type": "code",
      "execution_count": null,
      "metadata": {
        "colab": {
          "base_uri": "https://localhost:8080/"
        },
        "id": "j2ZPj-9o1mBp",
        "outputId": "d851460a-8010-4a95-da55-b963c0ec3011"
      },
      "outputs": [
        {
          "output_type": "display_data",
          "data": {
            "text/plain": [
              "<Figure size 432x288 with 1 Axes>"
            ],
            "image/png": "[encoded data removed]"
          },
          "metadata": {}
        }
      ],
      "source": [
        "#confusion matrix\n",
        "\n",
        "cm = confusion_matrix(y_test, predictions)\n",
        "\n",
        "plt.figure(figsize=(6,4))\n",
        "sns.heatmap(cm, annot=True, square=True,  fmt='d',\n",
        "           cmap=plt.cm.Blues, cbar=False)\n",
        "plt.ylabel('True Labels', fontsize=12)\n",
        "plt.xlabel('Predicted Labels', fontsize=12)\n",
        "plt.show()"
      ]
    },
    {
      "cell_type": "code",
      "execution_count": null,
      "metadata": {
        "colab": {
          "base_uri": "https://localhost:8080/"
        },
        "id": "_FD8ni131mBq",
        "outputId": "4bf1f3ac-ff7d-4ad5-b1cd-723898ad7145"
      },
      "outputs": [
        {
          "output_type": "execute_result",
          "data": {
            "text/plain": [
              "0.07028393512709698"
            ]
          },
          "metadata": {},
          "execution_count": 56
        }
      ],
      "source": [
        "#mean squared error\n",
        "mean_squared_error(y_test, predictions)"
      ]
    },
    {
      "cell_type": "code",
      "execution_count": null,
      "metadata": {
        "colab": {
          "base_uri": "https://localhost:8080/"
        },
        "id": "V1bHGC5W1mBq",
        "outputId": "7d2b742b-35ac-4f3c-a190-37d9d32edb98"
      },
      "outputs": [
        {
          "output_type": "execute_result",
          "data": {
            "text/plain": [
              "0.07028393512709698"
            ]
          },
          "metadata": {},
          "execution_count": 57
        }
      ],
      "source": [
        "#mean absolute error\n",
        "mean_absolute_error(y_test, predictions)"
      ]
    },
    {
      "cell_type": "code",
      "execution_count": null,
      "metadata": {
        "colab": {
          "base_uri": "https://localhost:8080/"
        },
        "id": "du_MUE3Z1mBq",
        "outputId": "9b86e677-70cf-46c1-f82c-cd171b98f5f4"
      },
      "outputs": [
        {
          "output_type": "execute_result",
          "data": {
            "text/plain": [
              "0.19532351555679806"
            ]
          },
          "metadata": {},
          "execution_count": 58
        }
      ],
      "source": [
        "#r2 Score\n",
        "r2_score(y_test, predictions)"
      ]
    },
    {
      "cell_type": "markdown",
      "metadata": {
        "id": "mp5C2I3a1mBr"
      },
      "source": [
        "### Apply Smote in Random Forest Model"
      ]
    },
    {
      "cell_type": "code",
      "execution_count": null,
      "metadata": {
        "colab": {
          "base_uri": "https://localhost:8080/"
        },
        "id": "8fjXg-q21mBr",
        "outputId": "80d9e477-4db0-4878-b337-f65a7bf551ca"
      },
      "outputs": [
        {
          "output_type": "execute_result",
          "data": {
            "text/plain": [
              "RandomForestClassifier(random_state=0)"
            ]
          },
          "metadata": {},
          "execution_count": 59
        }
      ],
      "source": [
        "#creating model and making predicton\n",
        "from sklearn.ensemble import RandomForestClassifier\n",
        "\n",
        "r_forest = RandomForestClassifier(random_state=0)\n",
        "r_forest.fit(X_smote, y_smote)"
      ]
    },
    {
      "cell_type": "code",
      "execution_count": null,
      "metadata": {
        "id": "WM7gHJeW1mBr"
      },
      "outputs": [],
      "source": [
        "#prediction on test data\n",
        "predictions = r_forest.predict(X_test)\n"
      ]
    },
    {
      "cell_type": "code",
      "execution_count": null,
      "metadata": {
        "colab": {
          "base_uri": "https://localhost:8080/"
        },
        "id": "0zmj2pCM1mBr",
        "outputId": "d334d377-f028-4910-c1ce-bdbb491b74d6"
      },
      "outputs": [
        {
          "output_type": "execute_result",
          "data": {
            "text/plain": [
              "         Actual  Predicted\n",
              "628549        0          0\n",
              "184491        0          0\n",
              "36036         0          0\n",
              "1633189       0          0\n",
              "1528526       0          0\n",
              "...         ...        ...\n",
              "1141316       0          0\n",
              "371092        0          0\n",
              "101296        0          0\n",
              "66571         0          0\n",
              "1578611       0          1\n",
              "\n",
              "[537975 rows x 2 columns]"
            ],
            "text/html": [
              "\n",
              "  <div id=\"df-1d3867c2-ea88-48b5-a8ae-324c8b5d042d\">\n",
              "    <div class=\"colab-df-container\">\n",
              "      <div>\n",
              "<style scoped>\n",
              "    .dataframe tbody tr th:only-of-type {\n",
              "        vertical-align: middle;\n",
              "    }\n",
              "\n",
              "    .dataframe tbody tr th {\n",
              "        vertical-align: top;\n",
              "    }\n",
              "\n",
              "    .dataframe thead th {\n",
              "        text-align: right;\n",
              "    }\n",
              "</style>\n",
              "<table border=\"1\" class=\"dataframe\">\n",
              "  <thead>\n",
              "    <tr style=\"text-align: right;\">\n",
              "      <th></th>\n",
              "      <th>Actual</th>\n",
              "      <th>Predicted</th>\n",
              "    </tr>\n",
              "  </thead>\n",
              "  <tbody>\n",
              "    <tr>\n",
              "      <th>628549</th>\n",
              "      <td>0</td>\n",
              "      <td>0</td>\n",
              "    </tr>\n",
              "    <tr>\n",
              "      <th>184491</th>\n",
              "      <td>0</td>\n",
              "      <td>0</td>\n",
              "    </tr>\n",
              "    <tr>\n",
              "      <th>36036</th>\n",
              "      <td>0</td>\n",
              "      <td>0</td>\n",
              "    </tr>\n",
              "    <tr>\n",
              "      <th>1633189</th>\n",
              "      <td>0</td>\n",
              "      <td>0</td>\n",
              "    </tr>\n",
              "    <tr>\n",
              "      <th>1528526</th>\n",
              "      <td>0</td>\n",
              "      <td>0</td>\n",
              "    </tr>\n",
              "    <tr>\n",
              "      <th>...</th>\n",
              "      <td>...</td>\n",
              "      <td>...</td>\n",
              "    </tr>\n",
              "    <tr>\n",
              "      <th>1141316</th>\n",
              "      <td>0</td>\n",
              "      <td>0</td>\n",
              "    </tr>\n",
              "    <tr>\n",
              "      <th>371092</th>\n",
              "      <td>0</td>\n",
              "      <td>0</td>\n",
              "    </tr>\n",
              "    <tr>\n",
              "      <th>101296</th>\n",
              "      <td>0</td>\n",
              "      <td>0</td>\n",
              "    </tr>\n",
              "    <tr>\n",
              "      <th>66571</th>\n",
              "      <td>0</td>\n",
              "      <td>0</td>\n",
              "    </tr>\n",
              "    <tr>\n",
              "      <th>1578611</th>\n",
              "      <td>0</td>\n",
              "      <td>1</td>\n",
              "    </tr>\n",
              "  </tbody>\n",
              "</table>\n",
              "<p>537975 rows × 2 columns</p>\n",
              "</div>\n",
              "      <button class=\"colab-df-convert\" onclick=\"convertToInteractive('df-1d3867c2-ea88-48b5-a8ae-324c8b5d042d')\"\n",
              "              title=\"Convert this dataframe to an interactive table.\"\n",
              "              style=\"display:none;\">\n",
              "        \n",
              "  <svg xmlns=\"http://www.w3.org/2000/svg\" height=\"24px\"viewBox=\"0 0 24 24\"\n",
              "       width=\"24px\">\n",
              "    <path d=\"M0 0h24v24H0V0z\" fill=\"none\"/>\n",
              "    <path d=\"M18.56 5.44l.94 2.06.94-2.06 2.06-.94-2.06-.94-.94-2.06-.94 2.06-2.06.94zm-11 1L8.5 8.5l.94-2.06 2.06-.94-2.06-.94L8.5 2.5l-.94 2.06-2.06.94zm10 10l.94 2.06.94-2.06 2.06-.94-2.06-.94-.94-2.06-.94 2.06-2.06.94z\"/><path d=\"M17.41 7.96l-1.37-1.37c-.4-.4-.92-.59-1.43-.59-.52 0-1.04.2-1.43.59L10.3 9.45l-7.72 7.72c-.78.78-.78 2.05 0 2.83L4 21.41c.39.39.9.59 1.41.59.51 0 1.02-.2 1.41-.59l7.78-7.78 2.81-2.81c.8-.78.8-2.07 0-2.86zM5.41 20L4 18.59l7.72-7.72 1.47 1.35L5.41 20z\"/>\n",
              "  </svg>\n",
              "      </button>\n",
              "      \n",
              "  <style>\n",
              "    .colab-df-container {\n",
              "      display:flex;\n",
              "      flex-wrap:wrap;\n",
              "      gap: 12px;\n",
              "    }\n",
              "\n",
              "    .colab-df-convert {\n",
              "      background-color: #E8F0FE;\n",
              "      border: none;\n",
              "      border-radius: 50%;\n",
              "      cursor: pointer;\n",
              "      display: none;\n",
              "      fill: #1967D2;\n",
              "      height: 32px;\n",
              "      padding: 0 0 0 0;\n",
              "      width: 32px;\n",
              "    }\n",
              "\n",
              "    .colab-df-convert:hover {\n",
              "      background-color: #E2EBFA;\n",
              "      box-shadow: 0px 1px 2px rgba(60, 64, 67, 0.3), 0px 1px 3px 1px rgba(60, 64, 67, 0.15);\n",
              "      fill: #174EA6;\n",
              "    }\n",
              "\n",
              "    [theme=dark] .colab-df-convert {\n",
              "      background-color: #3B4455;\n",
              "      fill: #D2E3FC;\n",
              "    }\n",
              "\n",
              "    [theme=dark] .colab-df-convert:hover {\n",
              "      background-color: #434B5C;\n",
              "      box-shadow: 0px 1px 3px 1px rgba(0, 0, 0, 0.15);\n",
              "      filter: drop-shadow(0px 1px 2px rgba(0, 0, 0, 0.3));\n",
              "      fill: #FFFFFF;\n",
              "    }\n",
              "  </style>\n",
              "\n",
              "      <script>\n",
              "        const buttonEl =\n",
              "          document.querySelector('#df-1d3867c2-ea88-48b5-a8ae-324c8b5d042d button.colab-df-convert');\n",
              "        buttonEl.style.display =\n",
              "          google.colab.kernel.accessAllowed ? 'block' : 'none';\n",
              "\n",
              "        async function convertToInteractive(key) {\n",
              "          const element = document.querySelector('#df-1d3867c2-ea88-48b5-a8ae-324c8b5d042d');\n",
              "          const dataTable =\n",
              "            await google.colab.kernel.invokeFunction('convertToInteractive',\n",
              "                                                     [key], {});\n",
              "          if (!dataTable) return;\n",
              "\n",
              "          const docLinkHtml = 'Like what you see? Visit the ' +\n",
              "            '<a target=\"_blank\" href=https://colab.research.google.com/notebooks/data_table.ipynb>data table notebook</a>'\n",
              "            + ' to learn more about interactive tables.';\n",
              "          element.innerHTML = '';\n",
              "          dataTable['output_type'] = 'display_data';\n",
              "          await google.colab.output.renderOutput(dataTable, element);\n",
              "          const docLink = document.createElement('div');\n",
              "          docLink.innerHTML = docLinkHtml;\n",
              "          element.appendChild(docLink);\n",
              "        }\n",
              "      </script>\n",
              "    </div>\n",
              "  </div>\n",
              "  "
            ]
          },
          "metadata": {},
          "execution_count": 61
        }
      ],
      "source": [
        "#showing the actual corona result and predicted corona result side by side\n",
        "result = pd.DataFrame({'Actual': y_test, 'Predicted': predictions})\n",
        "result"
      ]
    },
    {
      "cell_type": "code",
      "execution_count": null,
      "metadata": {
        "colab": {
          "base_uri": "https://localhost:8080/"
        },
        "id": "S_BRQJ2t1mBr",
        "outputId": "320b83cd-bd6d-4664-8846-a5146600d52e"
      },
      "outputs": [
        {
          "output_type": "execute_result",
          "data": {
            "text/plain": [
              "0.9218067754077792"
            ]
          },
          "metadata": {},
          "execution_count": 62
        }
      ],
      "source": [
        "#model's accurary score\n",
        "r_forest.score(X_test, y_test)"
      ]
    },
    {
      "cell_type": "code",
      "execution_count": null,
      "metadata": {
        "id": "8nHv7Jmk1mBs"
      },
      "outputs": [],
      "source": [
        "#save the model\n",
        "\n",
        "filename = 'RandomForest_model.sav'\n",
        "pickle.dump(r_forest, open(filename, 'wb'))"
      ]
    },
    {
      "cell_type": "markdown",
      "metadata": {
        "id": "w7mmzInx1mBs"
      },
      "source": [
        "#### Evaluating Random Forest model"
      ]
    },
    {
      "cell_type": "code",
      "execution_count": null,
      "metadata": {
        "colab": {
          "base_uri": "https://localhost:8080/"
        },
        "id": "mM9IjnJ61mBs",
        "outputId": "ea5d0043-c1e7-4cd0-b4d9-c0135fbc7580"
      },
      "outputs": [
        {
          "output_type": "stream",
          "name": "stdout",
          "text": [
            "              precision    recall  f1-score   support\n",
            "\n",
            "    Negative       0.96      0.95      0.96    485956\n",
            "    Positive       0.59      0.65      0.62     52019\n",
            "\n",
            "    accuracy                           0.92    537975\n",
            "   macro avg       0.77      0.80      0.79    537975\n",
            "weighted avg       0.93      0.92      0.92    537975\n",
            "\n"
          ]
        }
      ],
      "source": [
        "#Classification Report\n",
        "\n",
        "print(classification_report(y_test, predictions, target_names=['Negative', 'Positive']))"
      ]
    },
    {
      "cell_type": "code",
      "execution_count": null,
      "metadata": {
        "colab": {
          "base_uri": "https://localhost:8080/"
        },
        "id": "HZywKkWI1mBs",
        "outputId": "47a6837b-55d2-423c-899d-5cf2beeff06d"
      },
      "outputs": [
        {
          "output_type": "display_data",
          "data": {
            "text/plain": [
              "<Figure size 432x288 with 1 Axes>"
            ],
            "image/png": "[encoded data removed]"
          },
          "metadata": {}
        }
      ],
      "source": [
        "#confusion matrix\n",
        "\n",
        "cm = confusion_matrix(y_test, predictions)\n",
        "\n",
        "plt.figure(figsize=(6,4))\n",
        "sns.heatmap(cm, annot=True, square=True,  fmt='d',\n",
        "           cmap=plt.cm.Blues, cbar=False)\n",
        "plt.ylabel('True Labels', fontsize=12)\n",
        "plt.xlabel('Predicted Labels', fontsize=12)\n",
        "plt.show()"
      ]
    },
    {
      "cell_type": "code",
      "execution_count": null,
      "metadata": {
        "colab": {
          "base_uri": "https://localhost:8080/"
        },
        "id": "Hu6veBFZ1mBt",
        "outputId": "0e39d5c5-78f7-4db2-fd17-74c8a2838ec0"
      },
      "outputs": [
        {
          "output_type": "execute_result",
          "data": {
            "text/plain": [
              "0.07819322459222083"
            ]
          },
          "metadata": {},
          "execution_count": 66
        }
      ],
      "source": [
        "#mean squared error\n",
        "mean_squared_error(y_test, predictions)"
      ]
    },
    {
      "cell_type": "code",
      "execution_count": null,
      "metadata": {
        "colab": {
          "base_uri": "https://localhost:8080/"
        },
        "id": "aYovlj9p1mBt",
        "outputId": "1408e1c9-e7a1-4645-a621-d714cfbb2ea0"
      },
      "outputs": [
        {
          "output_type": "execute_result",
          "data": {
            "text/plain": [
              "0.07819322459222083"
            ]
          },
          "metadata": {},
          "execution_count": 67
        }
      ],
      "source": [
        "#mean absolute error\n",
        "mean_absolute_error(y_test, predictions)"
      ]
    },
    {
      "cell_type": "code",
      "execution_count": null,
      "metadata": {
        "colab": {
          "base_uri": "https://localhost:8080/"
        },
        "id": "bPVm3gV81mBt",
        "outputId": "e5ecad6b-db11-4257-cd9e-c203a794172a"
      },
      "outputs": [
        {
          "output_type": "execute_result",
          "data": {
            "text/plain": [
              "0.10477054310682787"
            ]
          },
          "metadata": {},
          "execution_count": 68
        }
      ],
      "source": [
        "#r2 Score\n",
        "r2_score(y_test, predictions)"
      ]
    },
    {
      "cell_type": "markdown",
      "metadata": {
        "id": "xoFEyWAP1mBu"
      },
      "source": [
        "### Apply Smote in KNN Model"
      ]
    },
    {
      "cell_type": "markdown",
      "metadata": {
        "id": "D3OQhUrw1mBv"
      },
      "source": [
        "Creating a smaller subset of test data for KNN"
      ]
    },
    {
      "cell_type": "code",
      "execution_count": null,
      "metadata": {
        "id": "znAWZ2sC1mBv"
      },
      "outputs": [],
      "source": [
        "d_X_test = X_test.head(10000)\n",
        "#d_X_test.value_counts()"
      ]
    },
    {
      "cell_type": "code",
      "execution_count": null,
      "metadata": {
        "colab": {
          "base_uri": "https://localhost:8080/"
        },
        "id": "_IH8pQy_1mBv",
        "outputId": "4a82352a-ae73-430b-bdc9-01296f6e5099"
      },
      "outputs": [
        {
          "output_type": "execute_result",
          "data": {
            "text/plain": [
              "0    9062\n",
              "1     938\n",
              "Name: corona_result, dtype: int64"
            ]
          },
          "metadata": {},
          "execution_count": 70
        }
      ],
      "source": [
        "d_y_test = y_test.head(10000)\n",
        "d_y_test.value_counts()"
      ]
    },
    {
      "cell_type": "markdown",
      "metadata": {
        "id": "WlcQbI8J1mBv"
      },
      "source": [
        "Training the model"
      ]
    },
    {
      "cell_type": "code",
      "execution_count": null,
      "metadata": {
        "id": "wXVuEjOU1mBv"
      },
      "outputs": [],
      "source": [
        "#necessary library\n",
        "from sklearn.neighbors import KNeighborsClassifier"
      ]
    },
    {
      "cell_type": "code",
      "execution_count": null,
      "metadata": {
        "colab": {
          "base_uri": "https://localhost:8080/"
        },
        "id": "3Hj00SrE1mBv",
        "outputId": "7be0b01d-9136-42d7-bf0c-d34b81a26804"
      },
      "outputs": [
        {
          "output_type": "execute_result",
          "data": {
            "text/plain": [
              "KNeighborsClassifier(n_jobs=-1, n_neighbors=25)"
            ]
          },
          "metadata": {},
          "execution_count": 72
        }
      ],
      "source": [
        "#making model with k=25 for prediction\n",
        "KNN = KNeighborsClassifier(n_neighbors=25, n_jobs=-1)\n",
        "KNN.fit(X_smote, y_smote)"
      ]
    },
    {
      "cell_type": "code",
      "execution_count": null,
      "metadata": {
        "id": "7jT45iMF1mBw"
      },
      "outputs": [],
      "source": [
        "#prediction on test data\n",
        "predictions = KNN.predict(X_test)"
      ]
    },
    {
      "cell_type": "code",
      "execution_count": null,
      "metadata": {
        "id": "0avS7TPy1mBw"
      },
      "outputs": [],
      "source": [
        "#showing the actual corona result and predicted corona result side by side\n",
        "result = pd.DataFrame({'Actual': y_test, 'Predicted': predictions})\n",
        "result"
      ]
    },
    {
      "cell_type": "code",
      "execution_count": null,
      "metadata": {
        "id": "gImBpJg-1mBw"
      },
      "outputs": [],
      "source": [
        "#model's accurary score\n",
        "KNN.score(X_test, y_test)"
      ]
    },
    {
      "cell_type": "code",
      "execution_count": null,
      "metadata": {
        "id": "8C88cyJz1mBw"
      },
      "outputs": [],
      "source": [
        "#save the model\n",
        "\n",
        "filename = 'KNN_model.sav'\n",
        "pickle.dump(KNN, open(filename, 'wb'))"
      ]
    },
    {
      "cell_type": "markdown",
      "metadata": {
        "id": "4TVcUDac1mBx"
      },
      "source": [
        "#### Evaluating KNN model"
      ]
    },
    {
      "cell_type": "code",
      "execution_count": null,
      "metadata": {
        "id": "FRsdOZWz1mBx"
      },
      "outputs": [],
      "source": [
        "#Classification Report\n",
        "\n",
        "print(classification_report(y_test, predictions, target_names=['Negative', 'Positive']))"
      ]
    },
    {
      "cell_type": "code",
      "execution_count": null,
      "metadata": {
        "id": "IlBwQqYA1mBx"
      },
      "outputs": [],
      "source": [
        "#confusion matrix\n",
        "\n",
        "cm = confusion_matrix(y_test, predictions)\n",
        "\n",
        "plt.figure(figsize=(6,4))\n",
        "sns.heatmap(cm, annot=True, square=True,  fmt='d',\n",
        "           cmap=plt.cm.Blues, cbar=False)\n",
        "plt.ylabel('True Labels', fontsize=12)\n",
        "plt.xlabel('Predicted Labels', fontsize=12)\n",
        "plt.show()"
      ]
    },
    {
      "cell_type": "code",
      "execution_count": null,
      "metadata": {
        "id": "Ffh9jR041mBx"
      },
      "outputs": [],
      "source": [
        "#mean squared error\n",
        "mean_squared_error(y_test, predictions)"
      ]
    },
    {
      "cell_type": "code",
      "execution_count": null,
      "metadata": {
        "id": "tgpEcaE11mBx"
      },
      "outputs": [],
      "source": [
        "#mean absolute error\n",
        "mean_absolute_error(y_test, predictions)"
      ]
    },
    {
      "cell_type": "code",
      "execution_count": null,
      "metadata": {
        "id": "qpzdurFK1mBy"
      },
      "outputs": [],
      "source": [
        "#r2 Score\n",
        "r2_score(y_test, predictions)"
      ]
    },
    {
      "cell_type": "markdown",
      "metadata": {
        "id": "xMZuWXLF1mB0"
      },
      "source": [
        "# Training ANN Model"
      ]
    },
    {
      "cell_type": "markdown",
      "metadata": {
        "id": "2hzo-vIJ1mB0"
      },
      "source": [
        "### Creating the model"
      ]
    },
    {
      "cell_type": "code",
      "execution_count": null,
      "metadata": {
        "id": "HrUeCpKe1mB0"
      },
      "outputs": [],
      "source": [
        "#necessary library\n",
        "import tensorflow as tf\n",
        "from tensorflow.keras.models import Sequential\n",
        "from tensorflow.keras.layers import Dense, Activation,Dropout\n",
        "from tensorflow.keras.constraints import max_norm"
      ]
    },
    {
      "cell_type": "code",
      "execution_count": null,
      "metadata": {
        "colab": {
          "base_uri": "https://localhost:8080/"
        },
        "id": "cIMUaJRI1mB0",
        "outputId": "894ee496-e247-4852-a686-816545981193"
      },
      "outputs": [
        {
          "data": {
            "text/plain": [
              "(352224, 7)"
            ]
          },
          "execution_count": 86,
          "metadata": {},
          "output_type": "execute_result"
        }
      ],
      "source": [
        "X_smote.shape"
      ]
    },
    {
      "cell_type": "code",
      "execution_count": null,
      "metadata": {
        "id": "W9bAuPbu1mB0"
      },
      "outputs": [],
      "source": [
        "model = Sequential()\n",
        "\n",
        "# input layer\n",
        "model.add(Dense(60,  activation='relu'))\n",
        "#model.add(Dropout(0.2))\n",
        "\n",
        "# hidden layer\n",
        "model.add(Dense(30, activation='relu'))\n",
        "#model.add(Dropout(0.2))\n",
        "\n",
        "# hidden layer\n",
        "model.add(Dense(15, activation='relu'))\n",
        "#model.add(Dropout(0.2))\n",
        "\n",
        "# output layer\n",
        "model.add(Dense(units=1,activation='sigmoid'))\n",
        "\n",
        "# Compile model\n",
        "model.compile(loss='binary_crossentropy', optimizer='adam')"
      ]
    },
    {
      "cell_type": "code",
      "execution_count": null,
      "metadata": {
        "colab": {
          "base_uri": "https://localhost:8080/"
        },
        "id": "bCCvXrOU1mB1",
        "outputId": "9b40726d-a0e6-4c11-be3d-cda99b3e6916"
      },
      "outputs": [
        {
          "name": "stdout",
          "output_type": "stream",
          "text": [
            "Epoch 1/25\n",
            "11007/11007 [==============================] - 40s 3ms/step - loss: 0.4557 - val_loss: 0.4543\n",
            "Epoch 2/25\n",
            "11007/11007 [==============================] - 40s 4ms/step - loss: 0.4522 - val_loss: 0.4539\n",
            "Epoch 3/25\n",
            "11007/11007 [==============================] - 39s 4ms/step - loss: 0.4519 - val_loss: 0.4536\n",
            "Epoch 4/25\n",
            "11007/11007 [==============================] - 36s 3ms/step - loss: 0.4519 - val_loss: 0.4530\n",
            "Epoch 5/25\n",
            "11007/11007 [==============================] - 37s 3ms/step - loss: 0.4517 - val_loss: 0.4534\n",
            "Epoch 6/25\n",
            "11007/11007 [==============================] - 39s 4ms/step - loss: 0.4517 - val_loss: 0.4533\n",
            "Epoch 7/25\n",
            "11007/11007 [==============================] - 36s 3ms/step - loss: 0.4516 - val_loss: 0.4537\n",
            "Epoch 8/25\n",
            "11007/11007 [==============================] - 37s 3ms/step - loss: 0.4515 - val_loss: 0.4530\n",
            "Epoch 9/25\n",
            "11007/11007 [==============================] - 36s 3ms/step - loss: 0.4515 - val_loss: 0.4532\n",
            "Epoch 10/25\n",
            "11007/11007 [==============================] - 40s 4ms/step - loss: 0.4515 - val_loss: 0.4543\n",
            "Epoch 11/25\n",
            "11007/11007 [==============================] - 39s 4ms/step - loss: 0.4514 - val_loss: 0.4538\n",
            "Epoch 12/25\n",
            "11007/11007 [==============================] - 35s 3ms/step - loss: 0.4515 - val_loss: 0.4535\n",
            "Epoch 13/25\n",
            "11007/11007 [==============================] - 36s 3ms/step - loss: 0.4515 - val_loss: 0.4529\n",
            "Epoch 14/25\n",
            "11007/11007 [==============================] - 36s 3ms/step - loss: 0.4514 - val_loss: 0.4531\n",
            "Epoch 15/25\n",
            "11007/11007 [==============================] - 36s 3ms/step - loss: 0.4514 - val_loss: 0.4529\n",
            "Epoch 16/25\n",
            "11007/11007 [==============================] - 39s 4ms/step - loss: 0.4514 - val_loss: 0.4531\n",
            "Epoch 17/25\n",
            "11007/11007 [==============================] - 39s 4ms/step - loss: 0.4514 - val_loss: 0.4537\n",
            "Epoch 18/25\n",
            "11007/11007 [==============================] - 36s 3ms/step - loss: 0.4513 - val_loss: 0.4539\n",
            "Epoch 19/25\n",
            "11007/11007 [==============================] - 36s 3ms/step - loss: 0.4513 - val_loss: 0.4541\n",
            "Epoch 20/25\n",
            "11007/11007 [==============================] - 36s 3ms/step - loss: 0.4513 - val_loss: 0.4529\n",
            "Epoch 21/25\n",
            "11007/11007 [==============================] - 36s 3ms/step - loss: 0.4514 - val_loss: 0.4533\n",
            "Epoch 22/25\n",
            "11007/11007 [==============================] - 39s 4ms/step - loss: 0.4513 - val_loss: 0.4531\n",
            "Epoch 23/25\n",
            "11007/11007 [==============================] - 39s 4ms/step - loss: 0.4513 - val_loss: 0.4532\n",
            "Epoch 24/25\n",
            "11007/11007 [==============================] - 39s 4ms/step - loss: 0.4513 - val_loss: 0.4530\n",
            "Epoch 25/25\n",
            "11007/11007 [==============================] - 36s 3ms/step - loss: 0.4513 - val_loss: 0.4534\n"
          ]
        },
        {
          "data": {
            "text/plain": [
              "<keras.callbacks.History at 0x7f3281f40c50>"
            ]
          },
          "execution_count": 88,
          "metadata": {},
          "output_type": "execute_result"
        }
      ],
      "source": [
        "#training the model\n",
        "model.fit(x=X_train, y=y_train, epochs=25, validation_data=(X_test, y_test))"
      ]
    },
    {
      "cell_type": "markdown",
      "metadata": {
        "id": "7scEGw5Y1mB1"
      },
      "source": [
        "### Saving the model"
      ]
    },
    {
      "cell_type": "code",
      "execution_count": null,
      "metadata": {
        "id": "UiUwNJDX1mB1"
      },
      "outputs": [],
      "source": [
        "#necessary library\n",
        "from tensorflow.keras.models import load_model\n",
        "\n",
        "model.save('ANN_model.h5')  "
      ]
    },
    {
      "cell_type": "markdown",
      "metadata": {
        "id": "vBpXe_qB1mB1"
      },
      "source": [
        "### Evaluating the ANN Model"
      ]
    },
    {
      "cell_type": "code",
      "execution_count": null,
      "metadata": {
        "colab": {
          "base_uri": "https://localhost:8080/",
          "height": 503
        },
        "id": "hlKhudFP1mB1",
        "outputId": "f5eb9665-e25c-4bd5-a166-eb9d0f856419"
      },
      "outputs": [
        {
          "data": {
            "text/plain": [
              "<matplotlib.axes._subplots.AxesSubplot at 0x7f3280601f10>"
            ]
          },
          "execution_count": 90,
          "metadata": {},
          "output_type": "execute_result"
        },
        {
          "data": {
            "image/png": "[encoded data removed]",
            "text/plain": [
              "<Figure size 1152x576 with 1 Axes>"
            ]
          },
          "metadata": {},
          "output_type": "display_data"
        }
      ],
      "source": [
        "losses = pd.DataFrame(model.history.history)\n",
        "\n",
        "losses[['loss','val_loss']].plot()"
      ]
    },
    {
      "cell_type": "code",
      "source": [
        "#predicting using ANN model\n",
        "predictions = model.predict_classes(X_test)"
      ],
      "metadata": {
        "id": "BqNzkoRqPHiV"
      },
      "execution_count": null,
      "outputs": []
    },
    {
      "cell_type": "code",
      "execution_count": null,
      "metadata": {
        "id": "ozenuJM71mB2"
      },
      "outputs": [],
      "source": [
        "print(classification_report(y_test,predictions))"
      ]
    },
    {
      "cell_type": "code",
      "execution_count": null,
      "metadata": {
        "id": "lRI7AZR21mB2"
      },
      "outputs": [],
      "source": [
        "#confusion matrix\n",
        "cm = confusion_matrix(y_test, predictions)\n",
        "\n",
        "plt.figure(figsize=(6,4))\n",
        "sns.heatmap(cm, annot=True, square=True,  fmt='d',\n",
        "           cmap=plt.cm.Blues, cbar=False)\n",
        "plt.ylabel('True Labels', fontsize=12)\n",
        "plt.xlabel('Predicted Labels', fontsize=12)\n",
        "plt.show()"
      ]
    },
    {
      "cell_type": "code",
      "execution_count": null,
      "metadata": {
        "id": "tztRynAx1mB2"
      },
      "outputs": [],
      "source": [
        "#mean squared error\n",
        "mean_squared_error(y_test, predictions)"
      ]
    },
    {
      "cell_type": "code",
      "execution_count": null,
      "metadata": {
        "id": "EgqQi4_l1mB2"
      },
      "outputs": [],
      "source": [
        "#mean absolute error\n",
        "mean_absolute_error(y_test, predictions)"
      ]
    },
    {
      "cell_type": "code",
      "execution_count": null,
      "metadata": {
        "id": "lShyUhSb1mB3"
      },
      "outputs": [],
      "source": [
        "#r2 Score\n",
        "r2_score(y_test, predictions)"
      ]
    }
  ],
  "metadata": {
    "interpreter": {
      "hash": "cc7436e339fb98a79d349a4b39e7546d0317772cabf469fe9b68837ca1e48e7d"
    },
    "kernelspec": {
      "display_name": "Python 3.8.5 64-bit ('base': conda)",
      "language": "python",
      "name": "python3"
    },
    "language_info": {
      "codemirror_mode": {
        "name": "ipython",
        "version": 3
      },
      "file_extension": ".py",
      "mimetype": "text/x-python",
      "name": "python",
      "nbconvert_exporter": "python",
      "pygments_lexer": "ipython3",
      "version": "3.8.5"
    },
    "orig_nbformat": 4,
    "colab": {
      "name": "Applying Smote in all classification.ipynb",
      "provenance": [],
      "collapsed_sections": [],
      "toc_visible": true,
      "include_colab_link": true
    },
    "accelerator": "GPU"
  },
  "nbformat": 4,
  "nbformat_minor": 0
}