{
  "cells": [
    {
      "cell_type": "markdown",
      "metadata": {
        "id": "view-in-github",
        "colab_type": "text"
      },
      "source": [
        "<a href=\"https://colab.research.google.com/github/skazmiara007/COVID-19_prediction_on-ML_CSE499/blob/main/Coronavirus_Visualization_%26_Prediction.ipynb\" target=\"_parent\"><img src=\"https://colab.research.google.com/assets/colab-badge.svg\" alt=\"Open In Colab\"/></a>"
      ]
    },
    {
      "cell_type": "markdown",
      "metadata": {
        "id": "2r2LyLPVqfIH"
      },
      "source": [
        "#Initialize the project"
      ]
    },
    {
      "cell_type": "code",
      "execution_count": 3,
      "metadata": {
        "id": "nZ6VbguXIeiN"
      },
      "outputs": [],
      "source": [
        "import numpy as np \n",
        "import matplotlib.pyplot as plt \n",
        "import matplotlib.colors as mcolors\n",
        "import pandas as pd \n",
        "import random\n",
        "import math\n",
        "import time\n",
        "from sklearn.linear_model import LinearRegression, BayesianRidge\n",
        "from sklearn.model_selection import RandomizedSearchCV, train_test_split\n",
        "from sklearn.preprocessing import PolynomialFeatures\n",
        "from sklearn.svm import SVR\n",
        "from sklearn.metrics import mean_squared_error, mean_absolute_error\n",
        "import datetime\n",
        "import operator \n",
        "plt.style.use('seaborn-poster')\n",
        "%matplotlib inline\n",
        "from IPython.display import set_matplotlib_formats\n",
        "set_matplotlib_formats('retina')\n",
        "import warnings\n",
        "warnings.filterwarnings(\"ignore\")"
      ]
    },
    {
      "cell_type": "markdown",
      "metadata": {
        "id": "LzYRRcZ_JCvG"
      },
      "source": [
        "Import the data (make sure you update this on a daily basis)"
      ]
    },
    {
      "cell_type": "code",
      "execution_count": 4,
      "metadata": {
        "id": "p3iwF8YgIocR",
        "outputId": "770ad25a-1f19-49b3-ce90-3a0362c8fc81",
        "colab": {
          "base_uri": "https://localhost:8080/",
          "height": 359
        }
      },
      "outputs": [
        {
          "output_type": "error",
          "ename": "HTTPError",
          "evalue": "ignored",
          "traceback": [
            "\u001b[0;31m---------------------------------------------------------------------------\u001b[0m",
            "\u001b[0;31mHTTPError\u001b[0m                                 Traceback (most recent call last)",
            "\u001b[0;32m<ipython-input-4-e9d8b54a0793>\u001b[0m in \u001b[0;36m<module>\u001b[0;34m()\u001b[0m\n\u001b[1;32m      3\u001b[0m \u001b[0mlatest_data\u001b[0m \u001b[0;34m=\u001b[0m \u001b[0mpd\u001b[0m\u001b[0;34m.\u001b[0m\u001b[0mread_csv\u001b[0m\u001b[0;34m(\u001b[0m\u001b[0;34m'https://raw.githubusercontent.com/CSSEGISandData/COVID-19/master/csse_covid_19_data/csse_covid_19_daily_reports/02-26-2022.csv'\u001b[0m\u001b[0;34m)\u001b[0m\u001b[0;34m\u001b[0m\u001b[0;34m\u001b[0m\u001b[0m\n\u001b[1;32m      4\u001b[0m \u001b[0mus_medical_data\u001b[0m \u001b[0;34m=\u001b[0m \u001b[0mpd\u001b[0m\u001b[0;34m.\u001b[0m\u001b[0mread_csv\u001b[0m\u001b[0;34m(\u001b[0m\u001b[0;34m'https://raw.githubusercontent.com/CSSEGISandData/COVID-19/master/csse_covid_19_data/csse_covid_19_daily_reports_us/02-26-2022.csv'\u001b[0m\u001b[0;34m)\u001b[0m\u001b[0;34m\u001b[0m\u001b[0;34m\u001b[0m\u001b[0m\n\u001b[0;32m----> 5\u001b[0;31m \u001b[0mapple_mobility\u001b[0m \u001b[0;34m=\u001b[0m \u001b[0mpd\u001b[0m\u001b[0;34m.\u001b[0m\u001b[0mread_csv\u001b[0m\u001b[0;34m(\u001b[0m\u001b[0;34m\"https://covid19-static.cdn-apple.com/covid19-mobility-data/2208HotfixDev18/v3/en-us/applemobilitytrends-2022-02-24.csv\"\u001b[0m\u001b[0;34m)\u001b[0m\u001b[0;34m\u001b[0m\u001b[0;34m\u001b[0m\u001b[0m\n\u001b[0m",
            "\u001b[0;32m/usr/local/lib/python3.7/dist-packages/pandas/util/_decorators.py\u001b[0m in \u001b[0;36mwrapper\u001b[0;34m(*args, **kwargs)\u001b[0m\n\u001b[1;32m    309\u001b[0m                     \u001b[0mstacklevel\u001b[0m\u001b[0;34m=\u001b[0m\u001b[0mstacklevel\u001b[0m\u001b[0;34m,\u001b[0m\u001b[0;34m\u001b[0m\u001b[0;34m\u001b[0m\u001b[0m\n\u001b[1;32m    310\u001b[0m                 )\n\u001b[0;32m--> 311\u001b[0;31m             \u001b[0;32mreturn\u001b[0m \u001b[0mfunc\u001b[0m\u001b[0;34m(\u001b[0m\u001b[0;34m*\u001b[0m\u001b[0margs\u001b[0m\u001b[0;34m,\u001b[0m \u001b[0;34m**\u001b[0m\u001b[0mkwargs\u001b[0m\u001b[0;34m)\u001b[0m\u001b[0;34m\u001b[0m\u001b[0;34m\u001b[0m\u001b[0m\n\u001b[0m\u001b[1;32m    312\u001b[0m \u001b[0;34m\u001b[0m\u001b[0m\n\u001b[1;32m    313\u001b[0m         \u001b[0;32mreturn\u001b[0m \u001b[0mwrapper\u001b[0m\u001b[0;34m\u001b[0m\u001b[0;34m\u001b[0m\u001b[0m\n",
            "\u001b[0;32m/usr/local/lib/python3.7/dist-packages/pandas/io/parsers/readers.py\u001b[0m in \u001b[0;36mread_csv\u001b[0;34m(filepath_or_buffer, sep, delimiter, header, names, index_col, usecols, squeeze, prefix, mangle_dupe_cols, dtype, engine, converters, true_values, false_values, skipinitialspace, skiprows, skipfooter, nrows, na_values, keep_default_na, na_filter, verbose, skip_blank_lines, parse_dates, infer_datetime_format, keep_date_col, date_parser, dayfirst, cache_dates, iterator, chunksize, compression, thousands, decimal, lineterminator, quotechar, quoting, doublequote, escapechar, comment, encoding, encoding_errors, dialect, error_bad_lines, warn_bad_lines, on_bad_lines, delim_whitespace, low_memory, memory_map, float_precision, storage_options)\u001b[0m\n\u001b[1;32m    584\u001b[0m     \u001b[0mkwds\u001b[0m\u001b[0;34m.\u001b[0m\u001b[0mupdate\u001b[0m\u001b[0;34m(\u001b[0m\u001b[0mkwds_defaults\u001b[0m\u001b[0;34m)\u001b[0m\u001b[0;34m\u001b[0m\u001b[0;34m\u001b[0m\u001b[0m\n\u001b[1;32m    585\u001b[0m \u001b[0;34m\u001b[0m\u001b[0m\n\u001b[0;32m--> 586\u001b[0;31m     \u001b[0;32mreturn\u001b[0m \u001b[0m_read\u001b[0m\u001b[0;34m(\u001b[0m\u001b[0mfilepath_or_buffer\u001b[0m\u001b[0;34m,\u001b[0m \u001b[0mkwds\u001b[0m\u001b[0;34m)\u001b[0m\u001b[0;34m\u001b[0m\u001b[0;34m\u001b[0m\u001b[0m\n\u001b[0m\u001b[1;32m    587\u001b[0m \u001b[0;34m\u001b[0m\u001b[0m\n\u001b[1;32m    588\u001b[0m \u001b[0;34m\u001b[0m\u001b[0m\n",
            "\u001b[0;32m/usr/local/lib/python3.7/dist-packages/pandas/io/parsers/readers.py\u001b[0m in \u001b[0;36m_read\u001b[0;34m(filepath_or_buffer, kwds)\u001b[0m\n\u001b[1;32m    480\u001b[0m \u001b[0;34m\u001b[0m\u001b[0m\n\u001b[1;32m    481\u001b[0m     \u001b[0;31m# Create the parser.\u001b[0m\u001b[0;34m\u001b[0m\u001b[0;34m\u001b[0m\u001b[0;34m\u001b[0m\u001b[0m\n\u001b[0;32m--> 482\u001b[0;31m     \u001b[0mparser\u001b[0m \u001b[0;34m=\u001b[0m \u001b[0mTextFileReader\u001b[0m\u001b[0;34m(\u001b[0m\u001b[0mfilepath_or_buffer\u001b[0m\u001b[0;34m,\u001b[0m \u001b[0;34m**\u001b[0m\u001b[0mkwds\u001b[0m\u001b[0;34m)\u001b[0m\u001b[0;34m\u001b[0m\u001b[0;34m\u001b[0m\u001b[0m\n\u001b[0m\u001b[1;32m    483\u001b[0m \u001b[0;34m\u001b[0m\u001b[0m\n\u001b[1;32m    484\u001b[0m     \u001b[0;32mif\u001b[0m \u001b[0mchunksize\u001b[0m \u001b[0;32mor\u001b[0m \u001b[0miterator\u001b[0m\u001b[0;34m:\u001b[0m\u001b[0;34m\u001b[0m\u001b[0;34m\u001b[0m\u001b[0m\n",
            "\u001b[0;32m/usr/local/lib/python3.7/dist-packages/pandas/io/parsers/readers.py\u001b[0m in \u001b[0;36m__init__\u001b[0;34m(self, f, engine, **kwds)\u001b[0m\n\u001b[1;32m    809\u001b[0m             \u001b[0mself\u001b[0m\u001b[0;34m.\u001b[0m\u001b[0moptions\u001b[0m\u001b[0;34m[\u001b[0m\u001b[0;34m\"has_index_names\"\u001b[0m\u001b[0;34m]\u001b[0m \u001b[0;34m=\u001b[0m \u001b[0mkwds\u001b[0m\u001b[0;34m[\u001b[0m\u001b[0;34m\"has_index_names\"\u001b[0m\u001b[0;34m]\u001b[0m\u001b[0;34m\u001b[0m\u001b[0;34m\u001b[0m\u001b[0m\n\u001b[1;32m    810\u001b[0m \u001b[0;34m\u001b[0m\u001b[0m\n\u001b[0;32m--> 811\u001b[0;31m         \u001b[0mself\u001b[0m\u001b[0;34m.\u001b[0m\u001b[0m_engine\u001b[0m \u001b[0;34m=\u001b[0m \u001b[0mself\u001b[0m\u001b[0;34m.\u001b[0m\u001b[0m_make_engine\u001b[0m\u001b[0;34m(\u001b[0m\u001b[0mself\u001b[0m\u001b[0;34m.\u001b[0m\u001b[0mengine\u001b[0m\u001b[0;34m)\u001b[0m\u001b[0;34m\u001b[0m\u001b[0;34m\u001b[0m\u001b[0m\n\u001b[0m\u001b[1;32m    812\u001b[0m \u001b[0;34m\u001b[0m\u001b[0m\n\u001b[1;32m    813\u001b[0m     \u001b[0;32mdef\u001b[0m \u001b[0mclose\u001b[0m\u001b[0;34m(\u001b[0m\u001b[0mself\u001b[0m\u001b[0;34m)\u001b[0m\u001b[0;34m:\u001b[0m\u001b[0;34m\u001b[0m\u001b[0;34m\u001b[0m\u001b[0m\n",
            "\u001b[0;32m/usr/local/lib/python3.7/dist-packages/pandas/io/parsers/readers.py\u001b[0m in \u001b[0;36m_make_engine\u001b[0;34m(self, engine)\u001b[0m\n\u001b[1;32m   1038\u001b[0m             )\n\u001b[1;32m   1039\u001b[0m         \u001b[0;31m# error: Too many arguments for \"ParserBase\"\u001b[0m\u001b[0;34m\u001b[0m\u001b[0;34m\u001b[0m\u001b[0;34m\u001b[0m\u001b[0m\n\u001b[0;32m-> 1040\u001b[0;31m         \u001b[0;32mreturn\u001b[0m \u001b[0mmapping\u001b[0m\u001b[0;34m[\u001b[0m\u001b[0mengine\u001b[0m\u001b[0;34m]\u001b[0m\u001b[0;34m(\u001b[0m\u001b[0mself\u001b[0m\u001b[0;34m.\u001b[0m\u001b[0mf\u001b[0m\u001b[0;34m,\u001b[0m \u001b[0;34m**\u001b[0m\u001b[0mself\u001b[0m\u001b[0;34m.\u001b[0m\u001b[0moptions\u001b[0m\u001b[0;34m)\u001b[0m  \u001b[0;31m# type: ignore[call-arg]\u001b[0m\u001b[0;34m\u001b[0m\u001b[0;34m\u001b[0m\u001b[0m\n\u001b[0m\u001b[1;32m   1041\u001b[0m \u001b[0;34m\u001b[0m\u001b[0m\n\u001b[1;32m   1042\u001b[0m     \u001b[0;32mdef\u001b[0m \u001b[0m_failover_to_python\u001b[0m\u001b[0;34m(\u001b[0m\u001b[0mself\u001b[0m\u001b[0;34m)\u001b[0m\u001b[0;34m:\u001b[0m\u001b[0;34m\u001b[0m\u001b[0;34m\u001b[0m\u001b[0m\n",
            "\u001b[0;32m/usr/local/lib/python3.7/dist-packages/pandas/io/parsers/c_parser_wrapper.py\u001b[0m in \u001b[0;36m__init__\u001b[0;34m(self, src, **kwds)\u001b[0m\n\u001b[1;32m     49\u001b[0m \u001b[0;34m\u001b[0m\u001b[0m\n\u001b[1;32m     50\u001b[0m         \u001b[0;31m# open handles\u001b[0m\u001b[0;34m\u001b[0m\u001b[0;34m\u001b[0m\u001b[0;34m\u001b[0m\u001b[0m\n\u001b[0;32m---> 51\u001b[0;31m         \u001b[0mself\u001b[0m\u001b[0;34m.\u001b[0m\u001b[0m_open_handles\u001b[0m\u001b[0;34m(\u001b[0m\u001b[0msrc\u001b[0m\u001b[0;34m,\u001b[0m \u001b[0mkwds\u001b[0m\u001b[0;34m)\u001b[0m\u001b[0;34m\u001b[0m\u001b[0;34m\u001b[0m\u001b[0m\n\u001b[0m\u001b[1;32m     52\u001b[0m         \u001b[0;32massert\u001b[0m \u001b[0mself\u001b[0m\u001b[0;34m.\u001b[0m\u001b[0mhandles\u001b[0m \u001b[0;32mis\u001b[0m \u001b[0;32mnot\u001b[0m \u001b[0;32mNone\u001b[0m\u001b[0;34m\u001b[0m\u001b[0;34m\u001b[0m\u001b[0m\n\u001b[1;32m     53\u001b[0m \u001b[0;34m\u001b[0m\u001b[0m\n",
            "\u001b[0;32m/usr/local/lib/python3.7/dist-packages/pandas/io/parsers/base_parser.py\u001b[0m in \u001b[0;36m_open_handles\u001b[0;34m(self, src, kwds)\u001b[0m\n\u001b[1;32m    227\u001b[0m             \u001b[0mmemory_map\u001b[0m\u001b[0;34m=\u001b[0m\u001b[0mkwds\u001b[0m\u001b[0;34m.\u001b[0m\u001b[0mget\u001b[0m\u001b[0;34m(\u001b[0m\u001b[0;34m\"memory_map\"\u001b[0m\u001b[0;34m,\u001b[0m \u001b[0;32mFalse\u001b[0m\u001b[0;34m)\u001b[0m\u001b[0;34m,\u001b[0m\u001b[0;34m\u001b[0m\u001b[0;34m\u001b[0m\u001b[0m\n\u001b[1;32m    228\u001b[0m             \u001b[0mstorage_options\u001b[0m\u001b[0;34m=\u001b[0m\u001b[0mkwds\u001b[0m\u001b[0;34m.\u001b[0m\u001b[0mget\u001b[0m\u001b[0;34m(\u001b[0m\u001b[0;34m\"storage_options\"\u001b[0m\u001b[0;34m,\u001b[0m \u001b[0;32mNone\u001b[0m\u001b[0;34m)\u001b[0m\u001b[0;34m,\u001b[0m\u001b[0;34m\u001b[0m\u001b[0;34m\u001b[0m\u001b[0m\n\u001b[0;32m--> 229\u001b[0;31m             \u001b[0merrors\u001b[0m\u001b[0;34m=\u001b[0m\u001b[0mkwds\u001b[0m\u001b[0;34m.\u001b[0m\u001b[0mget\u001b[0m\u001b[0;34m(\u001b[0m\u001b[0;34m\"encoding_errors\"\u001b[0m\u001b[0;34m,\u001b[0m \u001b[0;34m\"strict\"\u001b[0m\u001b[0;34m)\u001b[0m\u001b[0;34m,\u001b[0m\u001b[0;34m\u001b[0m\u001b[0;34m\u001b[0m\u001b[0m\n\u001b[0m\u001b[1;32m    230\u001b[0m         )\n\u001b[1;32m    231\u001b[0m \u001b[0;34m\u001b[0m\u001b[0m\n",
            "\u001b[0;32m/usr/local/lib/python3.7/dist-packages/pandas/io/common.py\u001b[0m in \u001b[0;36mget_handle\u001b[0;34m(path_or_buf, mode, encoding, compression, memory_map, is_text, errors, storage_options)\u001b[0m\n\u001b[1;32m    612\u001b[0m         \u001b[0mcompression\u001b[0m\u001b[0;34m=\u001b[0m\u001b[0mcompression\u001b[0m\u001b[0;34m,\u001b[0m\u001b[0;34m\u001b[0m\u001b[0;34m\u001b[0m\u001b[0m\n\u001b[1;32m    613\u001b[0m         \u001b[0mmode\u001b[0m\u001b[0;34m=\u001b[0m\u001b[0mmode\u001b[0m\u001b[0;34m,\u001b[0m\u001b[0;34m\u001b[0m\u001b[0;34m\u001b[0m\u001b[0m\n\u001b[0;32m--> 614\u001b[0;31m         \u001b[0mstorage_options\u001b[0m\u001b[0;34m=\u001b[0m\u001b[0mstorage_options\u001b[0m\u001b[0;34m,\u001b[0m\u001b[0;34m\u001b[0m\u001b[0;34m\u001b[0m\u001b[0m\n\u001b[0m\u001b[1;32m    615\u001b[0m     )\n\u001b[1;32m    616\u001b[0m \u001b[0;34m\u001b[0m\u001b[0m\n",
            "\u001b[0;32m/usr/local/lib/python3.7/dist-packages/pandas/io/common.py\u001b[0m in \u001b[0;36m_get_filepath_or_buffer\u001b[0;34m(filepath_or_buffer, encoding, compression, mode, storage_options)\u001b[0m\n\u001b[1;32m    310\u001b[0m         \u001b[0;31m# assuming storage_options is to be interpreted as headers\u001b[0m\u001b[0;34m\u001b[0m\u001b[0;34m\u001b[0m\u001b[0;34m\u001b[0m\u001b[0m\n\u001b[1;32m    311\u001b[0m         \u001b[0mreq_info\u001b[0m \u001b[0;34m=\u001b[0m \u001b[0murllib\u001b[0m\u001b[0;34m.\u001b[0m\u001b[0mrequest\u001b[0m\u001b[0;34m.\u001b[0m\u001b[0mRequest\u001b[0m\u001b[0;34m(\u001b[0m\u001b[0mfilepath_or_buffer\u001b[0m\u001b[0;34m,\u001b[0m \u001b[0mheaders\u001b[0m\u001b[0;34m=\u001b[0m\u001b[0mstorage_options\u001b[0m\u001b[0;34m)\u001b[0m\u001b[0;34m\u001b[0m\u001b[0;34m\u001b[0m\u001b[0m\n\u001b[0;32m--> 312\u001b[0;31m         \u001b[0;32mwith\u001b[0m \u001b[0murlopen\u001b[0m\u001b[0;34m(\u001b[0m\u001b[0mreq_info\u001b[0m\u001b[0;34m)\u001b[0m \u001b[0;32mas\u001b[0m \u001b[0mreq\u001b[0m\u001b[0;34m:\u001b[0m\u001b[0;34m\u001b[0m\u001b[0;34m\u001b[0m\u001b[0m\n\u001b[0m\u001b[1;32m    313\u001b[0m             \u001b[0mcontent_encoding\u001b[0m \u001b[0;34m=\u001b[0m \u001b[0mreq\u001b[0m\u001b[0;34m.\u001b[0m\u001b[0mheaders\u001b[0m\u001b[0;34m.\u001b[0m\u001b[0mget\u001b[0m\u001b[0;34m(\u001b[0m\u001b[0;34m\"Content-Encoding\"\u001b[0m\u001b[0;34m,\u001b[0m \u001b[0;32mNone\u001b[0m\u001b[0;34m)\u001b[0m\u001b[0;34m\u001b[0m\u001b[0;34m\u001b[0m\u001b[0m\n\u001b[1;32m    314\u001b[0m             \u001b[0;32mif\u001b[0m \u001b[0mcontent_encoding\u001b[0m \u001b[0;34m==\u001b[0m \u001b[0;34m\"gzip\"\u001b[0m\u001b[0;34m:\u001b[0m\u001b[0;34m\u001b[0m\u001b[0;34m\u001b[0m\u001b[0m\n",
            "\u001b[0;32m/usr/local/lib/python3.7/dist-packages/pandas/io/common.py\u001b[0m in \u001b[0;36murlopen\u001b[0;34m(*args, **kwargs)\u001b[0m\n\u001b[1;32m    210\u001b[0m     \u001b[0;32mimport\u001b[0m \u001b[0murllib\u001b[0m\u001b[0;34m.\u001b[0m\u001b[0mrequest\u001b[0m\u001b[0;34m\u001b[0m\u001b[0;34m\u001b[0m\u001b[0m\n\u001b[1;32m    211\u001b[0m \u001b[0;34m\u001b[0m\u001b[0m\n\u001b[0;32m--> 212\u001b[0;31m     \u001b[0;32mreturn\u001b[0m \u001b[0murllib\u001b[0m\u001b[0;34m.\u001b[0m\u001b[0mrequest\u001b[0m\u001b[0;34m.\u001b[0m\u001b[0murlopen\u001b[0m\u001b[0;34m(\u001b[0m\u001b[0;34m*\u001b[0m\u001b[0margs\u001b[0m\u001b[0;34m,\u001b[0m \u001b[0;34m**\u001b[0m\u001b[0mkwargs\u001b[0m\u001b[0;34m)\u001b[0m\u001b[0;34m\u001b[0m\u001b[0;34m\u001b[0m\u001b[0m\n\u001b[0m\u001b[1;32m    213\u001b[0m \u001b[0;34m\u001b[0m\u001b[0m\n\u001b[1;32m    214\u001b[0m \u001b[0;34m\u001b[0m\u001b[0m\n",
            "\u001b[0;32m/usr/lib/python3.7/urllib/request.py\u001b[0m in \u001b[0;36murlopen\u001b[0;34m(url, data, timeout, cafile, capath, cadefault, context)\u001b[0m\n\u001b[1;32m    220\u001b[0m     \u001b[0;32melse\u001b[0m\u001b[0;34m:\u001b[0m\u001b[0;34m\u001b[0m\u001b[0;34m\u001b[0m\u001b[0m\n\u001b[1;32m    221\u001b[0m         \u001b[0mopener\u001b[0m \u001b[0;34m=\u001b[0m \u001b[0m_opener\u001b[0m\u001b[0;34m\u001b[0m\u001b[0;34m\u001b[0m\u001b[0m\n\u001b[0;32m--> 222\u001b[0;31m     \u001b[0;32mreturn\u001b[0m \u001b[0mopener\u001b[0m\u001b[0;34m.\u001b[0m\u001b[0mopen\u001b[0m\u001b[0;34m(\u001b[0m\u001b[0murl\u001b[0m\u001b[0;34m,\u001b[0m \u001b[0mdata\u001b[0m\u001b[0;34m,\u001b[0m \u001b[0mtimeout\u001b[0m\u001b[0;34m)\u001b[0m\u001b[0;34m\u001b[0m\u001b[0;34m\u001b[0m\u001b[0m\n\u001b[0m\u001b[1;32m    223\u001b[0m \u001b[0;34m\u001b[0m\u001b[0m\n\u001b[1;32m    224\u001b[0m \u001b[0;32mdef\u001b[0m \u001b[0minstall_opener\u001b[0m\u001b[0;34m(\u001b[0m\u001b[0mopener\u001b[0m\u001b[0;34m)\u001b[0m\u001b[0;34m:\u001b[0m\u001b[0;34m\u001b[0m\u001b[0;34m\u001b[0m\u001b[0m\n",
            "\u001b[0;32m/usr/lib/python3.7/urllib/request.py\u001b[0m in \u001b[0;36mopen\u001b[0;34m(self, fullurl, data, timeout)\u001b[0m\n\u001b[1;32m    529\u001b[0m         \u001b[0;32mfor\u001b[0m \u001b[0mprocessor\u001b[0m \u001b[0;32min\u001b[0m \u001b[0mself\u001b[0m\u001b[0;34m.\u001b[0m\u001b[0mprocess_response\u001b[0m\u001b[0;34m.\u001b[0m\u001b[0mget\u001b[0m\u001b[0;34m(\u001b[0m\u001b[0mprotocol\u001b[0m\u001b[0;34m,\u001b[0m \u001b[0;34m[\u001b[0m\u001b[0;34m]\u001b[0m\u001b[0;34m)\u001b[0m\u001b[0;34m:\u001b[0m\u001b[0;34m\u001b[0m\u001b[0;34m\u001b[0m\u001b[0m\n\u001b[1;32m    530\u001b[0m             \u001b[0mmeth\u001b[0m \u001b[0;34m=\u001b[0m \u001b[0mgetattr\u001b[0m\u001b[0;34m(\u001b[0m\u001b[0mprocessor\u001b[0m\u001b[0;34m,\u001b[0m \u001b[0mmeth_name\u001b[0m\u001b[0;34m)\u001b[0m\u001b[0;34m\u001b[0m\u001b[0;34m\u001b[0m\u001b[0m\n\u001b[0;32m--> 531\u001b[0;31m             \u001b[0mresponse\u001b[0m \u001b[0;34m=\u001b[0m \u001b[0mmeth\u001b[0m\u001b[0;34m(\u001b[0m\u001b[0mreq\u001b[0m\u001b[0;34m,\u001b[0m \u001b[0mresponse\u001b[0m\u001b[0;34m)\u001b[0m\u001b[0;34m\u001b[0m\u001b[0;34m\u001b[0m\u001b[0m\n\u001b[0m\u001b[1;32m    532\u001b[0m \u001b[0;34m\u001b[0m\u001b[0m\n\u001b[1;32m    533\u001b[0m         \u001b[0;32mreturn\u001b[0m \u001b[0mresponse\u001b[0m\u001b[0;34m\u001b[0m\u001b[0;34m\u001b[0m\u001b[0m\n",
            "\u001b[0;32m/usr/lib/python3.7/urllib/request.py\u001b[0m in \u001b[0;36mhttp_response\u001b[0;34m(self, request, response)\u001b[0m\n\u001b[1;32m    639\u001b[0m         \u001b[0;32mif\u001b[0m \u001b[0;32mnot\u001b[0m \u001b[0;34m(\u001b[0m\u001b[0;36m200\u001b[0m \u001b[0;34m<=\u001b[0m \u001b[0mcode\u001b[0m \u001b[0;34m<\u001b[0m \u001b[0;36m300\u001b[0m\u001b[0;34m)\u001b[0m\u001b[0;34m:\u001b[0m\u001b[0;34m\u001b[0m\u001b[0;34m\u001b[0m\u001b[0m\n\u001b[1;32m    640\u001b[0m             response = self.parent.error(\n\u001b[0;32m--> 641\u001b[0;31m                 'http', request, response, code, msg, hdrs)\n\u001b[0m\u001b[1;32m    642\u001b[0m \u001b[0;34m\u001b[0m\u001b[0m\n\u001b[1;32m    643\u001b[0m         \u001b[0;32mreturn\u001b[0m \u001b[0mresponse\u001b[0m\u001b[0;34m\u001b[0m\u001b[0;34m\u001b[0m\u001b[0m\n",
            "\u001b[0;32m/usr/lib/python3.7/urllib/request.py\u001b[0m in \u001b[0;36merror\u001b[0;34m(self, proto, *args)\u001b[0m\n\u001b[1;32m    567\u001b[0m         \u001b[0;32mif\u001b[0m \u001b[0mhttp_err\u001b[0m\u001b[0;34m:\u001b[0m\u001b[0;34m\u001b[0m\u001b[0;34m\u001b[0m\u001b[0m\n\u001b[1;32m    568\u001b[0m             \u001b[0margs\u001b[0m \u001b[0;34m=\u001b[0m \u001b[0;34m(\u001b[0m\u001b[0mdict\u001b[0m\u001b[0;34m,\u001b[0m \u001b[0;34m'default'\u001b[0m\u001b[0;34m,\u001b[0m \u001b[0;34m'http_error_default'\u001b[0m\u001b[0;34m)\u001b[0m \u001b[0;34m+\u001b[0m \u001b[0morig_args\u001b[0m\u001b[0;34m\u001b[0m\u001b[0;34m\u001b[0m\u001b[0m\n\u001b[0;32m--> 569\u001b[0;31m             \u001b[0;32mreturn\u001b[0m \u001b[0mself\u001b[0m\u001b[0;34m.\u001b[0m\u001b[0m_call_chain\u001b[0m\u001b[0;34m(\u001b[0m\u001b[0;34m*\u001b[0m\u001b[0margs\u001b[0m\u001b[0;34m)\u001b[0m\u001b[0;34m\u001b[0m\u001b[0;34m\u001b[0m\u001b[0m\n\u001b[0m\u001b[1;32m    570\u001b[0m \u001b[0;34m\u001b[0m\u001b[0m\n\u001b[1;32m    571\u001b[0m \u001b[0;31m# XXX probably also want an abstract factory that knows when it makes\u001b[0m\u001b[0;34m\u001b[0m\u001b[0;34m\u001b[0m\u001b[0;34m\u001b[0m\u001b[0m\n",
            "\u001b[0;32m/usr/lib/python3.7/urllib/request.py\u001b[0m in \u001b[0;36m_call_chain\u001b[0;34m(self, chain, kind, meth_name, *args)\u001b[0m\n\u001b[1;32m    501\u001b[0m         \u001b[0;32mfor\u001b[0m \u001b[0mhandler\u001b[0m \u001b[0;32min\u001b[0m \u001b[0mhandlers\u001b[0m\u001b[0;34m:\u001b[0m\u001b[0;34m\u001b[0m\u001b[0;34m\u001b[0m\u001b[0m\n\u001b[1;32m    502\u001b[0m             \u001b[0mfunc\u001b[0m \u001b[0;34m=\u001b[0m \u001b[0mgetattr\u001b[0m\u001b[0;34m(\u001b[0m\u001b[0mhandler\u001b[0m\u001b[0;34m,\u001b[0m \u001b[0mmeth_name\u001b[0m\u001b[0;34m)\u001b[0m\u001b[0;34m\u001b[0m\u001b[0;34m\u001b[0m\u001b[0m\n\u001b[0;32m--> 503\u001b[0;31m             \u001b[0mresult\u001b[0m \u001b[0;34m=\u001b[0m \u001b[0mfunc\u001b[0m\u001b[0;34m(\u001b[0m\u001b[0;34m*\u001b[0m\u001b[0margs\u001b[0m\u001b[0;34m)\u001b[0m\u001b[0;34m\u001b[0m\u001b[0;34m\u001b[0m\u001b[0m\n\u001b[0m\u001b[1;32m    504\u001b[0m             \u001b[0;32mif\u001b[0m \u001b[0mresult\u001b[0m \u001b[0;32mis\u001b[0m \u001b[0;32mnot\u001b[0m \u001b[0;32mNone\u001b[0m\u001b[0;34m:\u001b[0m\u001b[0;34m\u001b[0m\u001b[0;34m\u001b[0m\u001b[0m\n\u001b[1;32m    505\u001b[0m                 \u001b[0;32mreturn\u001b[0m \u001b[0mresult\u001b[0m\u001b[0;34m\u001b[0m\u001b[0;34m\u001b[0m\u001b[0m\n",
            "\u001b[0;32m/usr/lib/python3.7/urllib/request.py\u001b[0m in \u001b[0;36mhttp_error_default\u001b[0;34m(self, req, fp, code, msg, hdrs)\u001b[0m\n\u001b[1;32m    647\u001b[0m \u001b[0;32mclass\u001b[0m \u001b[0mHTTPDefaultErrorHandler\u001b[0m\u001b[0;34m(\u001b[0m\u001b[0mBaseHandler\u001b[0m\u001b[0;34m)\u001b[0m\u001b[0;34m:\u001b[0m\u001b[0;34m\u001b[0m\u001b[0;34m\u001b[0m\u001b[0m\n\u001b[1;32m    648\u001b[0m     \u001b[0;32mdef\u001b[0m \u001b[0mhttp_error_default\u001b[0m\u001b[0;34m(\u001b[0m\u001b[0mself\u001b[0m\u001b[0;34m,\u001b[0m \u001b[0mreq\u001b[0m\u001b[0;34m,\u001b[0m \u001b[0mfp\u001b[0m\u001b[0;34m,\u001b[0m \u001b[0mcode\u001b[0m\u001b[0;34m,\u001b[0m \u001b[0mmsg\u001b[0m\u001b[0;34m,\u001b[0m \u001b[0mhdrs\u001b[0m\u001b[0;34m)\u001b[0m\u001b[0;34m:\u001b[0m\u001b[0;34m\u001b[0m\u001b[0;34m\u001b[0m\u001b[0m\n\u001b[0;32m--> 649\u001b[0;31m         \u001b[0;32mraise\u001b[0m \u001b[0mHTTPError\u001b[0m\u001b[0;34m(\u001b[0m\u001b[0mreq\u001b[0m\u001b[0;34m.\u001b[0m\u001b[0mfull_url\u001b[0m\u001b[0;34m,\u001b[0m \u001b[0mcode\u001b[0m\u001b[0;34m,\u001b[0m \u001b[0mmsg\u001b[0m\u001b[0;34m,\u001b[0m \u001b[0mhdrs\u001b[0m\u001b[0;34m,\u001b[0m \u001b[0mfp\u001b[0m\u001b[0;34m)\u001b[0m\u001b[0;34m\u001b[0m\u001b[0;34m\u001b[0m\u001b[0m\n\u001b[0m\u001b[1;32m    650\u001b[0m \u001b[0;34m\u001b[0m\u001b[0m\n\u001b[1;32m    651\u001b[0m \u001b[0;32mclass\u001b[0m \u001b[0mHTTPRedirectHandler\u001b[0m\u001b[0;34m(\u001b[0m\u001b[0mBaseHandler\u001b[0m\u001b[0;34m)\u001b[0m\u001b[0;34m:\u001b[0m\u001b[0;34m\u001b[0m\u001b[0;34m\u001b[0m\u001b[0m\n",
            "\u001b[0;31mHTTPError\u001b[0m: HTTP Error 404: Not Found"
          ]
        }
      ],
      "source": [
        "confirmed_df = pd.read_csv('https://raw.githubusercontent.com/CSSEGISandData/COVID-19/master/csse_covid_19_data/csse_covid_19_time_series/time_series_covid19_confirmed_global.csv')\n",
        "deaths_df = pd.read_csv('https://raw.githubusercontent.com/CSSEGISandData/COVID-19/master/csse_covid_19_data/csse_covid_19_time_series/time_series_covid19_deaths_global.csv')\n",
        "latest_data = pd.read_csv('https://raw.githubusercontent.com/CSSEGISandData/COVID-19/master/csse_covid_19_data/csse_covid_19_daily_reports/02-26-2022.csv')\n",
        "us_medical_data = pd.read_csv('https://raw.githubusercontent.com/CSSEGISandData/COVID-19/master/csse_covid_19_data/csse_covid_19_daily_reports_us/02-26-2022.csv')\n",
        "apple_mobility = pd.read_csv(\"https://covid19-static.cdn-apple.com/covid19-mobility-data/2208HotfixDev18/v3/en-us/applemobilitytrends-2022-02-24.csv\")"
      ]
    },
    {
      "cell_type": "markdown",
      "source": [
        "# New Section"
      ],
      "metadata": {
        "id": "Sfpq4_ZDb9eL"
      }
    },
    {
      "cell_type": "code",
      "execution_count": null,
      "metadata": {
        "id": "sZ1mPHLEIrJR"
      },
      "outputs": [],
      "source": [
        "latest_data.head()"
      ]
    },
    {
      "cell_type": "code",
      "execution_count": null,
      "metadata": {
        "id": "jwJgl8gxJJq7"
      },
      "outputs": [],
      "source": [
        "confirmed_df.head()"
      ]
    },
    {
      "cell_type": "code",
      "source": [
        ""
      ],
      "metadata": {
        "id": "NEuN4xbu6Y9N"
      },
      "execution_count": null,
      "outputs": []
    },
    {
      "cell_type": "code",
      "execution_count": null,
      "metadata": {
        "id": "m1PLgw0-JL_1"
      },
      "outputs": [],
      "source": [
        "us_medical_data.head()"
      ]
    },
    {
      "cell_type": "code",
      "execution_count": null,
      "metadata": {
        "id": "uSErLrRSJOwY"
      },
      "outputs": [],
      "source": [
        "cols = confirmed_df.keys()"
      ]
    },
    {
      "cell_type": "markdown",
      "metadata": {
        "id": "naXXa125JSnV"
      },
      "source": [
        "Get all the dates for the ongoing coronavirus pandemic"
      ]
    },
    {
      "cell_type": "code",
      "execution_count": null,
      "metadata": {
        "id": "5QQyIv1-JQ1k"
      },
      "outputs": [],
      "source": [
        "confirmed = confirmed_df.loc[:, cols[4]:cols[-1]]\n",
        "deaths = deaths_df.loc[:, cols[4]:cols[-1]]"
      ]
    },
    {
      "cell_type": "code",
      "execution_count": null,
      "metadata": {
        "id": "b-VMb1mmJWZM"
      },
      "outputs": [],
      "source": [
        "dates = confirmed.keys()\n",
        "world_cases = []\n",
        "total_deaths = [] \n",
        "mortality_rate = []\n",
        "\n",
        "for i in dates:\n",
        "    confirmed_sum = confirmed[i].sum()\n",
        "    death_sum = deaths[i].sum()\n",
        "    \n",
        "    # confirmed, deaths\n",
        "    world_cases.append(confirmed_sum)\n",
        "    total_deaths.append(death_sum)\n",
        "    \n",
        "    # calculate rates\n",
        "    mortality_rate.append(death_sum/confirmed_sum)"
      ]
    },
    {
      "cell_type": "markdown",
      "metadata": {
        "id": "U62_vXd2JcLz"
      },
      "source": [
        "Getting daily increases and moving averages"
      ]
    },
    {
      "cell_type": "code",
      "execution_count": null,
      "metadata": {
        "id": "Q4Svi3rtJZsH"
      },
      "outputs": [],
      "source": [
        "def daily_increase(data):\n",
        "    d = [] \n",
        "    for i in range(len(data)):\n",
        "        if i == 0:\n",
        "            d.append(data[0])\n",
        "        else:\n",
        "            d.append(data[i]-data[i-1])\n",
        "    return d \n",
        "\n",
        "def moving_average(data, window_size):\n",
        "    moving_average = []\n",
        "    for i in range(len(data)):\n",
        "        if i + window_size < len(data):\n",
        "            moving_average.append(np.mean(data[i:i+window_size]))\n",
        "        else:\n",
        "            moving_average.append(np.mean(data[i:len(data)]))\n",
        "    return moving_average\n"
      ]
    },
    {
      "cell_type": "markdown",
      "metadata": {
        "id": "IMf5VEwIevWl"
      },
      "source": [
        "Window Size"
      ]
    },
    {
      "cell_type": "code",
      "execution_count": null,
      "metadata": {
        "id": "5pDjchWdet_d"
      },
      "outputs": [],
      "source": [
        "window = 7"
      ]
    },
    {
      "cell_type": "markdown",
      "metadata": {
        "id": "g1lqMyNZfCiW"
      },
      "source": [
        "Confirmed cases"
      ]
    },
    {
      "cell_type": "code",
      "execution_count": null,
      "metadata": {
        "id": "ajP4YEMBeuIn"
      },
      "outputs": [],
      "source": [
        "world_daily_increase = daily_increase(world_cases)\n",
        "world_confirmed_avg= moving_average(world_cases, window)\n",
        "world_daily_increase_avg = moving_average(world_daily_increase, window)"
      ]
    },
    {
      "cell_type": "markdown",
      "metadata": {
        "id": "ZDg8RrjMfKJk"
      },
      "source": [
        "Deaths"
      ]
    },
    {
      "cell_type": "code",
      "execution_count": null,
      "metadata": {
        "id": "fVr738r-euRC"
      },
      "outputs": [],
      "source": [
        "world_daily_death = daily_increase(total_deaths)\n",
        "world_death_avg = moving_average(total_deaths, window)\n",
        "world_daily_death_avg = moving_average(world_daily_death, window)"
      ]
    },
    {
      "cell_type": "code",
      "execution_count": null,
      "metadata": {
        "id": "m2aBuplGJiJP"
      },
      "outputs": [],
      "source": [
        "days_since_1_22 = np.array([i for i in range(len(dates))]).reshape(-1, 1)\n",
        "world_cases = np.array(world_cases).reshape(-1, 1)\n",
        "total_deaths = np.array(total_deaths).reshape(-1, 1)"
      ]
    },
    {
      "cell_type": "markdown",
      "metadata": {
        "id": "q6iY-1GqJ1dF"
      },
      "source": [
        "Future forcasting"
      ]
    },
    {
      "cell_type": "code",
      "execution_count": null,
      "metadata": {
        "id": "oVPJ_VSsJq2n"
      },
      "outputs": [],
      "source": [
        "days_in_future = 10\n",
        "future_forcast = np.array([i for i in range(len(dates)+days_in_future)]).reshape(-1, 1)\n",
        "adjusted_dates = future_forcast[:-10]"
      ]
    },
    {
      "cell_type": "markdown",
      "metadata": {
        "id": "meSHLoOQJ59t"
      },
      "source": [
        "Convert integer into datetime for better visualization"
      ]
    },
    {
      "cell_type": "code",
      "execution_count": null,
      "metadata": {
        "id": "oGQUO0oqJ4D1"
      },
      "outputs": [],
      "source": [
        "start = '1/22/2020'\n",
        "start_date = datetime.datetime.strptime(start, '%m/%d/%Y')\n",
        "future_forcast_dates = []\n",
        "for i in range(len(future_forcast)):\n",
        "    future_forcast_dates.append((start_date + datetime.timedelta(days=i)).strftime('%m/%d/%Y'))"
      ]
    },
    {
      "cell_type": "markdown",
      "metadata": {
        "id": "NAbISHhQfg_v"
      },
      "source": [
        "Slightly modify the data to fit the model better (regression models cannot pick the pattern)"
      ]
    },
    {
      "cell_type": "code",
      "execution_count": null,
      "metadata": {
        "id": "YXt8RkWXJ9du"
      },
      "outputs": [],
      "source": [
        "days_to_skip = 376\n",
        "X_train_confirmed, X_test_confirmed, y_train_confirmed, y_test_confirmed = train_test_split(days_since_1_22[days_to_skip:], world_cases[days_to_skip:], test_size=0.08, shuffle=False) "
      ]
    },
    {
      "cell_type": "markdown",
      "metadata": {
        "id": "XE1IDnQEs49X"
      },
      "source": [
        ""
      ]
    },
    {
      "cell_type": "code",
      "execution_count": null,
      "metadata": {
        "id": "slCp9ci-s50n"
      },
      "outputs": [],
      "source": [
        ""
      ]
    },
    {
      "cell_type": "markdown",
      "metadata": {
        "id": "7E5YKcJu5GPT"
      },
      "source": [
        "# Model"
      ]
    },
    {
      "cell_type": "markdown",
      "metadata": {
        "id": "9Eu4PO5FKB96"
      },
      "source": [
        "Model for predicting # of confirmed cases. We are using \n",
        "1. Support vector machine\n",
        "2. Bayesian ridge\n",
        "3. Polynomial regression in this example.\n",
        "\n",
        "We will show the results in the later section."
      ]
    },
    {
      "cell_type": "code",
      "execution_count": null,
      "metadata": {
        "id": "dyuqgYCMKL4p"
      },
      "outputs": [],
      "source": [
        "svm_confirmed = SVR(shrinking=True, kernel='poly',gamma=0.01, epsilon=1,degree=3, C=0.1)\n",
        "svm_confirmed.fit(X_train_confirmed, y_train_confirmed)\n",
        "svm_pred = svm_confirmed.predict(future_forcast)"
      ]
    },
    {
      "cell_type": "markdown",
      "metadata": {
        "id": "vlhgY2bwfrFP"
      },
      "source": [
        "Check against testing data"
      ]
    },
    {
      "cell_type": "code",
      "execution_count": null,
      "metadata": {
        "id": "p4Dncjy8KPBG"
      },
      "outputs": [],
      "source": [
        "svm_test_pred = svm_confirmed.predict(X_test_confirmed)\n",
        "plt.plot(y_test_confirmed)\n",
        "plt.plot(svm_test_pred)\n",
        "plt.legend(['Test Data', 'SVM Predictions'])\n",
        "print('MAE:', mean_absolute_error(svm_test_pred, y_test_confirmed))\n",
        "print('MSE:',mean_squared_error(svm_test_pred, y_test_confirmed))"
      ]
    },
    {
      "cell_type": "markdown",
      "metadata": {
        "id": "T2Fd3M4Afvm2"
      },
      "source": [
        "Transform our data for polynomial regression"
      ]
    },
    {
      "cell_type": "code",
      "execution_count": null,
      "metadata": {
        "id": "j2A5DqSxKR4C"
      },
      "outputs": [],
      "source": [
        "poly = PolynomialFeatures(degree=2)\n",
        "poly_X_train_confirmed = poly.fit_transform(X_train_confirmed)\n",
        "poly_X_test_confirmed = poly.fit_transform(X_test_confirmed)\n",
        "poly_future_forcast = poly.fit_transform(future_forcast)\n",
        "\n",
        "bayesian_poly = PolynomialFeatures(degree=2)\n",
        "bayesian_poly_X_train_confirmed = bayesian_poly.fit_transform(X_train_confirmed)\n",
        "bayesian_poly_X_test_confirmed = bayesian_poly.fit_transform(X_test_confirmed)\n",
        "bayesian_poly_future_forcast = bayesian_poly.fit_transform(future_forcast)"
      ]
    },
    {
      "cell_type": "markdown",
      "metadata": {
        "id": "AmGuPaKkf0-A"
      },
      "source": [
        "Polynomial regression"
      ]
    },
    {
      "cell_type": "code",
      "execution_count": null,
      "metadata": {
        "id": "_U1Vz6LrKU35"
      },
      "outputs": [],
      "source": [
        "linear_model = LinearRegression(normalize=True, fit_intercept=False)\n",
        "linear_model.fit(poly_X_train_confirmed, y_train_confirmed)\n",
        "test_linear_pred = linear_model.predict(poly_X_test_confirmed)\n",
        "linear_pred = linear_model.predict(poly_future_forcast)\n",
        "print('MAE:', mean_absolute_error(test_linear_pred, y_test_confirmed))\n",
        "print('MSE:',mean_squared_error(test_linear_pred, y_test_confirmed))"
      ]
    },
    {
      "cell_type": "code",
      "execution_count": null,
      "metadata": {
        "id": "dHXes9ZwKXvi"
      },
      "outputs": [],
      "source": [
        "print(linear_model.coef_)"
      ]
    },
    {
      "cell_type": "code",
      "execution_count": null,
      "metadata": {
        "id": "kEu5KUKLKaFA"
      },
      "outputs": [],
      "source": [
        "plt.plot(y_test_confirmed)\n",
        "plt.plot(test_linear_pred)\n",
        "plt.legend(['Test Data', 'Polynomial Regression Predictions'])"
      ]
    },
    {
      "cell_type": "markdown",
      "metadata": {
        "id": "0_5mRdu7f5HI"
      },
      "source": [
        "Bayesian ridge polynomial regression"
      ]
    },
    {
      "cell_type": "code",
      "execution_count": null,
      "metadata": {
        "id": "YTxTSIcOKd8O"
      },
      "outputs": [],
      "source": [
        "tol = [1e-6, 1e-5, 1e-4, 1e-3, 1e-2]\n",
        "alpha_1 = [1e-7, 1e-6, 1e-5, 1e-4, 1e-3]\n",
        "alpha_2 = [1e-7, 1e-6, 1e-5, 1e-4, 1e-3]\n",
        "lambda_1 = [1e-7, 1e-6, 1e-5, 1e-4, 1e-3]\n",
        "lambda_2 = [1e-7, 1e-6, 1e-5, 1e-4, 1e-3]\n",
        "normalize = [True, False]\n",
        "\n",
        "bayesian_grid = {'tol': tol, 'alpha_1': alpha_1, 'alpha_2' : alpha_2, 'lambda_1': lambda_1, 'lambda_2' : lambda_2, \n",
        "                 'normalize' : normalize}\n",
        "\n",
        "bayesian = BayesianRidge(fit_intercept=False)\n",
        "bayesian_search = RandomizedSearchCV(bayesian, bayesian_grid, scoring='neg_mean_squared_error', cv=3, return_train_score=True, n_jobs=-1, n_iter=40, verbose=1)\n",
        "bayesian_search.fit(bayesian_poly_X_train_confirmed, y_train_confirmed)"
      ]
    },
    {
      "cell_type": "code",
      "execution_count": null,
      "metadata": {
        "id": "b4LGN9jTKhqj"
      },
      "outputs": [],
      "source": [
        "bayesian_search.best_params_"
      ]
    },
    {
      "cell_type": "code",
      "execution_count": null,
      "metadata": {
        "id": "lD8TuCYFKvyw"
      },
      "outputs": [],
      "source": [
        "bayesian_confirmed = bayesian_search.best_estimator_\n",
        "test_bayesian_pred = bayesian_confirmed.predict(bayesian_poly_X_test_confirmed)\n",
        "bayesian_pred = bayesian_confirmed.predict(bayesian_poly_future_forcast)\n",
        "print('MAE:', mean_absolute_error(test_bayesian_pred, y_test_confirmed))\n",
        "print('MSE:',mean_squared_error(test_bayesian_pred, y_test_confirmed))"
      ]
    },
    {
      "cell_type": "code",
      "execution_count": null,
      "metadata": {
        "id": "lXqbUPDiK8oh"
      },
      "outputs": [],
      "source": [
        "plt.plot(y_test_confirmed)\n",
        "plt.plot(test_bayesian_pred)\n",
        "plt.legend(['Test Data', 'Bayesian Ridge Polynomial Predictions'])"
      ]
    },
    {
      "cell_type": "markdown",
      "metadata": {
        "id": "gJbTBlD4LEE0"
      },
      "source": [
        "#Worldwide Overview"
      ]
    },
    {
      "cell_type": "markdown",
      "metadata": {
        "id": "CQ-XdGJ0LG9c"
      },
      "source": [
        "Graphing the number of confirmed cases, deaths, and mortality rate (CFR). This gives us a big picture of the ongoing pandemic."
      ]
    },
    {
      "cell_type": "markdown",
      "metadata": {
        "id": "k5v_FY0bgFqO"
      },
      "source": [
        "Helper method for flattening the data, so it can be displayed on a bar graph"
      ]
    },
    {
      "cell_type": "code",
      "execution_count": null,
      "metadata": {
        "id": "ptBOPVa1K_yW"
      },
      "outputs": [],
      "source": [
        "def flatten(arr):\n",
        "  a = [] \n",
        "  arr = arr.tolist()\n",
        "  for i in arr:\n",
        "      a.append(i[0])\n",
        "  return a"
      ]
    },
    {
      "cell_type": "code",
      "execution_count": null,
      "metadata": {
        "id": "PKyT5FhKLJwL"
      },
      "outputs": [],
      "source": [
        "adjusted_dates = adjusted_dates.reshape(1, -1)[0]\n",
        "plt.figure(figsize=(16, 10))\n",
        "plt.plot(adjusted_dates, world_cases)\n",
        "plt.plot(adjusted_dates, world_confirmed_avg, linestyle='dashed', color='orange')\n",
        "plt.title('No of Coronavirus Cases Over Time', size=30)\n",
        "plt.xlabel('Days Since 1/22/2020', size=30)\n",
        "plt.ylabel('No of Cases', size=30)\n",
        "plt.legend(['Worldwide Coronavirus Cases', 'Moving Average {} Days'.format(window)], prop={'size': 20})\n",
        "plt.xticks(size=20)\n",
        "plt.yticks(size=20)\n",
        "plt.show()\n",
        "\n",
        "plt.figure(figsize=(16, 10))\n",
        "plt.plot(adjusted_dates, total_deaths)\n",
        "plt.plot(adjusted_dates, world_death_avg, linestyle='dashed', color='orange')\n",
        "plt.title('No of Coronavirus Deaths Over Time', size=30)\n",
        "plt.xlabel('Days Since 1/22/2020', size=30)\n",
        "plt.ylabel('No of Cases', size=30)\n",
        "plt.legend(['Worldwide Coronavirus Deaths', 'Moving Average {} Days'.format(window)], prop={'size': 20})\n",
        "plt.xticks(size=20)\n",
        "plt.yticks(size=20)\n",
        "plt.show()"
      ]
    },
    {
      "cell_type": "code",
      "execution_count": null,
      "metadata": {
        "id": "EwxTB7R9LfFB"
      },
      "outputs": [],
      "source": [
        "plt.figure(figsize=(16, 10))\n",
        "plt.bar(adjusted_dates, world_daily_increase)\n",
        "plt.plot(adjusted_dates, world_daily_increase_avg, color='orange', linestyle='dashed')\n",
        "plt.title('World Daily Increases in Confirmed Cases', size=30)\n",
        "plt.xlabel('Days Since 1/22/2020', size=30)\n",
        "plt.ylabel('No of Cases', size=30)\n",
        "plt.legend(['Moving Average {} Days'.format(window), 'World Daily Increase in COVID-19 Cases'], prop={'size': 20})\n",
        "plt.xticks(size=20)\n",
        "plt.yticks(size=20)\n",
        "plt.show()\n",
        "\n",
        "plt.figure(figsize=(16, 10))\n",
        "plt.bar(adjusted_dates, world_daily_death)\n",
        "plt.plot(adjusted_dates, world_daily_death_avg, color='orange', linestyle='dashed')\n",
        "plt.title('World Daily Increases in Confirmed Deaths', size=30)\n",
        "plt.xlabel('Days Since 1/22/2020', size=30)\n",
        "plt.ylabel('No of Cases', size=30)\n",
        "plt.legend(['Moving Average {} Days'.format(window), 'World Daily Increase in COVID-19 Deaths'], prop={'size': 20})\n",
        "plt.xticks(size=20)\n",
        "plt.yticks(size=20)\n",
        "plt.show()"
      ]
    },
    {
      "cell_type": "code",
      "execution_count": null,
      "metadata": {
        "id": "R0fXfz8qLsFp"
      },
      "outputs": [],
      "source": [
        "plt.figure(figsize=(16, 10))\n",
        "plt.plot(adjusted_dates, np.log10(world_cases))\n",
        "plt.title('Log of No of Coronavirus Cases Over Time', size=30)\n",
        "plt.xlabel('Days Since 1/22/2020', size=30)\n",
        "plt.ylabel('No of Cases', size=30)\n",
        "plt.xticks(size=20)\n",
        "plt.yticks(size=20)\n",
        "plt.show()\n",
        "\n",
        "plt.figure(figsize=(16, 10))\n",
        "plt.plot(adjusted_dates, np.log10(total_deaths))\n",
        "plt.title('Log of No of Coronavirus Deaths Over Time', size=30)\n",
        "plt.xlabel('Days Since 1/22/2020', size=30)\n",
        "plt.ylabel('No of Cases', size=30)\n",
        "plt.xticks(size=20)\n",
        "plt.yticks(size=20)\n",
        "plt.show()"
      ]
    },
    {
      "cell_type": "code",
      "execution_count": null,
      "metadata": {
        "id": "NqTSOc5ZM1GS"
      },
      "outputs": [],
      "source": [
        "def country_plot(x, y1, y2, y3, country):\n",
        "    # window is set as 14 in in the beginning of the notebook \n",
        "    confirmed_avg = moving_average(y1, window)\n",
        "    confirmed_increase_avg = moving_average(y2, window)\n",
        "    death_increase_avg = moving_average(y3, window)\n",
        "#     recovery_increase_avg = moving_average(y4, window)\n",
        "    \n",
        "    plt.figure(figsize=(16, 10))\n",
        "    plt.plot(x, y1)\n",
        "    plt.plot(x, confirmed_avg, color='red', linestyle='dashed')\n",
        "    plt.legend(['{} Confirmed Cases'.format(country), 'Moving Average {} Days'.format(window)], prop={'size': 20})\n",
        "    plt.title('{} Confirmed Cases'.format(country), size=30)\n",
        "    plt.xlabel('Days Since 1/22/2020', size=30)\n",
        "    plt.ylabel('# of Cases', size=30)\n",
        "    plt.xticks(size=20)\n",
        "    plt.yticks(size=20)\n",
        "    plt.show()\n",
        "\n",
        "    plt.figure(figsize=(16, 10))\n",
        "    plt.bar(x, y2)\n",
        "    plt.plot(x, confirmed_increase_avg, color='red', linestyle='dashed')\n",
        "    plt.legend(['Moving Average {} Days'.format(window), '{} Daily Increase in Confirmed Cases'.format(country)], prop={'size': 20})\n",
        "    plt.title('{} Daily Increases in Confirmed Cases'.format(country), size=30)\n",
        "    plt.xlabel('Days Since 1/22/2020', size=30)\n",
        "    plt.ylabel('# of Cases', size=30)\n",
        "    plt.xticks(size=20)\n",
        "    plt.yticks(size=20)\n",
        "    plt.show()\n",
        "\n",
        "    plt.figure(figsize=(16, 10))\n",
        "    plt.bar(x, y3)\n",
        "    plt.plot(x, death_increase_avg, color='red', linestyle='dashed')\n",
        "    plt.legend(['Moving Average {} Days'.format(window), '{} Daily Increase in Confirmed Deaths'.format(country)], prop={'size': 20})\n",
        "    plt.title('{} Daily Increases in Deaths'.format(country), size=30)\n",
        "    plt.xlabel('Days Since 1/22/2020', size=30)\n",
        "    plt.ylabel('# of Cases', size=30)\n",
        "    plt.xticks(size=20)\n",
        "    plt.yticks(size=20)\n",
        "    plt.show()\n",
        "\n",
        "         \n"
      ]
    },
    {
      "cell_type": "markdown",
      "metadata": {
        "id": "bcJEwvF_gUhG"
      },
      "source": [
        "Helper function for getting country's cases, deaths, and recoveries"
      ]
    },
    {
      "cell_type": "code",
      "execution_count": null,
      "metadata": {
        "id": "SmVbwMBIgg3G"
      },
      "outputs": [],
      "source": [
        "def get_country_info(country_name):\n",
        "    country_cases = []\n",
        "    country_deaths = []\n",
        "#     country_recoveries = []  \n",
        "    \n",
        "    for i in dates:\n",
        "        country_cases.append(confirmed_df[confirmed_df['Country/Region']==country_name][i].sum())\n",
        "        country_deaths.append(deaths_df[deaths_df['Country/Region']==country_name][i].sum())\n",
        "#         country_recoveries.append(recoveries_df[recoveries_df['Country/Region']==country_name][i].sum())\n",
        "    return (country_cases, country_deaths)\n",
        "    \n",
        "    \n",
        "def country_visualizations(country_name):\n",
        "    country_info = get_country_info(country_name)\n",
        "    country_cases = country_info[0]\n",
        "    country_deaths = country_info[1]\n",
        "    \n",
        "    country_daily_increase = daily_increase(country_cases)\n",
        "    country_daily_death = daily_increase(country_deaths)\n",
        "#     country_daily_recovery = daily_increase(country_recoveries)\n",
        "    \n",
        "    country_plot(adjusted_dates, country_cases, country_daily_increase, country_daily_death, country_name)"
      ]
    },
    {
      "cell_type": "markdown",
      "metadata": {
        "id": "XGqTGjn3NJVX"
      },
      "source": [
        "#Country Specific Graphs"
      ]
    },
    {
      "cell_type": "markdown",
      "metadata": {
        "id": "fyZPUMwJNM2x"
      },
      "source": [
        "Unlike the previous section, we are taking a look at specific countries. This allows us to examine the pandemic at a local level."
      ]
    },
    {
      "cell_type": "code",
      "execution_count": null,
      "metadata": {
        "id": "W-5wM84DNFFE"
      },
      "outputs": [],
      "source": [
        "countries = ['Bangladesh', 'US', 'Russia', 'India', 'Brazil', 'South Africa', 'China', 'Italy',\n",
        "             'Germany', 'Spain', 'France', 'United Kingdom', 'Peru', 'Mexico', 'Colombia', 'Argentina', 'Saudi Arabia', 'Iran',\n",
        "            'Pakistan', 'Turkey', 'Philippines', 'Iraq', 'Indonesia', 'Israel', 'Ukraine', 'Ecuador', 'Bolivia', 'Netherlands', 'Belgium', 'Poland', 'Czechia', 'Switzerland',\n",
        "            'Romania', 'Morocco','Portugal', 'Austria', 'Sweden'] \n",
        "\n",
        "for country in countries:\n",
        "    country_visualizations(country)"
      ]
    },
    {
      "cell_type": "code",
      "execution_count": null,
      "metadata": {
        "id": "kMfMI-4FNQGi"
      },
      "outputs": [],
      "source": [
        "def plot_predictions(x, y, pred, algo_name, color):\n",
        "    plt.figure(figsize=(16, 10))\n",
        "    plt.plot(x, y)\n",
        "    plt.plot(future_forcast, pred, linestyle='dashed', color=color)\n",
        "    plt.title('Worldwide Coronavirus Cases Over Time', size=30)\n",
        "    plt.xlabel('Days Since 1/22/2020', size=30)\n",
        "    plt.ylabel('No of Cases', size=30)\n",
        "    plt.legend(['Confirmed Cases', algo_name], prop={'size': 20})\n",
        "    plt.xticks(size=20)\n",
        "    plt.yticks(size=20)\n",
        "    plt.show()"
      ]
    },
    {
      "cell_type": "markdown",
      "metadata": {
        "id": "oFyjBeIpNuiO"
      },
      "source": [
        "#Predictions for confirmed coronavirus cases worldwide"
      ]
    },
    {
      "cell_type": "markdown",
      "metadata": {
        "id": "HUQxA159Nx1-"
      },
      "source": [
        "These three models predict future covid cases on a global level.\n",
        "\n",
        "The prediction models include\n",
        "\n",
        "1. Support Vector Machine\n",
        "2. Polynomial Regression\n",
        "3. Bayesian Ridge Regression"
      ]
    },
    {
      "cell_type": "code",
      "execution_count": null,
      "metadata": {
        "id": "r8c7_I0LNsOL"
      },
      "outputs": [],
      "source": [
        "plot_predictions(adjusted_dates, world_cases, svm_pred, 'SVM Predictions', 'purple')"
      ]
    },
    {
      "cell_type": "code",
      "execution_count": null,
      "metadata": {
        "id": "VcLA6xnwO-iD"
      },
      "outputs": [],
      "source": [
        "plot_predictions(adjusted_dates, world_cases, linear_pred, 'Polynomial Regression Predictions', 'orange')"
      ]
    },
    {
      "cell_type": "code",
      "execution_count": null,
      "metadata": {
        "id": "KhPvbwDGPC0-"
      },
      "outputs": [],
      "source": [
        "plot_predictions(adjusted_dates, world_cases, bayesian_pred, 'Bayesian Ridge Regression Predictions', 'green')"
      ]
    },
    {
      "cell_type": "markdown",
      "metadata": {
        "id": "xdZjO6Xsh526"
      },
      "source": [
        "Future predictions using SVM"
      ]
    },
    {
      "cell_type": "code",
      "execution_count": null,
      "metadata": {
        "id": "BAwjTc7oPFxi"
      },
      "outputs": [],
      "source": [
        "svm_df = pd.DataFrame({'Date': future_forcast_dates[-10:], 'SVM Predicted No of Confirmed Cases Worldwide': np.round(svm_pred[-10:])})\n",
        "svm_df.style.background_gradient(cmap='Reds')"
      ]
    },
    {
      "cell_type": "markdown",
      "metadata": {
        "id": "ZPvwlWzfiAod"
      },
      "source": [
        "Future predictions using polynomial regression"
      ]
    },
    {
      "cell_type": "code",
      "execution_count": null,
      "metadata": {
        "id": "Z6iSopg7PITs"
      },
      "outputs": [],
      "source": [
        "linear_pred = linear_pred.reshape(1,-1)[0]\n",
        "linear_df = pd.DataFrame({'Date': future_forcast_dates[-10:], 'Polynomial Predicted # of Confirmed Cases Worldwide': np.round(linear_pred[-10:])})\n",
        "linear_df.style.background_gradient(cmap='Reds')"
      ]
    },
    {
      "cell_type": "markdown",
      "metadata": {
        "id": "lStsqz_9h-66"
      },
      "source": [
        "Future predictions using Bayesian Ridge"
      ]
    },
    {
      "cell_type": "code",
      "execution_count": null,
      "metadata": {
        "id": "XwUFPkBzPSIa"
      },
      "outputs": [],
      "source": [
        "bayesian_df = pd.DataFrame({'Date': future_forcast_dates[-10:], 'Bayesian Ridge Predicted # of Confirmed Cases Worldwide': np.round(bayesian_pred[-10:])})\n",
        "bayesian_df.style.background_gradient(cmap='Reds')"
      ]
    },
    {
      "cell_type": "markdown",
      "metadata": {
        "id": "6v2LbHkiPdI_"
      },
      "source": [
        "Mortality Rate (worldwide) **susceptible to change**"
      ]
    },
    {
      "cell_type": "code",
      "execution_count": null,
      "metadata": {
        "id": "111yhvv3PUkm"
      },
      "outputs": [],
      "source": [
        "mean_mortality_rate = np.mean(mortality_rate)\n",
        "plt.figure(figsize=(16, 10))\n",
        "plt.plot(adjusted_dates, mortality_rate, color='orange')\n",
        "plt.axhline(y = mean_mortality_rate,linestyle='--', color='black')\n",
        "plt.title('Worldwide Mortality Rate of Coronavirus Over Time', size=30)\n",
        "plt.xlabel('Days Since 1/22/2020', size=30)\n",
        "plt.ylabel('Case Mortality Rate', size=30)\n",
        "plt.xticks(size=20)\n",
        "plt.yticks(size=20)\n",
        "plt.show()"
      ]
    },
    {
      "cell_type": "markdown",
      "metadata": {
        "id": "lauJzXVkP9ze"
      },
      "source": [
        "Getting information about countries/regions that have confirmed coronavirus cases"
      ]
    },
    {
      "cell_type": "code",
      "execution_count": null,
      "metadata": {
        "id": "w9UG28khP6Ur"
      },
      "outputs": [],
      "source": [
        "latest_data"
      ]
    },
    {
      "cell_type": "code",
      "execution_count": null,
      "metadata": {
        "id": "MiSVhGxuQA4t"
      },
      "outputs": [],
      "source": [
        "unique_countries =  list(latest_data['Country_Region'].unique())"
      ]
    },
    {
      "cell_type": "code",
      "execution_count": null,
      "metadata": {
        "id": "WroJrOnpQGGm"
      },
      "outputs": [],
      "source": [
        "country_confirmed_cases = []\n",
        "country_death_cases = [] \n",
        "country_active_cases = []\n",
        "country_incidence_rate = [] \n",
        "country_mortality_rate = [] \n",
        "\n",
        "no_cases = []\n",
        "for i in unique_countries:\n",
        "    cases = latest_data[latest_data['Country_Region']==i]['Confirmed'].sum()\n",
        "    if cases > 0:\n",
        "        country_confirmed_cases.append(cases)\n",
        "    else:\n",
        "        no_cases.append(i)\n",
        "        \n",
        "for i in no_cases:\n",
        "    unique_countries.remove(i)\n",
        "    "
      ]
    },
    {
      "cell_type": "markdown",
      "metadata": {
        "id": "frAswEsXiW3K"
      },
      "source": [
        "Sort countries by the number of confirmed cases"
      ]
    },
    {
      "cell_type": "code",
      "execution_count": null,
      "metadata": {
        "id": "hsPn08lCiRxc"
      },
      "outputs": [],
      "source": [
        "unique_countries = [k for k, v in sorted(zip(unique_countries, country_confirmed_cases), key=operator.itemgetter(1), reverse=True)]\n",
        "for i in range(len(unique_countries)):\n",
        "    country_confirmed_cases[i] = latest_data[latest_data['Country_Region']==unique_countries[i]]['Confirmed'].sum()\n",
        "    country_death_cases.append(latest_data[latest_data['Country_Region']==unique_countries[i]]['Deaths'].sum())\n",
        "    country_incidence_rate.append(latest_data[latest_data['Country_Region']==unique_countries[i]]['Incident_Rate'].sum())\n",
        "    country_mortality_rate.append(country_death_cases[i]/country_confirmed_cases[i])"
      ]
    },
    {
      "cell_type": "markdown",
      "metadata": {
        "id": "Xnx8fjzLREPf"
      },
      "source": [
        "#Data table"
      ]
    },
    {
      "cell_type": "markdown",
      "metadata": {
        "id": "KVPf1aHKRG2J"
      },
      "source": [
        "This shows covid data for several countries. The table includes the number of confirmed cases, deaths, incidence rate, and mortality rate."
      ]
    },
    {
      "cell_type": "code",
      "execution_count": null,
      "metadata": {
        "id": "ugQVPRT0QeTo"
      },
      "outputs": [],
      "source": [
        "country_df = pd.DataFrame({'Country Name': unique_countries, 'Number of Confirmed Cases': [format(int(i), ',d') for i in country_confirmed_cases],\n",
        "                          'Number of Deaths': [format(int(i), ',d') for i in country_death_cases], \n",
        "                          'Incidence Rate' : country_incidence_rate,\n",
        "                          'Mortality Rate': country_mortality_rate})\n"
      ]
    },
    {
      "cell_type": "markdown",
      "metadata": {
        "id": "zdRRT_d_ix5W"
      },
      "source": [
        "Number of cases per country/region"
      ]
    },
    {
      "cell_type": "code",
      "execution_count": null,
      "metadata": {
        "id": "6ucN4I1ii3aC"
      },
      "outputs": [],
      "source": [
        "country_df.style.background_gradient(cmap='Oranges')"
      ]
    },
    {
      "cell_type": "code",
      "execution_count": null,
      "metadata": {
        "id": "OXMEm65fRJwE"
      },
      "outputs": [],
      "source": [
        "unique_provinces =  list(latest_data['Province_State'].unique())"
      ]
    },
    {
      "cell_type": "markdown",
      "metadata": {
        "id": "d3DAT0foRVkU"
      },
      "source": [
        "Getting the latest information about **provinces/states** that have confirmed coronavirus cases"
      ]
    },
    {
      "cell_type": "code",
      "execution_count": null,
      "metadata": {
        "id": "n6qrF9PERTAb"
      },
      "outputs": [],
      "source": [
        "province_confirmed_cases = []\n",
        "province_country = [] \n",
        "province_death_cases = [] \n",
        "province_incidence_rate = []\n",
        "province_mortality_rate = [] \n",
        "\n",
        "no_cases = [] \n",
        "for i in unique_provinces:\n",
        "    cases = latest_data[latest_data['Province_State']==i]['Confirmed'].sum()\n",
        "    if cases > 0:\n",
        "        province_confirmed_cases.append(cases)\n",
        "    else:\n",
        "        no_cases.append(i)\n",
        " "
      ]
    },
    {
      "cell_type": "markdown",
      "metadata": {
        "id": "quMOotnpjAjW"
      },
      "source": [
        "Remove areas with no confirmed cases"
      ]
    },
    {
      "cell_type": "code",
      "execution_count": null,
      "metadata": {
        "id": "-9poVxQvi_rz"
      },
      "outputs": [],
      "source": [
        "for i in no_cases:\n",
        "    unique_provinces.remove(i)\n",
        "    \n",
        "unique_provinces = [k for k, v in sorted(zip(unique_provinces, province_confirmed_cases), key=operator.itemgetter(1), reverse=True)]\n",
        "for i in range(len(unique_provinces)):\n",
        "    province_confirmed_cases[i] = latest_data[latest_data['Province_State']==unique_provinces[i]]['Confirmed'].sum()\n",
        "    province_country.append(latest_data[latest_data['Province_State']==unique_provinces[i]]['Country_Region'].unique()[0])\n",
        "    province_death_cases.append(latest_data[latest_data['Province_State']==unique_provinces[i]]['Deaths'].sum())\n",
        "    province_incidence_rate.append(latest_data[latest_data['Province_State']==unique_provinces[i]]['Incident_Rate'].sum())\n",
        "    province_mortality_rate.append(province_death_cases[i]/province_confirmed_cases[i])"
      ]
    },
    {
      "cell_type": "markdown",
      "metadata": {
        "id": "yFJQtMDnjFEk"
      },
      "source": [
        "Number of cases per province/state/city top 100"
      ]
    },
    {
      "cell_type": "code",
      "execution_count": null,
      "metadata": {
        "id": "3WBYMAMVRhNK"
      },
      "outputs": [],
      "source": [
        "province_limit = 100 \n",
        "province_df = pd.DataFrame({'Province/State Name': unique_provinces[:province_limit], 'Country': province_country[:province_limit], 'Number of Confirmed Cases': [format(int(i), ',d') for i in province_confirmed_cases[:province_limit]],\n",
        "                          'Number of Deaths': [format(int(i), ',d') for i in province_death_cases[:province_limit]], \n",
        "                        'Incidence Rate' : province_incidence_rate[:province_limit], 'Mortality Rate': province_mortality_rate[:province_limit]})\n"
      ]
    },
    {
      "cell_type": "markdown",
      "metadata": {
        "id": "21ZoAcyYjNH9"
      },
      "source": [
        "Number of cases per country/region"
      ]
    },
    {
      "cell_type": "code",
      "execution_count": null,
      "metadata": {
        "id": "ZUKdBa9pjTDZ"
      },
      "outputs": [],
      "source": [
        "province_df.style.background_gradient(cmap='Oranges')"
      ]
    },
    {
      "cell_type": "markdown",
      "metadata": {
        "id": "guZoKe6djUGW"
      },
      "source": [
        "Return the data table with province/state info for a given country"
      ]
    },
    {
      "cell_type": "code",
      "execution_count": null,
      "metadata": {
        "id": "lOEAA_YBRjjJ"
      },
      "outputs": [],
      "source": [
        "def country_table(country_name):\n",
        "    states = list(latest_data[latest_data['Country_Region']==country_name]['Province_State'].unique())\n",
        "    state_confirmed_cases = []\n",
        "    state_death_cases = [] \n",
        "    state_incidence_rate = [] \n",
        "    state_mortality_rate = [] \n",
        "\n",
        "    no_cases = [] \n",
        "    for i in states:\n",
        "        cases = latest_data[latest_data['Province_State']==i]['Confirmed'].sum()\n",
        "        if cases > 0:\n",
        "            state_confirmed_cases.append(cases)\n",
        "        else:\n",
        "            no_cases.append(i)\n",
        "\n",
        "    for i in no_cases:\n",
        "        states.remove(i)\n",
        "\n",
        "    states = [k for k, v in sorted(zip(states, state_confirmed_cases), key=operator.itemgetter(1), reverse=True)]\n",
        "    for i in range(len(states)):\n",
        "        state_confirmed_cases[i] = latest_data[latest_data['Province_State']==states[i]]['Confirmed'].sum()\n",
        "        state_death_cases.append(latest_data[latest_data['Province_State']==states[i]]['Deaths'].sum())\n",
        "        state_incidence_rate.append(latest_data[latest_data['Province_State']==states[i]]['Incident_Rate'].sum())\n",
        "        state_mortality_rate.append(state_death_cases[i]/state_confirmed_cases[i])\n",
        "        \n",
        "      \n",
        "    state_df = pd.DataFrame({'State Name': states, 'Number of Confirmed Cases': [format(int(i), ',d') for i in state_confirmed_cases],\n",
        "                              'Number of Deaths': [format(int(i), ',d') for i in state_death_cases], \n",
        "                             'Incidence Rate' : state_incidence_rate, 'Mortality Rate': state_mortality_rate})\n",
        "    # number of cases per country/region\n",
        "    return state_df"
      ]
    },
    {
      "cell_type": "markdown",
      "metadata": {
        "id": "WlH14qaXW5Pb"
      },
      "source": [
        "Data table for **India**"
      ]
    },
    {
      "cell_type": "code",
      "execution_count": null,
      "metadata": {
        "id": "vdExJVjlSKJz"
      },
      "outputs": [],
      "source": [
        "india_table = country_table('India')\n",
        "india_table.style.background_gradient(cmap='Oranges')"
      ]
    },
    {
      "cell_type": "markdown",
      "metadata": {
        "id": "HmBM82oRXERi"
      },
      "source": [
        "Data table for the **United States**"
      ]
    },
    {
      "cell_type": "code",
      "execution_count": null,
      "metadata": {
        "id": "GBBIM7vxSOjV"
      },
      "outputs": [],
      "source": [
        "us_table = country_table('US')\n",
        "us_table.style.background_gradient(cmap='Oranges')"
      ]
    },
    {
      "cell_type": "markdown",
      "metadata": {
        "id": "AmePQIyhhuC1"
      },
      "source": [
        "Data table for **Brazil**"
      ]
    },
    {
      "cell_type": "code",
      "execution_count": null,
      "metadata": {
        "id": "O5svQGKthrBQ"
      },
      "outputs": [],
      "source": [
        "brazil_table = country_table('Brazil')\n",
        "brazil_table.style.background_gradient(cmap='Oranges')"
      ]
    },
    {
      "cell_type": "markdown",
      "metadata": {
        "id": "ZEFKQKbTh1Q4"
      },
      "source": [
        "Data table for **Russia**"
      ]
    },
    {
      "cell_type": "code",
      "execution_count": null,
      "metadata": {
        "id": "Dtxhz4k4hyPe"
      },
      "outputs": [],
      "source": [
        "russia_table = country_table('Russia')\n",
        "russia_table.style.background_gradient(cmap='Oranges')"
      ]
    },
    {
      "cell_type": "markdown",
      "metadata": {
        "id": "ntd58Tiih7-v"
      },
      "source": [
        "Data table for **United Kingdom**"
      ]
    },
    {
      "cell_type": "code",
      "execution_count": null,
      "metadata": {
        "id": "MGx83JYSh5Jw"
      },
      "outputs": [],
      "source": [
        "uk_table = country_table('United Kingdom')\n",
        "uk_table.style.background_gradient(cmap='Oranges')"
      ]
    },
    {
      "cell_type": "markdown",
      "metadata": {
        "id": "S_9g5METiDsY"
      },
      "source": [
        "Data table for **France**"
      ]
    },
    {
      "cell_type": "code",
      "execution_count": null,
      "metadata": {
        "id": "GZODBC5AiBQF"
      },
      "outputs": [],
      "source": [
        "france_table = country_table('France')\n",
        "france_table.style.background_gradient(cmap='Oranges')"
      ]
    },
    {
      "cell_type": "markdown",
      "metadata": {
        "id": "UPJ_ch8JiJ1E"
      },
      "source": [
        "Data table for **Italy**"
      ]
    },
    {
      "cell_type": "code",
      "execution_count": null,
      "metadata": {
        "id": "a_FlxYR6iH5u"
      },
      "outputs": [],
      "source": [
        "italy_table = country_table('Italy')\n",
        "italy_table.style.background_gradient(cmap='Oranges')"
      ]
    },
    {
      "cell_type": "markdown",
      "metadata": {
        "id": "80wRtJtuiTgl"
      },
      "source": [
        "Data table for **Spain**"
      ]
    },
    {
      "cell_type": "code",
      "execution_count": null,
      "metadata": {
        "id": "likQv68eiNdb"
      },
      "outputs": [],
      "source": [
        "spain_table = country_table('Spain')\n",
        "spain_table.style.background_gradient(cmap='Oranges')"
      ]
    },
    {
      "cell_type": "markdown",
      "metadata": {
        "id": "iJDs9xydiaIK"
      },
      "source": [
        "Data table for **Germany**"
      ]
    },
    {
      "cell_type": "code",
      "execution_count": null,
      "metadata": {
        "id": "16P7tUfdiXwh"
      },
      "outputs": [],
      "source": [
        "germany_table = country_table('Germany')\n",
        "germany_table.style.background_gradient(cmap='Oranges')"
      ]
    },
    {
      "cell_type": "markdown",
      "metadata": {
        "id": "hqlDvWwwim65"
      },
      "source": [
        "Data table for the Netherlands"
      ]
    },
    {
      "cell_type": "code",
      "execution_count": null,
      "metadata": {
        "id": "2HRsxPfgifEs"
      },
      "outputs": [],
      "source": [
        "netherlands_table = country_table('Netherlands')\n",
        "netherlands_table.style.background_gradient(cmap='Oranges')"
      ]
    },
    {
      "cell_type": "markdown",
      "metadata": {
        "id": "gPm59bYFiuGc"
      },
      "source": [
        "Data table for **China**"
      ]
    },
    {
      "cell_type": "code",
      "execution_count": null,
      "metadata": {
        "id": "4awQQUQOirkT"
      },
      "outputs": [],
      "source": [
        "china_table = country_table('China')\n",
        "china_table.style.background_gradient(cmap='Oranges')"
      ]
    },
    {
      "cell_type": "markdown",
      "metadata": {
        "id": "me6wiMZki1vL"
      },
      "source": [
        "Data table for **Colombia**"
      ]
    },
    {
      "cell_type": "code",
      "execution_count": null,
      "metadata": {
        "id": "5y7AKaUoiznk"
      },
      "outputs": [],
      "source": [
        "colombia_table = country_table('Colombia')\n",
        "colombia_table.style.background_gradient(cmap='Oranges')"
      ]
    },
    {
      "cell_type": "markdown",
      "metadata": {
        "id": "2_u5adV7i8mM"
      },
      "source": [
        "Data table for **Mexico**"
      ]
    },
    {
      "cell_type": "code",
      "execution_count": null,
      "metadata": {
        "id": "Blc9nZ1Li5XY"
      },
      "outputs": [],
      "source": [
        "mexico_table = country_table('Mexico')\n",
        "mexico_table.style.background_gradient(cmap='Oranges')"
      ]
    },
    {
      "cell_type": "markdown",
      "metadata": {
        "id": "G-bP7ZvgjYAO"
      },
      "source": [
        "#Bar Chart Visualizations for COVID-19"
      ]
    },
    {
      "cell_type": "markdown",
      "metadata": {
        "id": "qrD6T_ntjcIJ"
      },
      "source": [
        "This offers us some insights for how different countries/regions compare in terms of covid cases."
      ]
    },
    {
      "cell_type": "code",
      "execution_count": null,
      "metadata": {
        "id": "JrAxZFAkjArH"
      },
      "outputs": [],
      "source": [
        "total_world_cases = np.sum(country_confirmed_cases)\n",
        "us_confirmed = latest_data[latest_data['Country_Region']=='US']['Confirmed'].sum()\n",
        "outside_us_confirmed = total_world_cases - us_confirmed\n",
        "\n",
        "plt.figure(figsize=(16, 9))\n",
        "plt.barh('United States', us_confirmed)\n",
        "plt.barh('Outside United States', outside_us_confirmed)\n",
        "plt.title('No of Total Coronavirus Confirmed Cases', size=20)\n",
        "plt.xticks(size=20)\n",
        "plt.yticks(size=20)\n",
        "plt.show()\n",
        "\n",
        "\n",
        "plt.figure(figsize=(16, 9))\n",
        "plt.barh('United States', us_confirmed/total_world_cases)\n",
        "plt.barh('Outside United States', outside_us_confirmed/total_world_cases)\n",
        "plt.title('No of Coronavirus Confirmed Cases Expressed in Percentage', size=20)\n",
        "plt.xticks(size=20)\n",
        "plt.yticks(size=20)\n",
        "plt.show()"
      ]
    },
    {
      "cell_type": "code",
      "execution_count": null,
      "metadata": {
        "id": "m1v0XM2PjgUM"
      },
      "outputs": [],
      "source": [
        "print('Outside United States {} cases ({}%):'.format(outside_us_confirmed, np.round((outside_us_confirmed/total_world_cases)*100, 1)))\n",
        "print('United States {} cases ({}%)'.format(us_confirmed, np.round((us_confirmed/total_world_cases)*100, 1)))\n",
        "print('Total: {} cases'.format(total_world_cases))"
      ]
    },
    {
      "cell_type": "markdown",
      "metadata": {
        "id": "opqVtpVsjrko"
      },
      "source": [
        "Only show 10 countries with the most confirmed cases, the rest are grouped into the other category"
      ]
    },
    {
      "cell_type": "code",
      "execution_count": null,
      "metadata": {
        "id": "zlQHPkGNjlxK"
      },
      "outputs": [],
      "source": [
        "visual_unique_countries = [] \n",
        "visual_confirmed_cases = []\n",
        "others = np.sum(country_confirmed_cases[10:])\n",
        "\n",
        "for i in range(len(country_confirmed_cases[:10])):\n",
        "    visual_unique_countries.append(unique_countries[i])\n",
        "    visual_confirmed_cases.append(country_confirmed_cases[i])\n",
        "    \n",
        "visual_unique_countries.append('Others')\n",
        "visual_confirmed_cases.append(others)"
      ]
    },
    {
      "cell_type": "code",
      "execution_count": null,
      "metadata": {
        "id": "ZO7Nt5eXjpCd"
      },
      "outputs": [],
      "source": [
        "def plot_bar_graphs(x, y, title):\n",
        "    plt.figure(figsize=(16, 12))\n",
        "    plt.barh(x, y)\n",
        "    plt.title(title, size=20)\n",
        "    plt.xticks(size=20)\n",
        "    plt.yticks(size=20)\n",
        "    plt.show()"
      ]
    },
    {
      "cell_type": "markdown",
      "metadata": {
        "id": "OJxHtkk_jvzl"
      },
      "source": [
        "Good for a lot x values"
      ]
    },
    {
      "cell_type": "code",
      "execution_count": null,
      "metadata": {
        "id": "qkYFceNSj0IV"
      },
      "outputs": [],
      "source": [
        "def plot_bar_graphs_tall(x, y, title):\n",
        "    plt.figure(figsize=(19, 18))\n",
        "    plt.barh(x, y)\n",
        "    plt.title(title, size=25)\n",
        "    plt.xticks(size=25)\n",
        "    plt.yticks(size=25)\n",
        "    plt.show()"
      ]
    },
    {
      "cell_type": "code",
      "execution_count": null,
      "metadata": {
        "id": "0hCO3zzqjrZt"
      },
      "outputs": [],
      "source": [
        "plot_bar_graphs(visual_unique_countries, visual_confirmed_cases, 'No of Covid-19 Confirmed Cases in Countries/Regions')"
      ]
    },
    {
      "cell_type": "code",
      "execution_count": null,
      "metadata": {
        "id": "_IZ883lwjuoN"
      },
      "outputs": [],
      "source": [
        "log_country_confirmed_cases = [math.log10(i) for i in visual_confirmed_cases]\n",
        "plot_bar_graphs(visual_unique_countries, log_country_confirmed_cases, 'Common Log No of Coronavirus Confirmed Cases in Countries/Regions')"
      ]
    },
    {
      "cell_type": "markdown",
      "metadata": {
        "id": "nksIraayj5ef"
      },
      "source": [
        "Only show 10 provinces with the most confirmed cases, the rest are grouped into the other category"
      ]
    },
    {
      "cell_type": "code",
      "execution_count": null,
      "metadata": {
        "id": "Dvs3Y41DjxuK"
      },
      "outputs": [],
      "source": [
        "visual_unique_provinces = [] \n",
        "visual_confirmed_cases2 = []\n",
        "others = np.sum(province_confirmed_cases[10:])\n",
        "for i in range(len(province_confirmed_cases[:10])):\n",
        "    visual_unique_provinces.append(unique_provinces[i])\n",
        "    visual_confirmed_cases2.append(province_confirmed_cases[i])\n",
        "\n",
        "visual_unique_provinces.append('Others')\n",
        "visual_confirmed_cases2.append(others)"
      ]
    },
    {
      "cell_type": "code",
      "execution_count": null,
      "metadata": {
        "id": "L9q5Gmb7j0WQ"
      },
      "outputs": [],
      "source": [
        "plot_bar_graphs(visual_unique_provinces, visual_confirmed_cases2, 'No of Coronavirus Confirmed Cases in Provinces/States')"
      ]
    },
    {
      "cell_type": "code",
      "execution_count": null,
      "metadata": {
        "id": "DyvDmT0yj4AM"
      },
      "outputs": [],
      "source": [
        "log_province_confirmed_cases = [math.log10(i) for i in visual_confirmed_cases2]\n",
        "plot_bar_graphs(visual_unique_provinces, log_province_confirmed_cases, 'Log of No of Coronavirus Confirmed Cases in Provinces/States')"
      ]
    },
    {
      "cell_type": "markdown",
      "metadata": {
        "id": "3lgcdVS8j-ab"
      },
      "source": [
        "#Pie Chart Visualizations for COVID-19"
      ]
    },
    {
      "cell_type": "markdown",
      "metadata": {
        "id": "dzYGGIzLkDdc"
      },
      "source": [
        "Although pie charts are not necessarily the most informative visualizations, I added them to increase some variety for the visualizations."
      ]
    },
    {
      "cell_type": "code",
      "execution_count": null,
      "metadata": {
        "id": "1opomyZmj8Mc"
      },
      "outputs": [],
      "source": [
        "def plot_pie_charts(x, y, title):\n",
        "    # more muted color \n",
        "    c = ['lightcoral', 'rosybrown', 'sandybrown', 'navajowhite', 'gold',\n",
        "        'khaki', 'lightskyblue', 'turquoise', 'lightslategrey', 'thistle', 'pink']\n",
        "    plt.figure(figsize=(20,15))\n",
        "    plt.title(title, size=20)\n",
        "    plt.pie(y, colors=c,shadow=True)\n",
        "    plt.legend(x, loc='best', fontsize=12)\n",
        "    plt.show()"
      ]
    },
    {
      "cell_type": "code",
      "execution_count": null,
      "metadata": {
        "id": "32IaN66RkGf1"
      },
      "outputs": [],
      "source": [
        "plot_pie_charts(visual_unique_countries, visual_confirmed_cases, 'Covid-19 Confirmed Cases per Country')"
      ]
    },
    {
      "cell_type": "code",
      "execution_count": null,
      "metadata": {
        "id": "eBFBBt71kIu4"
      },
      "outputs": [],
      "source": [
        "plot_pie_charts(visual_unique_provinces, visual_confirmed_cases2, 'Covid-19 Confirmed Cases per State/Province/Region')"
      ]
    },
    {
      "cell_type": "markdown",
      "metadata": {
        "id": "9ALGZ_NbkDrN"
      },
      "source": [
        "Plotting countries with regional data using a pie chart"
      ]
    },
    {
      "cell_type": "code",
      "execution_count": null,
      "metadata": {
        "id": "BNRlyQMPkMAc"
      },
      "outputs": [],
      "source": [
        "def plot_pie_country_with_regions(country_name, title):\n",
        "    regions = list(latest_data[latest_data['Country_Region']==country_name]['Province_State'].unique())\n",
        "    confirmed_cases = []\n",
        "    no_cases = [] \n",
        "    for i in regions:\n",
        "        cases = latest_data[latest_data['Province_State']==i]['Confirmed'].sum()\n",
        "        if cases > 0:\n",
        "            confirmed_cases.append(cases)\n",
        "        else:\n",
        "            no_cases.append(i)\n",
        "\n",
        "    # remove areas with no confirmed cases\n",
        "    for i in no_cases:\n",
        "        regions.remove(i)\n",
        "\n",
        "    # only show the top 5 states\n",
        "    regions = [k for k, v in sorted(zip(regions, confirmed_cases), key=operator.itemgetter(1), reverse=True)]\n",
        "\n",
        "    for i in range(len(regions)):\n",
        "        confirmed_cases[i] = latest_data[latest_data['Province_State']==regions[i]]['Confirmed'].sum()  \n",
        "    \n",
        "    # additional province/state will be considered \"others\"\n",
        "    \n",
        "    if(len(regions)>5):\n",
        "        regions_5 = regions[:5]\n",
        "        regions_5.append('Others')\n",
        "        confirmed_cases_5 = confirmed_cases[:5]\n",
        "        confirmed_cases_5.append(np.sum(confirmed_cases[5:]))\n",
        "        plot_pie_charts(regions_5,confirmed_cases_5, title)\n",
        "    else:\n",
        "        plot_pie_charts(regions,confirmed_cases, title)"
      ]
    },
    {
      "cell_type": "code",
      "execution_count": null,
      "metadata": {
        "id": "QIgfFczZkQdr"
      },
      "outputs": [],
      "source": [
        "pie_chart_countries = ['US', 'Brazil', 'Russia', 'India', 'United Kingdom', 'Italy', 'Germany', 'France', 'Spain', 'Peru', 'Mexico', 'Canada', \n",
        "                       'Australia', 'China', 'Chile', 'Colombia', 'Netherlands']\n",
        "\n",
        "for i in pie_chart_countries:\n",
        "    plot_pie_country_with_regions(i, 'Covid-19 Confirmed Cases in {}'.format(i))"
      ]
    },
    {
      "cell_type": "markdown",
      "metadata": {
        "id": "vr0N7-xgkj3M"
      },
      "source": [
        "#US Medical Data on Testing"
      ]
    },
    {
      "cell_type": "markdown",
      "metadata": {
        "id": "2w-gHIAJkm1k"
      },
      "source": [
        "This gives us some information on US coronavirus testing, which is important for getting a clear picture of the pandemic."
      ]
    },
    {
      "cell_type": "markdown",
      "metadata": {
        "id": "gktjx2EZkL9v"
      },
      "source": [
        "Replace nan with 0"
      ]
    },
    {
      "cell_type": "code",
      "execution_count": null,
      "metadata": {
        "id": "52xKu9Dokcuq"
      },
      "outputs": [],
      "source": [
        "us_medical_data.fillna(value=0, inplace=True)\n",
        "\n",
        "def plot_us_medical_data():\n",
        "    states = us_medical_data['Province_State'].unique()\n",
        "    testing_number = []\n",
        "    testing_rate = []\n",
        "    \n",
        "    for i in states:\n",
        "        testing_number.append(us_medical_data[us_medical_data['Province_State']==i]['Total_Test_Results'].sum())\n",
        "        testing_rate.append(us_medical_data[us_medical_data['Province_State']==i]['Testing_Rate'].max())\n",
        "    \n",
        "    # only show the top 15 states\n",
        "    testing_states = [k for k, v in sorted(zip(states, testing_number), key=operator.itemgetter(1), reverse=True)]\n",
        "    testing_rate_states = [k for k, v in sorted(zip(states, testing_rate), key=operator.itemgetter(1), reverse=True)]\n",
        "  \n",
        "    for i in range(len(states)):\n",
        "        testing_number[i] = us_medical_data[us_medical_data['Province_State']==testing_states[i]]['Total_Test_Results'].sum()\n",
        "        testing_rate[i] = us_medical_data[us_medical_data['Province_State']==testing_rate_states[i]]['Testing_Rate'].sum()\n",
        "    \n",
        "    top_limit = 30 \n",
        "    \n",
        "    plot_bar_graphs_tall(testing_states[:top_limit], testing_number[:top_limit], 'Total Testing per State (Top 30)')\n",
        "    plot_bar_graphs_tall(testing_rate_states[:top_limit], testing_rate[:top_limit], 'Testing Rate per 100,000 People (Top 30)')\n",
        " \n",
        "\n",
        "plot_us_medical_data()"
      ]
    },
    {
      "cell_type": "markdown",
      "metadata": {
        "id": "Z969MpKUkyQx"
      },
      "source": [
        "#Taking a look at Apple's mobility data."
      ]
    },
    {
      "cell_type": "markdown",
      "metadata": {
        "id": "p6SOTqEuk2EB"
      },
      "source": [
        "It can help us understand the relationship between mobility and daily increases in coronavirus cases. The graphs below show the data for U.S. states and territories."
      ]
    },
    {
      "cell_type": "code",
      "execution_count": null,
      "metadata": {
        "id": "FJt129-FkqXd"
      },
      "outputs": [],
      "source": [
        "def get_mobility_by_state(transport_type, state, day):\n",
        "    return apple_mobility[apple_mobility['sub-region']==state][apple_mobility['transportation_type']==transport_type].sum()[day]"
      ]
    },
    {
      "cell_type": "code",
      "execution_count": null,
      "metadata": {
        "id": "6Y5CI2Y1k41I"
      },
      "outputs": [],
      "source": [
        "apple_mobility.head()"
      ]
    },
    {
      "cell_type": "markdown",
      "metadata": {
        "id": "p4bgvAykkTIT"
      },
      "source": [
        "Sample testing"
      ]
    },
    {
      "cell_type": "code",
      "execution_count": null,
      "metadata": {
        "id": "brzWuuOyk7Dm"
      },
      "outputs": [],
      "source": [
        "get_mobility_by_state('walking', 'Connecticut', '2020-07-30')"
      ]
    },
    {
      "cell_type": "markdown",
      "metadata": {
        "id": "A9UFOMw1kYw9"
      },
      "source": [
        "Revising date to fit with the mobility format"
      ]
    },
    {
      "cell_type": "code",
      "execution_count": null,
      "metadata": {
        "id": "BgcMH11rk9A9"
      },
      "outputs": [],
      "source": [
        "revised_dates = []\n",
        "for i in range(len(dates)):\n",
        "    revised_dates.append(datetime.datetime.strptime(dates[i], '%m/%d/%y').strftime('%Y-%m-%d'))"
      ]
    },
    {
      "cell_type": "markdown",
      "metadata": {
        "id": "QB8Jze0Ikgx6"
      },
      "source": [
        "Returns true if it is a weekend, and false if it is a weekday"
      ]
    },
    {
      "cell_type": "code",
      "execution_count": null,
      "metadata": {
        "id": "G9eR06UMk_nh"
      },
      "outputs": [],
      "source": [
        "def weekday_or_weekend(date):\n",
        "    date_obj = datetime.datetime.strptime(date, '%Y-%m-%d')\n",
        "    day_of_the_week =  date_obj.weekday()\n",
        "    if (day_of_the_week+1) % 6 == 0 or (day_of_the_week+1) % 7 == 0:\n",
        "        return True \n",
        "    else:\n",
        "        return False "
      ]
    },
    {
      "cell_type": "code",
      "execution_count": null,
      "metadata": {
        "id": "ZRFN8hzHlCTz"
      },
      "outputs": [],
      "source": [
        "revised_day_since_1_22 = [i for i in range(len(revised_dates))]"
      ]
    },
    {
      "cell_type": "code",
      "execution_count": null,
      "metadata": {
        "id": "QLDy1dTklFD3"
      },
      "outputs": [],
      "source": [
        "import matplotlib.dates as mdates\n",
        "states = ['New York', 'Connecticut', 'Florida', 'California', 'Texas', 'Georgia', 'Arizona', 'Illinois', 'Louisiana', 'Ohio',\n",
        "          'Tennessee', 'North Carolina', 'South Carolina', 'Alabama', 'Missouri', 'Kansas', 'Pennsylvania', 'Wisconsin', 'Virginia', 'Massachusetts', 'Utah', 'Minnesota',\n",
        "         'Oklahoma', 'Iowa', 'Arkansas', 'Kentucky', 'Puerto Rico', 'Colorado', 'Idaho', 'New Jersey', 'Nevada', 'Maryland', 'Indiana', 'Washington', 'Montana', 'Rhode Island',\n",
        "         'New Mexico', 'Oregon', 'Vermont', 'North Dakota', 'New Hampshire']\n",
        "states.sort()"
      ]
    },
    {
      "cell_type": "markdown",
      "metadata": {
        "id": "cnpWPeGNkxC9"
      },
      "source": [
        "Making sure the dates are in sync"
      ]
    },
    {
      "cell_type": "code",
      "execution_count": null,
      "metadata": {
        "id": "FMraPt6NksZP"
      },
      "outputs": [],
      "source": [
        "mobility_latest_date = apple_mobility.columns[-1]\n",
        "mobility_latest_index = revised_dates.index(mobility_latest_date)\n",
        "\n",
        "for state in states:\n",
        "    # weekend and weekday mobility are separated \n",
        "    weekday_mobility = []\n",
        "    weekday_mobility_dates = [] \n",
        "    weekend_mobility = [] \n",
        "    weekend_mobility_dates = [] \n",
        "    \n",
        "    for i in range(len(revised_dates)):\n",
        "        if i <= mobility_latest_index:\n",
        "            if weekday_or_weekend(revised_dates[i]):\n",
        "                weekend_mobility.append(get_mobility_by_state('walking', state, revised_dates[i]))\n",
        "                weekend_mobility_dates.append(i)\n",
        "            else:\n",
        "                weekday_mobility.append(get_mobility_by_state('walking', state, revised_dates[i]))\n",
        "                weekday_mobility_dates.append(i)\n",
        "        else:\n",
        "            pass\n",
        "        \n",
        "    # remove null values (they are counted as 0)\n",
        "    for i in range(len(weekend_mobility)):       \n",
        "        if weekend_mobility[i] == 0 and i != 0:\n",
        "            weekend_mobility[i] = weekend_mobility[i-1]\n",
        "        elif weekend_mobility[i] == 0 and i == 0:\n",
        "            weekend_mobility[i] = weekend_mobility[i+1]\n",
        "        else:\n",
        "            pass\n",
        "        \n",
        "    for i in range(len(weekday_mobility)):       \n",
        "        if weekday_mobility[i] == 0 and i != 0:\n",
        "            weekday_mobility[i] = weekday_mobility[i-1]\n",
        "        elif weekday_mobility[i] == 0 and i == 0:\n",
        "            weekday_mobility[i] = weekday_mobility[i+1]\n",
        "        else:\n",
        "            pass\n",
        "    \n",
        "    \n",
        "    weekday_mobility_average = moving_average(weekday_mobility, 7)\n",
        "    weekend_mobility_average = moving_average(weekend_mobility, 7)\n",
        "    \n",
        "    plt.figure(figsize=(16, 10))\n",
        "    plt.bar(weekday_mobility_dates, weekday_mobility, color='cornflowerblue')\n",
        "    plt.plot(weekday_mobility_dates, weekday_mobility_average, color='green')\n",
        "    \n",
        "    plt.bar(weekend_mobility_dates, weekend_mobility, color='salmon')\n",
        "    plt.plot(weekend_mobility_dates, weekend_mobility_average, color='black')\n",
        "    \n",
        "    plt.legend(['Moving average (7 days) weekday mobility', 'Moving Average (7 days) weekend mobility', 'Weekday mobility', 'Weekend mobility'], prop={'size': 18})\n",
        "    plt.title('{} Walking Mobility Data'.format(state), size=25)\n",
        "    plt.xlabel('Days since 1/22', size=25)\n",
        "    plt.ylabel('Mobility Value', size=25)\n",
        "    plt.xticks(size=25)\n",
        "    plt.yticks(size=25)\n",
        "    plt.show()"
      ]
    },
    {
      "cell_type": "code",
      "execution_count": null,
      "metadata": {
        "id": "T4ZMafZ61ZOr"
      },
      "outputs": [],
      "source": [
        ""
      ]
    }
  ],
  "metadata": {
    "accelerator": "GPU",
    "colab": {
      "collapsed_sections": [
        "gJbTBlD4LEE0",
        "XGqTGjn3NJVX",
        "oFyjBeIpNuiO",
        "Xnx8fjzLREPf",
        "G-bP7ZvgjYAO",
        "3lgcdVS8j-ab",
        "vr0N7-xgkj3M",
        "Z969MpKUkyQx"
      ],
      "name": "Coronavirus Visualization & Prediction",
      "provenance": [],
      "include_colab_link": true
    },
    "kernelspec": {
      "display_name": "Python 3",
      "name": "python3"
    },
    "language_info": {
      "name": "python"
    }
  },
  "nbformat": 4,
  "nbformat_minor": 0
}